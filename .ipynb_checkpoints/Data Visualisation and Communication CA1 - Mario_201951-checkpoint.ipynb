{
 "cells": [
  {
   "cell_type": "markdown",
   "id": "6f8a045a",
   "metadata": {},
   "source": [
    "<h2 style='color:#851574'>CCT College Dublin Continuous Assessment</h2>"
   ]
  },
  {
   "cell_type": "markdown",
   "id": "6116b325",
   "metadata": {},
   "source": [
    "<span style=\"color:#155485\">Explain what you plan on doing with the data. E.g., Why did you choose the specific visualizations? Why did you choose specific observations for a visualization, how did you Engineer your Data? etc This must be detailed in the Mark-up of the Jupyter Notebook and include the rationale for your choice.</span>"
   ]
  },
  {
   "cell_type": "markdown",
   "id": "ddd6b3f0",
   "metadata": {},
   "source": [
    "<span style=\"color:#155485\">Generate a plot that details the 5 top Companies by Revenue for each Decade. E.g., Top 5 for 1950-1959, 1960-1969, etc. This must be a single plot either static or interactive.</span>"
   ]
  },
  {
   "cell_type": "code",
   "execution_count": 1,
   "id": "ba9a9b63",
   "metadata": {},
   "outputs": [],
   "source": [
    "import pandas as pd"
   ]
  },
  {
   "cell_type": "code",
   "execution_count": 3,
   "id": "dee2d5f6",
   "metadata": {},
   "outputs": [],
   "source": [
    "df = pd.read_csv('fortune500.csv')"
   ]
  },
  {
   "cell_type": "markdown",
   "id": "3f349c6d",
   "metadata": {},
   "source": [
    "<h3 style=\"color:#851574\">Grouping by Year</h3>"
   ]
  },
  {
   "cell_type": "code",
   "execution_count": 4,
   "id": "f18f99f3",
   "metadata": {},
   "outputs": [],
   "source": [
    "groupedY = df.groupby((df.Year//10)*10)"
   ]
  },
  {
   "cell_type": "code",
   "execution_count": 5,
   "id": "503a3f16",
   "metadata": {},
   "outputs": [
    {
     "data": {
      "text/plain": [
       "pandas.core.groupby.generic.DataFrameGroupBy"
      ]
     },
     "execution_count": 5,
     "metadata": {},
     "output_type": "execute_result"
    }
   ],
   "source": [
    "type(groupedY)"
   ]
  },
  {
   "cell_type": "markdown",
   "id": "42b2a8a5",
   "metadata": {},
   "source": [
    "<h3 style=\"color:#851574\">Decades Quantity</h3>"
   ]
  },
  {
   "cell_type": "code",
   "execution_count": 6,
   "id": "c55c7462",
   "metadata": {},
   "outputs": [
    {
     "name": "stdout",
     "output_type": "stream",
     "text": [
      "1950\n",
      "1960\n",
      "1970\n",
      "1980\n",
      "1990\n",
      "2000\n"
     ]
    }
   ],
   "source": [
    "for year, grp in groupedY:\n",
    "    print(year)"
   ]
  },
  {
   "cell_type": "markdown",
   "id": "3f839bc5",
   "metadata": {},
   "source": [
    "<h3 style=\"color:#851574\">Top 5 companies grouped by year</h3>"
   ]
  },
  {
   "cell_type": "code",
   "execution_count": 7,
   "id": "3ea1011b",
   "metadata": {},
   "outputs": [
    {
     "data": {
      "text/html": [
       "<div>\n",
       "<style scoped>\n",
       "    .dataframe tbody tr th:only-of-type {\n",
       "        vertical-align: middle;\n",
       "    }\n",
       "\n",
       "    .dataframe tbody tr th {\n",
       "        vertical-align: top;\n",
       "    }\n",
       "\n",
       "    .dataframe thead th {\n",
       "        text-align: right;\n",
       "    }\n",
       "</style>\n",
       "<table border=\"1\" class=\"dataframe\">\n",
       "  <thead>\n",
       "    <tr style=\"text-align: right;\">\n",
       "      <th></th>\n",
       "      <th>Year</th>\n",
       "      <th>Rank</th>\n",
       "      <th>Company</th>\n",
       "      <th>Revenue (in millions)</th>\n",
       "    </tr>\n",
       "  </thead>\n",
       "  <tbody>\n",
       "    <tr>\n",
       "      <th>0</th>\n",
       "      <td>1955</td>\n",
       "      <td>1</td>\n",
       "      <td>General Motors</td>\n",
       "      <td>9823.5</td>\n",
       "    </tr>\n",
       "    <tr>\n",
       "      <th>1</th>\n",
       "      <td>1955</td>\n",
       "      <td>2</td>\n",
       "      <td>Exxon Mobil</td>\n",
       "      <td>5661.4</td>\n",
       "    </tr>\n",
       "    <tr>\n",
       "      <th>2</th>\n",
       "      <td>1955</td>\n",
       "      <td>3</td>\n",
       "      <td>U.S. Steel</td>\n",
       "      <td>3250.4</td>\n",
       "    </tr>\n",
       "    <tr>\n",
       "      <th>3</th>\n",
       "      <td>1955</td>\n",
       "      <td>4</td>\n",
       "      <td>General Electric</td>\n",
       "      <td>2959.1</td>\n",
       "    </tr>\n",
       "    <tr>\n",
       "      <th>4</th>\n",
       "      <td>1955</td>\n",
       "      <td>5</td>\n",
       "      <td>Esmark</td>\n",
       "      <td>2510.8</td>\n",
       "    </tr>\n",
       "    <tr>\n",
       "      <th>2500</th>\n",
       "      <td>1960</td>\n",
       "      <td>1</td>\n",
       "      <td>General Motors</td>\n",
       "      <td>11233.1</td>\n",
       "    </tr>\n",
       "    <tr>\n",
       "      <th>2501</th>\n",
       "      <td>1960</td>\n",
       "      <td>2</td>\n",
       "      <td>Exxon Mobil</td>\n",
       "      <td>7910.7</td>\n",
       "    </tr>\n",
       "    <tr>\n",
       "      <th>2502</th>\n",
       "      <td>1960</td>\n",
       "      <td>3</td>\n",
       "      <td>Ford Motor</td>\n",
       "      <td>5356.9</td>\n",
       "    </tr>\n",
       "    <tr>\n",
       "      <th>2503</th>\n",
       "      <td>1960</td>\n",
       "      <td>4</td>\n",
       "      <td>General Electric</td>\n",
       "      <td>4349.5</td>\n",
       "    </tr>\n",
       "    <tr>\n",
       "      <th>2504</th>\n",
       "      <td>1960</td>\n",
       "      <td>5</td>\n",
       "      <td>U.S. Steel</td>\n",
       "      <td>3643.0</td>\n",
       "    </tr>\n",
       "    <tr>\n",
       "      <th>7500</th>\n",
       "      <td>1970</td>\n",
       "      <td>1</td>\n",
       "      <td>General Motors</td>\n",
       "      <td>24295.1</td>\n",
       "    </tr>\n",
       "    <tr>\n",
       "      <th>7501</th>\n",
       "      <td>1970</td>\n",
       "      <td>2</td>\n",
       "      <td>Exxon Mobil</td>\n",
       "      <td>14929.8</td>\n",
       "    </tr>\n",
       "    <tr>\n",
       "      <th>7502</th>\n",
       "      <td>1970</td>\n",
       "      <td>3</td>\n",
       "      <td>Ford Motor</td>\n",
       "      <td>14755.6</td>\n",
       "    </tr>\n",
       "    <tr>\n",
       "      <th>7503</th>\n",
       "      <td>1970</td>\n",
       "      <td>4</td>\n",
       "      <td>General Electric</td>\n",
       "      <td>8448.0</td>\n",
       "    </tr>\n",
       "    <tr>\n",
       "      <th>7504</th>\n",
       "      <td>1970</td>\n",
       "      <td>5</td>\n",
       "      <td>Intl. Business Machines</td>\n",
       "      <td>7197.3</td>\n",
       "    </tr>\n",
       "    <tr>\n",
       "      <th>12500</th>\n",
       "      <td>1980</td>\n",
       "      <td>1</td>\n",
       "      <td>Exxon Mobil</td>\n",
       "      <td>79106.5</td>\n",
       "    </tr>\n",
       "    <tr>\n",
       "      <th>12501</th>\n",
       "      <td>1980</td>\n",
       "      <td>2</td>\n",
       "      <td>General Motors</td>\n",
       "      <td>66311.2</td>\n",
       "    </tr>\n",
       "    <tr>\n",
       "      <th>12502</th>\n",
       "      <td>1980</td>\n",
       "      <td>3</td>\n",
       "      <td>Mobil</td>\n",
       "      <td>44720.9</td>\n",
       "    </tr>\n",
       "    <tr>\n",
       "      <th>12503</th>\n",
       "      <td>1980</td>\n",
       "      <td>4</td>\n",
       "      <td>Ford Motor</td>\n",
       "      <td>43513.7</td>\n",
       "    </tr>\n",
       "    <tr>\n",
       "      <th>12504</th>\n",
       "      <td>1980</td>\n",
       "      <td>5</td>\n",
       "      <td>Texaco</td>\n",
       "      <td>38350.4</td>\n",
       "    </tr>\n",
       "    <tr>\n",
       "      <th>17500</th>\n",
       "      <td>1990</td>\n",
       "      <td>1</td>\n",
       "      <td>General Motors</td>\n",
       "      <td>126974.3</td>\n",
       "    </tr>\n",
       "    <tr>\n",
       "      <th>17501</th>\n",
       "      <td>1990</td>\n",
       "      <td>2</td>\n",
       "      <td>Ford Motor</td>\n",
       "      <td>96932.6</td>\n",
       "    </tr>\n",
       "    <tr>\n",
       "      <th>17502</th>\n",
       "      <td>1990</td>\n",
       "      <td>3</td>\n",
       "      <td>Exxon Mobil</td>\n",
       "      <td>86656.0</td>\n",
       "    </tr>\n",
       "    <tr>\n",
       "      <th>17503</th>\n",
       "      <td>1990</td>\n",
       "      <td>4</td>\n",
       "      <td>Intl. Business Machines</td>\n",
       "      <td>63438.0</td>\n",
       "    </tr>\n",
       "    <tr>\n",
       "      <th>17504</th>\n",
       "      <td>1990</td>\n",
       "      <td>5</td>\n",
       "      <td>General Electric</td>\n",
       "      <td>55264.0</td>\n",
       "    </tr>\n",
       "    <tr>\n",
       "      <th>22500</th>\n",
       "      <td>2000</td>\n",
       "      <td>1</td>\n",
       "      <td>General Motors</td>\n",
       "      <td>189058.0</td>\n",
       "    </tr>\n",
       "    <tr>\n",
       "      <th>22501</th>\n",
       "      <td>2000</td>\n",
       "      <td>2</td>\n",
       "      <td>Wal-Mart Stores</td>\n",
       "      <td>166809.0</td>\n",
       "    </tr>\n",
       "    <tr>\n",
       "      <th>22502</th>\n",
       "      <td>2000</td>\n",
       "      <td>3</td>\n",
       "      <td>Exxon Mobil</td>\n",
       "      <td>163881.0</td>\n",
       "    </tr>\n",
       "    <tr>\n",
       "      <th>22503</th>\n",
       "      <td>2000</td>\n",
       "      <td>4</td>\n",
       "      <td>Ford Motor</td>\n",
       "      <td>162558.0</td>\n",
       "    </tr>\n",
       "    <tr>\n",
       "      <th>22504</th>\n",
       "      <td>2000</td>\n",
       "      <td>5</td>\n",
       "      <td>General Electric</td>\n",
       "      <td>111630.0</td>\n",
       "    </tr>\n",
       "  </tbody>\n",
       "</table>\n",
       "</div>"
      ],
      "text/plain": [
       "       Year  Rank                  Company  Revenue (in millions)\n",
       "0      1955     1           General Motors                 9823.5\n",
       "1      1955     2              Exxon Mobil                 5661.4\n",
       "2      1955     3               U.S. Steel                 3250.4\n",
       "3      1955     4         General Electric                 2959.1\n",
       "4      1955     5                   Esmark                 2510.8\n",
       "2500   1960     1           General Motors                11233.1\n",
       "2501   1960     2              Exxon Mobil                 7910.7\n",
       "2502   1960     3               Ford Motor                 5356.9\n",
       "2503   1960     4         General Electric                 4349.5\n",
       "2504   1960     5               U.S. Steel                 3643.0\n",
       "7500   1970     1           General Motors                24295.1\n",
       "7501   1970     2              Exxon Mobil                14929.8\n",
       "7502   1970     3               Ford Motor                14755.6\n",
       "7503   1970     4         General Electric                 8448.0\n",
       "7504   1970     5  Intl. Business Machines                 7197.3\n",
       "12500  1980     1              Exxon Mobil                79106.5\n",
       "12501  1980     2           General Motors                66311.2\n",
       "12502  1980     3                    Mobil                44720.9\n",
       "12503  1980     4               Ford Motor                43513.7\n",
       "12504  1980     5                   Texaco                38350.4\n",
       "17500  1990     1           General Motors               126974.3\n",
       "17501  1990     2               Ford Motor                96932.6\n",
       "17502  1990     3              Exxon Mobil                86656.0\n",
       "17503  1990     4  Intl. Business Machines                63438.0\n",
       "17504  1990     5         General Electric                55264.0\n",
       "22500  2000     1           General Motors               189058.0\n",
       "22501  2000     2          Wal-Mart Stores               166809.0\n",
       "22502  2000     3              Exxon Mobil               163881.0\n",
       "22503  2000     4               Ford Motor               162558.0\n",
       "22504  2000     5         General Electric               111630.0"
      ]
     },
     "execution_count": 7,
     "metadata": {},
     "output_type": "execute_result"
    }
   ],
   "source": [
    "groupedY.head(5).sort_values(by=['Year','Rank']).loc[:, df.columns!='Profit (in millions)']"
   ]
  },
  {
   "cell_type": "markdown",
   "id": "8ebaa3c9",
   "metadata": {},
   "source": [
    "---"
   ]
  },
  {
   "cell_type": "markdown",
   "id": "e14ac6c5",
   "metadata": {},
   "source": [
    "<h3 style=\"color:#851574\">Plot</h3>"
   ]
  }
 ],
 "metadata": {
  "kernelspec": {
   "display_name": "Python 3 (ipykernel)",
   "language": "python",
   "name": "python3"
  },
  "language_info": {
   "codemirror_mode": {
    "name": "ipython",
    "version": 3
   },
   "file_extension": ".py",
   "mimetype": "text/x-python",
   "name": "python",
   "nbconvert_exporter": "python",
   "pygments_lexer": "ipython3",
   "version": "3.9.12"
  }
 },
 "nbformat": 4,
 "nbformat_minor": 5
}
