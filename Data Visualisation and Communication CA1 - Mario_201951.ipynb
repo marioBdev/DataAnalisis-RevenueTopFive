{
 "cells": [
  {
   "cell_type": "markdown",
   "id": "db05d392",
   "metadata": {},
   "source": [
    "![](CodeLand_header_word_0.jpeg)"
   ]
  },
  {
   "cell_type": "markdown",
   "id": "6f8a045a",
   "metadata": {},
   "source": [
    "<h2 style='color:#851574'>CCT College Dublin Continuous Assessment</h2>"
   ]
  },
  {
   "cell_type": "markdown",
   "id": "a7eb5ab6",
   "metadata": {},
   "source": [
    "<span style=\"color:#155485\">Explain what you plan on doing with the data. E.g., Why did you choose the specific visualizations? Why did you choose specific observations for a visualization, how did you Engineer your Data? etc This must be detailed in the Mark-up of the Jupyter Notebook and include the rationale for your choice.</span>"
   ]
  },
  {
   "cell_type": "markdown",
   "id": "c09a3b84",
   "metadata": {},
   "source": [
    "<span style=\"color:#155485\">Generate a plot that details the 5 top Companies by Revenue for each Decade. E.g., Top 5 for 1950-1959, 1960-1969, etc. This must be a single plot either static or interactive.</span>"
   ]
  },
  {
   "cell_type": "code",
   "execution_count": 64,
   "id": "ba9a9b63",
   "metadata": {},
   "outputs": [],
   "source": [
    "import pandas as pd\n",
    "from raceplotly.plots import barplot"
   ]
  },
  {
   "cell_type": "code",
   "execution_count": 65,
   "id": "0183ca8b",
   "metadata": {},
   "outputs": [],
   "source": [
    "df = pd.read_csv('fortune500.csv')"
   ]
  },
  {
   "cell_type": "code",
   "execution_count": 66,
   "id": "e5bb8bf3",
   "metadata": {},
   "outputs": [
    {
     "data": {
      "text/html": [
       "<div>\n",
       "<style scoped>\n",
       "    .dataframe tbody tr th:only-of-type {\n",
       "        vertical-align: middle;\n",
       "    }\n",
       "\n",
       "    .dataframe tbody tr th {\n",
       "        vertical-align: top;\n",
       "    }\n",
       "\n",
       "    .dataframe thead th {\n",
       "        text-align: right;\n",
       "    }\n",
       "</style>\n",
       "<table border=\"1\" class=\"dataframe\">\n",
       "  <thead>\n",
       "    <tr style=\"text-align: right;\">\n",
       "      <th></th>\n",
       "      <th>Year</th>\n",
       "      <th>Rank</th>\n",
       "      <th>Company</th>\n",
       "      <th>Revenue (in millions)</th>\n",
       "      <th>Profit (in millions)</th>\n",
       "    </tr>\n",
       "  </thead>\n",
       "  <tbody>\n",
       "    <tr>\n",
       "      <th>0</th>\n",
       "      <td>1955</td>\n",
       "      <td>1</td>\n",
       "      <td>General Motors</td>\n",
       "      <td>9823.5</td>\n",
       "      <td>806</td>\n",
       "    </tr>\n",
       "    <tr>\n",
       "      <th>1</th>\n",
       "      <td>1955</td>\n",
       "      <td>2</td>\n",
       "      <td>Exxon Mobil</td>\n",
       "      <td>5661.4</td>\n",
       "      <td>584.8</td>\n",
       "    </tr>\n",
       "    <tr>\n",
       "      <th>2</th>\n",
       "      <td>1955</td>\n",
       "      <td>3</td>\n",
       "      <td>U.S. Steel</td>\n",
       "      <td>3250.4</td>\n",
       "      <td>195.4</td>\n",
       "    </tr>\n",
       "    <tr>\n",
       "      <th>3</th>\n",
       "      <td>1955</td>\n",
       "      <td>4</td>\n",
       "      <td>General Electric</td>\n",
       "      <td>2959.1</td>\n",
       "      <td>212.6</td>\n",
       "    </tr>\n",
       "    <tr>\n",
       "      <th>4</th>\n",
       "      <td>1955</td>\n",
       "      <td>5</td>\n",
       "      <td>Esmark</td>\n",
       "      <td>2510.8</td>\n",
       "      <td>19.1</td>\n",
       "    </tr>\n",
       "    <tr>\n",
       "      <th>...</th>\n",
       "      <td>...</td>\n",
       "      <td>...</td>\n",
       "      <td>...</td>\n",
       "      <td>...</td>\n",
       "      <td>...</td>\n",
       "    </tr>\n",
       "    <tr>\n",
       "      <th>25495</th>\n",
       "      <td>2005</td>\n",
       "      <td>496</td>\n",
       "      <td>Wm. Wrigley Jr.</td>\n",
       "      <td>3648.6</td>\n",
       "      <td>493</td>\n",
       "    </tr>\n",
       "    <tr>\n",
       "      <th>25496</th>\n",
       "      <td>2005</td>\n",
       "      <td>497</td>\n",
       "      <td>Peabody Energy</td>\n",
       "      <td>3631.6</td>\n",
       "      <td>175.4</td>\n",
       "    </tr>\n",
       "    <tr>\n",
       "      <th>25497</th>\n",
       "      <td>2005</td>\n",
       "      <td>498</td>\n",
       "      <td>Wendy's International</td>\n",
       "      <td>3630.4</td>\n",
       "      <td>57.8</td>\n",
       "    </tr>\n",
       "    <tr>\n",
       "      <th>25498</th>\n",
       "      <td>2005</td>\n",
       "      <td>499</td>\n",
       "      <td>Kindred Healthcare</td>\n",
       "      <td>3616.6</td>\n",
       "      <td>70.6</td>\n",
       "    </tr>\n",
       "    <tr>\n",
       "      <th>25499</th>\n",
       "      <td>2005</td>\n",
       "      <td>500</td>\n",
       "      <td>Cincinnati Financial</td>\n",
       "      <td>3614.0</td>\n",
       "      <td>584</td>\n",
       "    </tr>\n",
       "  </tbody>\n",
       "</table>\n",
       "<p>25500 rows × 5 columns</p>\n",
       "</div>"
      ],
      "text/plain": [
       "       Year  Rank                Company  Revenue (in millions)  \\\n",
       "0      1955     1         General Motors                 9823.5   \n",
       "1      1955     2            Exxon Mobil                 5661.4   \n",
       "2      1955     3             U.S. Steel                 3250.4   \n",
       "3      1955     4       General Electric                 2959.1   \n",
       "4      1955     5                 Esmark                 2510.8   \n",
       "...     ...   ...                    ...                    ...   \n",
       "25495  2005   496        Wm. Wrigley Jr.                 3648.6   \n",
       "25496  2005   497         Peabody Energy                 3631.6   \n",
       "25497  2005   498  Wendy's International                 3630.4   \n",
       "25498  2005   499     Kindred Healthcare                 3616.6   \n",
       "25499  2005   500   Cincinnati Financial                 3614.0   \n",
       "\n",
       "      Profit (in millions)  \n",
       "0                      806  \n",
       "1                    584.8  \n",
       "2                    195.4  \n",
       "3                    212.6  \n",
       "4                     19.1  \n",
       "...                    ...  \n",
       "25495                  493  \n",
       "25496                175.4  \n",
       "25497                 57.8  \n",
       "25498                 70.6  \n",
       "25499                  584  \n",
       "\n",
       "[25500 rows x 5 columns]"
      ]
     },
     "execution_count": 66,
     "metadata": {},
     "output_type": "execute_result"
    }
   ],
   "source": [
    "df.loc[:, df.columns!='color']"
   ]
  },
  {
   "cell_type": "markdown",
   "id": "210d08a0",
   "metadata": {},
   "source": [
    "<h3 style=\"color:#851574\">Revenue's sum based on the Company</h3>"
   ]
  },
  {
   "cell_type": "markdown",
   "id": "5da45bab",
   "metadata": {},
   "source": [
    "<span style=\"color:#155485\">I have decided do get in the first place the sum of variable (Revenue (in millions)  getting the calculaions done up to the fron and then manipulate the data to display as it has been requested</span>"
   ]
  },
  {
   "cell_type": "code",
   "execution_count": 87,
   "id": "2cefd481",
   "metadata": {},
   "outputs": [],
   "source": [
    "b = df.groupby(['Company','Year',])['Revenue (in millions)'].sum()"
   ]
  },
  {
   "cell_type": "markdown",
   "id": "c0ae2d6f",
   "metadata": {},
   "source": [
    "<h3 style=\"color:#851574\">Top 5 companies grouped by year</h3>"
   ]
  },
  {
   "cell_type": "code",
   "execution_count": 90,
   "id": "d94e5fa4",
   "metadata": {},
   "outputs": [
    {
     "data": {
      "text/html": [
       "<div>\n",
       "<style scoped>\n",
       "    .dataframe tbody tr th:only-of-type {\n",
       "        vertical-align: middle;\n",
       "    }\n",
       "\n",
       "    .dataframe tbody tr th {\n",
       "        vertical-align: top;\n",
       "    }\n",
       "\n",
       "    .dataframe thead th {\n",
       "        text-align: right;\n",
       "    }\n",
       "</style>\n",
       "<table border=\"1\" class=\"dataframe\">\n",
       "  <thead>\n",
       "    <tr style=\"text-align: right;\">\n",
       "      <th></th>\n",
       "      <th>Year</th>\n",
       "      <th>Rank</th>\n",
       "      <th>Company</th>\n",
       "      <th>Revenue (in millions)</th>\n",
       "    </tr>\n",
       "  </thead>\n",
       "  <tbody>\n",
       "    <tr>\n",
       "      <th>0</th>\n",
       "      <td>1955</td>\n",
       "      <td>1</td>\n",
       "      <td>General Motors</td>\n",
       "      <td>9823.5</td>\n",
       "    </tr>\n",
       "    <tr>\n",
       "      <th>1</th>\n",
       "      <td>1955</td>\n",
       "      <td>2</td>\n",
       "      <td>Exxon Mobil</td>\n",
       "      <td>5661.4</td>\n",
       "    </tr>\n",
       "    <tr>\n",
       "      <th>2</th>\n",
       "      <td>1955</td>\n",
       "      <td>3</td>\n",
       "      <td>U.S. Steel</td>\n",
       "      <td>3250.4</td>\n",
       "    </tr>\n",
       "    <tr>\n",
       "      <th>3</th>\n",
       "      <td>1955</td>\n",
       "      <td>4</td>\n",
       "      <td>General Electric</td>\n",
       "      <td>2959.1</td>\n",
       "    </tr>\n",
       "    <tr>\n",
       "      <th>4</th>\n",
       "      <td>1955</td>\n",
       "      <td>5</td>\n",
       "      <td>Esmark</td>\n",
       "      <td>2510.8</td>\n",
       "    </tr>\n",
       "    <tr>\n",
       "      <th>2500</th>\n",
       "      <td>1960</td>\n",
       "      <td>1</td>\n",
       "      <td>General Motors</td>\n",
       "      <td>11233.1</td>\n",
       "    </tr>\n",
       "    <tr>\n",
       "      <th>2501</th>\n",
       "      <td>1960</td>\n",
       "      <td>2</td>\n",
       "      <td>Exxon Mobil</td>\n",
       "      <td>7910.7</td>\n",
       "    </tr>\n",
       "    <tr>\n",
       "      <th>2502</th>\n",
       "      <td>1960</td>\n",
       "      <td>3</td>\n",
       "      <td>Ford Motor</td>\n",
       "      <td>5356.9</td>\n",
       "    </tr>\n",
       "    <tr>\n",
       "      <th>2503</th>\n",
       "      <td>1960</td>\n",
       "      <td>4</td>\n",
       "      <td>General Electric</td>\n",
       "      <td>4349.5</td>\n",
       "    </tr>\n",
       "    <tr>\n",
       "      <th>2504</th>\n",
       "      <td>1960</td>\n",
       "      <td>5</td>\n",
       "      <td>U.S. Steel</td>\n",
       "      <td>3643.0</td>\n",
       "    </tr>\n",
       "    <tr>\n",
       "      <th>7500</th>\n",
       "      <td>1970</td>\n",
       "      <td>1</td>\n",
       "      <td>General Motors</td>\n",
       "      <td>24295.1</td>\n",
       "    </tr>\n",
       "    <tr>\n",
       "      <th>7501</th>\n",
       "      <td>1970</td>\n",
       "      <td>2</td>\n",
       "      <td>Exxon Mobil</td>\n",
       "      <td>14929.8</td>\n",
       "    </tr>\n",
       "    <tr>\n",
       "      <th>7502</th>\n",
       "      <td>1970</td>\n",
       "      <td>3</td>\n",
       "      <td>Ford Motor</td>\n",
       "      <td>14755.6</td>\n",
       "    </tr>\n",
       "    <tr>\n",
       "      <th>7503</th>\n",
       "      <td>1970</td>\n",
       "      <td>4</td>\n",
       "      <td>General Electric</td>\n",
       "      <td>8448.0</td>\n",
       "    </tr>\n",
       "    <tr>\n",
       "      <th>7504</th>\n",
       "      <td>1970</td>\n",
       "      <td>5</td>\n",
       "      <td>Intl. Business Machines</td>\n",
       "      <td>7197.3</td>\n",
       "    </tr>\n",
       "    <tr>\n",
       "      <th>12500</th>\n",
       "      <td>1980</td>\n",
       "      <td>1</td>\n",
       "      <td>Exxon Mobil</td>\n",
       "      <td>79106.5</td>\n",
       "    </tr>\n",
       "    <tr>\n",
       "      <th>12501</th>\n",
       "      <td>1980</td>\n",
       "      <td>2</td>\n",
       "      <td>General Motors</td>\n",
       "      <td>66311.2</td>\n",
       "    </tr>\n",
       "    <tr>\n",
       "      <th>12502</th>\n",
       "      <td>1980</td>\n",
       "      <td>3</td>\n",
       "      <td>Mobil</td>\n",
       "      <td>44720.9</td>\n",
       "    </tr>\n",
       "    <tr>\n",
       "      <th>12503</th>\n",
       "      <td>1980</td>\n",
       "      <td>4</td>\n",
       "      <td>Ford Motor</td>\n",
       "      <td>43513.7</td>\n",
       "    </tr>\n",
       "    <tr>\n",
       "      <th>12504</th>\n",
       "      <td>1980</td>\n",
       "      <td>5</td>\n",
       "      <td>Texaco</td>\n",
       "      <td>38350.4</td>\n",
       "    </tr>\n",
       "    <tr>\n",
       "      <th>17500</th>\n",
       "      <td>1990</td>\n",
       "      <td>1</td>\n",
       "      <td>General Motors</td>\n",
       "      <td>126974.3</td>\n",
       "    </tr>\n",
       "    <tr>\n",
       "      <th>17501</th>\n",
       "      <td>1990</td>\n",
       "      <td>2</td>\n",
       "      <td>Ford Motor</td>\n",
       "      <td>96932.6</td>\n",
       "    </tr>\n",
       "    <tr>\n",
       "      <th>17502</th>\n",
       "      <td>1990</td>\n",
       "      <td>3</td>\n",
       "      <td>Exxon Mobil</td>\n",
       "      <td>86656.0</td>\n",
       "    </tr>\n",
       "    <tr>\n",
       "      <th>17503</th>\n",
       "      <td>1990</td>\n",
       "      <td>4</td>\n",
       "      <td>Intl. Business Machines</td>\n",
       "      <td>63438.0</td>\n",
       "    </tr>\n",
       "    <tr>\n",
       "      <th>17504</th>\n",
       "      <td>1990</td>\n",
       "      <td>5</td>\n",
       "      <td>General Electric</td>\n",
       "      <td>55264.0</td>\n",
       "    </tr>\n",
       "    <tr>\n",
       "      <th>22500</th>\n",
       "      <td>2000</td>\n",
       "      <td>1</td>\n",
       "      <td>General Motors</td>\n",
       "      <td>189058.0</td>\n",
       "    </tr>\n",
       "    <tr>\n",
       "      <th>22501</th>\n",
       "      <td>2000</td>\n",
       "      <td>2</td>\n",
       "      <td>Wal-Mart Stores</td>\n",
       "      <td>166809.0</td>\n",
       "    </tr>\n",
       "    <tr>\n",
       "      <th>22502</th>\n",
       "      <td>2000</td>\n",
       "      <td>3</td>\n",
       "      <td>Exxon Mobil</td>\n",
       "      <td>163881.0</td>\n",
       "    </tr>\n",
       "    <tr>\n",
       "      <th>22503</th>\n",
       "      <td>2000</td>\n",
       "      <td>4</td>\n",
       "      <td>Ford Motor</td>\n",
       "      <td>162558.0</td>\n",
       "    </tr>\n",
       "    <tr>\n",
       "      <th>22504</th>\n",
       "      <td>2000</td>\n",
       "      <td>5</td>\n",
       "      <td>General Electric</td>\n",
       "      <td>111630.0</td>\n",
       "    </tr>\n",
       "  </tbody>\n",
       "</table>\n",
       "</div>"
      ],
      "text/plain": [
       "       Year  Rank                  Company  Revenue (in millions)\n",
       "0      1955     1           General Motors                 9823.5\n",
       "1      1955     2              Exxon Mobil                 5661.4\n",
       "2      1955     3               U.S. Steel                 3250.4\n",
       "3      1955     4         General Electric                 2959.1\n",
       "4      1955     5                   Esmark                 2510.8\n",
       "2500   1960     1           General Motors                11233.1\n",
       "2501   1960     2              Exxon Mobil                 7910.7\n",
       "2502   1960     3               Ford Motor                 5356.9\n",
       "2503   1960     4         General Electric                 4349.5\n",
       "2504   1960     5               U.S. Steel                 3643.0\n",
       "7500   1970     1           General Motors                24295.1\n",
       "7501   1970     2              Exxon Mobil                14929.8\n",
       "7502   1970     3               Ford Motor                14755.6\n",
       "7503   1970     4         General Electric                 8448.0\n",
       "7504   1970     5  Intl. Business Machines                 7197.3\n",
       "12500  1980     1              Exxon Mobil                79106.5\n",
       "12501  1980     2           General Motors                66311.2\n",
       "12502  1980     3                    Mobil                44720.9\n",
       "12503  1980     4               Ford Motor                43513.7\n",
       "12504  1980     5                   Texaco                38350.4\n",
       "17500  1990     1           General Motors               126974.3\n",
       "17501  1990     2               Ford Motor                96932.6\n",
       "17502  1990     3              Exxon Mobil                86656.0\n",
       "17503  1990     4  Intl. Business Machines                63438.0\n",
       "17504  1990     5         General Electric                55264.0\n",
       "22500  2000     1           General Motors               189058.0\n",
       "22501  2000     2          Wal-Mart Stores               166809.0\n",
       "22502  2000     3              Exxon Mobil               163881.0\n",
       "22503  2000     4               Ford Motor               162558.0\n",
       "22504  2000     5         General Electric               111630.0"
      ]
     },
     "execution_count": 90,
     "metadata": {},
     "output_type": "execute_result"
    }
   ],
   "source": [
    "df.groupby((df.Year//10)*10).head(5).loc[:, df.columns!='Profit (in millions)']"
   ]
  },
  {
   "cell_type": "markdown",
   "id": "63aed81d",
   "metadata": {},
   "source": [
    "<h3 style=\"color:#851574\"> Min and Max Revenue (in millions)</h3>"
   ]
  },
  {
   "cell_type": "markdown",
   "id": "4071f413",
   "metadata": {},
   "source": [
    "<span style=\"color:#155485\">I have got the minimum and maxiumum to define the range of the plotting.</span>"
   ]
  },
  {
   "cell_type": "code",
   "execution_count": 18,
   "id": "fd49dddd",
   "metadata": {},
   "outputs": [
    {
     "data": {
      "text/plain": [
       "49.7"
      ]
     },
     "execution_count": 18,
     "metadata": {},
     "output_type": "execute_result"
    }
   ],
   "source": [
    "df['Revenue (in millions)'].min()"
   ]
  },
  {
   "cell_type": "code",
   "execution_count": 19,
   "id": "17ccd9b8",
   "metadata": {
    "scrolled": true
   },
   "outputs": [
    {
     "data": {
      "text/plain": [
       "288189.0"
      ]
     },
     "execution_count": 19,
     "metadata": {},
     "output_type": "execute_result"
    }
   ],
   "source": [
    "df['Revenue (in millions)'].max()"
   ]
  },
  {
   "cell_type": "markdown",
   "id": "324c1d66",
   "metadata": {},
   "source": [
    "---"
   ]
  },
  {
   "cell_type": "markdown",
   "id": "1a4b5fba",
   "metadata": {},
   "source": [
    "<h3 style=\"color:#851574\">Plot</h3>"
   ]
  },
  {
   "cell_type": "code",
   "execution_count": 91,
   "id": "bde89c8e",
   "metadata": {},
   "outputs": [
    {
     "data": {
      "application/vnd.plotly.v1+json": {
       "config": {
        "plotlyServerURL": "https://plot.ly"
       },
       "data": [
        {
         "cliponaxis": false,
         "hoverinfo": "all",
         "marker": {
          "color": [
           "rgb(251, 111, 235)",
           "rgb(170, 209, 149)",
           "rgb(44, 238, 203)",
           "rgb(74, 209, 120)",
           "rgb(37, 41, 207)",
           "rgb(227, 61, 136)",
           "rgb(66, 15, 109)",
           "rgb(175, 10, 197)",
           "rgb(251, 101, 90)",
           "rgb(66, 45, 73)"
          ]
         },
         "orientation": "h",
         "textangle": 0,
         "textposition": "outside",
         "texttemplate": "%{y}<br>%{x:.4s}",
         "type": "bar",
         "x": [
          1687.7,
          1703.6,
          1705.3,
          2056.1,
          2071.6,
          2510.8,
          2959.1,
          3250.4,
          5661.4,
          9823.5
         ],
         "y": [
          "DuPont",
          "Mobil",
          "Gulf Oil",
          "Armour",
          "Chrysler",
          "Esmark",
          "General Electric",
          "U.S. Steel",
          "Exxon Mobil",
          "General Motors"
         ]
        }
       ],
       "frames": [
        {
         "data": [
          {
           "cliponaxis": false,
           "hoverinfo": "all",
           "hovertemplate": "<extra></extra>",
           "marker": {
            "color": [
             "rgb(251, 111, 235)",
             "rgb(170, 209, 149)",
             "rgb(44, 238, 203)",
             "rgb(74, 209, 120)",
             "rgb(37, 41, 207)",
             "rgb(227, 61, 136)",
             "rgb(66, 15, 109)",
             "rgb(175, 10, 197)",
             "rgb(251, 101, 90)",
             "rgb(66, 45, 73)"
            ]
           },
           "orientation": "h",
           "textangle": 0,
           "textposition": "outside",
           "texttemplate": "%{y}<br>%{x:.4s}",
           "type": "bar",
           "x": [
            1687.7,
            1703.6,
            1705.3,
            2056.1,
            2071.6,
            2510.8,
            2959.1,
            3250.4,
            5661.4,
            9823.5
           ],
           "y": [
            "DuPont",
            "Mobil",
            "Gulf Oil",
            "Armour",
            "Chrysler",
            "Esmark",
            "General Electric",
            "U.S. Steel",
            "Exxon Mobil",
            "General Motors"
           ]
          }
         ],
         "layout": {
          "bargap": 0.15,
          "font": {
           "size": 14
          },
          "plot_bgcolor": "#FFFFFF",
          "title": {
           "text": "5 top Companies by Revenue for each Decade"
          },
          "xaxis": {
           "range": [
            0,
            288189
           ],
           "showline": true,
           "visible": true
          },
          "yaxis": {
           "showline": false,
           "visible": true
          }
         },
         "name": "1955"
        },
        {
         "data": [
          {
           "cliponaxis": false,
           "hoverinfo": "all",
           "hovertemplate": "<extra></extra>",
           "marker": {
            "color": [
             "rgb(251, 111, 235)",
             "rgb(74, 209, 120)",
             "rgb(247, 123, 66)",
             "rgb(227, 61, 136)",
             "rgb(66, 15, 109)",
             "rgb(37, 41, 207)",
             "rgb(175, 10, 197)",
             "rgb(4, 233, 148)",
             "rgb(251, 101, 90)",
             "rgb(66, 45, 73)"
            ]
           },
           "orientation": "h",
           "textangle": 0,
           "textposition": "outside",
           "texttemplate": "%{y}<br>%{x:.4s}",
           "type": "bar",
           "x": [
            1909.2,
            1967.7,
            2096.6,
            2404.1,
            3095.4,
            3466.2,
            4097.7,
            5594,
            6272.4,
            12443.3
           ],
           "y": [
            "DuPont",
            "Armour",
            "Bethlehem Steel",
            "Esmark",
            "General Electric",
            "Chrysler",
            "U.S. Steel",
            "Ford Motor",
            "Exxon Mobil",
            "General Motors"
           ]
          }
         ],
         "layout": {
          "bargap": 0.15,
          "font": {
           "size": 14
          },
          "plot_bgcolor": "#FFFFFF",
          "title": {
           "text": "5 top Companies by Revenue for each Decade"
          },
          "xaxis": {
           "range": [
            0,
            288189
           ],
           "showline": true,
           "visible": true
          },
          "yaxis": {
           "showline": false,
           "visible": true
          }
         },
         "name": "1956"
        },
        {
         "data": [
          {
           "cliponaxis": false,
           "hoverinfo": "all",
           "hovertemplate": "<extra></extra>",
           "marker": {
            "color": [
             "rgb(44, 238, 203)",
             "rgb(162, 75, 189)",
             "rgb(227, 61, 136)",
             "rgb(37, 41, 207)",
             "rgb(170, 209, 149)",
             "rgb(66, 15, 109)",
             "rgb(175, 10, 197)",
             "rgb(4, 233, 148)",
             "rgb(251, 101, 90)",
             "rgb(66, 45, 73)"
            ]
           },
           "orientation": "h",
           "textangle": 0,
           "textposition": "outside",
           "texttemplate": "%{y}<br>%{x:.4s}",
           "type": "bar",
           "x": [
            2339.7,
            2372.7,
            2429.3,
            2676.3,
            2750.3,
            4090,
            4228.9,
            4647,
            7126.9,
            10796.4
           ],
           "y": [
            "Gulf Oil",
            "AT&T Technologies",
            "Esmark",
            "Chrysler",
            "Mobil",
            "General Electric",
            "U.S. Steel",
            "Ford Motor",
            "Exxon Mobil",
            "General Motors"
           ]
          }
         ],
         "layout": {
          "bargap": 0.15,
          "font": {
           "size": 14
          },
          "plot_bgcolor": "#FFFFFF",
          "title": {
           "text": "5 top Companies by Revenue for each Decade"
          },
          "xaxis": {
           "range": [
            0,
            288189
           ],
           "showline": true,
           "visible": true
          },
          "yaxis": {
           "showline": false,
           "visible": true
          }
         },
         "name": "1957"
        },
        {
         "data": [
          {
           "cliponaxis": false,
           "hoverinfo": "all",
           "hovertemplate": "<extra></extra>",
           "marker": {
            "color": [
             "rgb(227, 61, 136)",
             "rgb(247, 123, 66)",
             "rgb(44, 238, 203)",
             "rgb(170, 209, 149)",
             "rgb(37, 41, 207)",
             "rgb(66, 15, 109)",
             "rgb(175, 10, 197)",
             "rgb(4, 233, 148)",
             "rgb(251, 101, 90)",
             "rgb(66, 45, 73)"
            ]
           },
           "orientation": "h",
           "textangle": 0,
           "textposition": "outside",
           "texttemplate": "%{y}<br>%{x:.4s}",
           "type": "bar",
           "x": [
            2542.2,
            2603.7,
            2730.1,
            2976.1,
            3565,
            4335.7,
            4413.8,
            5771.3,
            7830.2,
            10989.8
           ],
           "y": [
            "Esmark",
            "Bethlehem Steel",
            "Gulf Oil",
            "Mobil",
            "Chrysler",
            "General Electric",
            "U.S. Steel",
            "Ford Motor",
            "Exxon Mobil",
            "General Motors"
           ]
          }
         ],
         "layout": {
          "bargap": 0.15,
          "font": {
           "size": 14
          },
          "plot_bgcolor": "#FFFFFF",
          "title": {
           "text": "5 top Companies by Revenue for each Decade"
          },
          "xaxis": {
           "range": [
            0,
            288189
           ],
           "showline": true,
           "visible": true
          },
          "yaxis": {
           "showline": false,
           "visible": true
          }
         },
         "name": "1958"
        },
        {
         "data": [
          {
           "cliponaxis": false,
           "hoverinfo": "all",
           "hovertemplate": "<extra></extra>",
           "marker": {
            "color": [
             "rgb(162, 75, 189)",
             "rgb(59, 146, 123)",
             "rgb(227, 61, 136)",
             "rgb(44, 238, 203)",
             "rgb(170, 209, 149)",
             "rgb(175, 10, 197)",
             "rgb(66, 15, 109)",
             "rgb(4, 233, 148)",
             "rgb(251, 101, 90)",
             "rgb(66, 45, 73)"
            ]
           },
           "orientation": "h",
           "textangle": 0,
           "textposition": "outside",
           "texttemplate": "%{y}<br>%{x:.4s}",
           "type": "bar",
           "x": [
            2173.4,
            2327.9,
            2645.4,
            2769.4,
            2885.7,
            3472.2,
            4120.8,
            4130.3,
            7543.6,
            9522
           ],
           "y": [
            "AT&T Technologies",
            "Texaco",
            "Esmark",
            "Gulf Oil",
            "Mobil",
            "U.S. Steel",
            "General Electric",
            "Ford Motor",
            "Exxon Mobil",
            "General Motors"
           ]
          }
         ],
         "layout": {
          "bargap": 0.15,
          "font": {
           "size": 14
          },
          "plot_bgcolor": "#FFFFFF",
          "title": {
           "text": "5 top Companies by Revenue for each Decade"
          },
          "xaxis": {
           "range": [
            0,
            288189
           ],
           "showline": true,
           "visible": true
          },
          "yaxis": {
           "showline": false,
           "visible": true
          }
         },
         "name": "1959"
        },
        {
         "data": [
          {
           "cliponaxis": false,
           "hoverinfo": "all",
           "hovertemplate": "<extra></extra>",
           "marker": {
            "color": [
             "rgb(227, 61, 136)",
             "rgb(37, 41, 207)",
             "rgb(59, 146, 123)",
             "rgb(44, 238, 203)",
             "rgb(170, 209, 149)",
             "rgb(175, 10, 197)",
             "rgb(66, 15, 109)",
             "rgb(4, 233, 148)",
             "rgb(251, 101, 90)",
             "rgb(66, 45, 73)"
            ]
           },
           "orientation": "h",
           "textangle": 0,
           "textposition": "outside",
           "texttemplate": "%{y}<br>%{x:.4s}",
           "type": "bar",
           "x": [
            2475.5,
            2643,
            2678,
            2713,
            3092.9,
            3643,
            4349.5,
            5356.9,
            7910.7,
            11233.1
           ],
           "y": [
            "Esmark",
            "Chrysler",
            "Texaco",
            "Gulf Oil",
            "Mobil",
            "U.S. Steel",
            "General Electric",
            "Ford Motor",
            "Exxon Mobil",
            "General Motors"
           ]
          }
         ],
         "layout": {
          "bargap": 0.15,
          "font": {
           "size": 14
          },
          "plot_bgcolor": "#FFFFFF",
          "title": {
           "text": "5 top Companies by Revenue for each Decade"
          },
          "xaxis": {
           "range": [
            0,
            288189
           ],
           "showline": true,
           "visible": true
          },
          "yaxis": {
           "showline": false,
           "visible": true
          }
         },
         "name": "1960"
        },
        {
         "data": [
          {
           "cliponaxis": false,
           "hoverinfo": "all",
           "hovertemplate": "<extra></extra>",
           "marker": {
            "color": [
             "rgb(162, 75, 189)",
             "rgb(44, 238, 203)",
             "rgb(59, 146, 123)",
             "rgb(37, 41, 207)",
             "rgb(170, 209, 149)",
             "rgb(175, 10, 197)",
             "rgb(66, 15, 109)",
             "rgb(4, 233, 148)",
             "rgb(251, 101, 90)",
             "rgb(66, 45, 73)"
            ]
           },
           "orientation": "h",
           "textangle": 0,
           "textposition": "outside",
           "texttemplate": "%{y}<br>%{x:.4s}",
           "type": "bar",
           "x": [
            2640.4,
            2720.8,
            2980.3,
            3007,
            3178.1,
            3698.5,
            4197.5,
            5237.9,
            8034.7,
            12736
           ],
           "y": [
            "AT&T Technologies",
            "Gulf Oil",
            "Texaco",
            "Chrysler",
            "Mobil",
            "U.S. Steel",
            "General Electric",
            "Ford Motor",
            "Exxon Mobil",
            "General Motors"
           ]
          }
         ],
         "layout": {
          "bargap": 0.15,
          "font": {
           "size": 14
          },
          "plot_bgcolor": "#FFFFFF",
          "title": {
           "text": "5 top Companies by Revenue for each Decade"
          },
          "xaxis": {
           "range": [
            0,
            288189
           ],
           "showline": true,
           "visible": true
          },
          "yaxis": {
           "showline": false,
           "visible": true
          }
         },
         "name": "1961"
        },
        {
         "data": [
          {
           "cliponaxis": false,
           "hoverinfo": "all",
           "hovertemplate": "<extra></extra>",
           "marker": {
            "color": [
             "rgb(227, 61, 136)",
             "rgb(162, 75, 189)",
             "rgb(44, 238, 203)",
             "rgb(59, 146, 123)",
             "rgb(175, 10, 197)",
             "rgb(170, 209, 149)",
             "rgb(66, 15, 109)",
             "rgb(4, 233, 148)",
             "rgb(251, 101, 90)",
             "rgb(66, 45, 73)"
            ]
           },
           "orientation": "h",
           "textangle": 0,
           "textposition": "outside",
           "texttemplate": "%{y}<br>%{x:.4s}",
           "type": "bar",
           "x": [
            2489,
            2607.3,
            2744.8,
            3042.3,
            3301.7,
            3321.2,
            4456.8,
            6709.4,
            8437.7,
            11395.9
           ],
           "y": [
            "Esmark",
            "AT&T Technologies",
            "Gulf Oil",
            "Texaco",
            "U.S. Steel",
            "Mobil",
            "General Electric",
            "Ford Motor",
            "Exxon Mobil",
            "General Motors"
           ]
          }
         ],
         "layout": {
          "bargap": 0.15,
          "font": {
           "size": 14
          },
          "plot_bgcolor": "#FFFFFF",
          "title": {
           "text": "5 top Companies by Revenue for each Decade"
          },
          "xaxis": {
           "range": [
            0,
            288189
           ],
           "showline": true,
           "visible": true
          },
          "yaxis": {
           "showline": false,
           "visible": true
          }
         },
         "name": "1962"
        },
        {
         "data": [
          {
           "cliponaxis": false,
           "hoverinfo": "all",
           "hovertemplate": "<extra></extra>",
           "marker": {
            "color": [
             "rgb(227, 61, 136)",
             "rgb(162, 75, 189)",
             "rgb(44, 238, 203)",
             "rgb(59, 146, 123)",
             "rgb(175, 10, 197)",
             "rgb(170, 209, 149)",
             "rgb(66, 15, 109)",
             "rgb(4, 233, 148)",
             "rgb(251, 101, 90)",
             "rgb(66, 45, 73)"
            ]
           },
           "orientation": "h",
           "textangle": 0,
           "textposition": "outside",
           "texttemplate": "%{y}<br>%{x:.4s}",
           "type": "bar",
           "x": [
            2494.6,
            2761.6,
            2836.3,
            3272.1,
            3468.8,
            3933.3,
            4792.7,
            8089.6,
            9536.9,
            14640.2
           ],
           "y": [
            "Esmark",
            "AT&T Technologies",
            "Gulf Oil",
            "Texaco",
            "U.S. Steel",
            "Mobil",
            "General Electric",
            "Ford Motor",
            "Exxon Mobil",
            "General Motors"
           ]
          }
         ],
         "layout": {
          "bargap": 0.15,
          "font": {
           "size": 14
          },
          "plot_bgcolor": "#FFFFFF",
          "title": {
           "text": "5 top Companies by Revenue for each Decade"
          },
          "xaxis": {
           "range": [
            0,
            288189
           ],
           "showline": true,
           "visible": true
          },
          "yaxis": {
           "showline": false,
           "visible": true
          }
         },
         "name": "1963"
        },
        {
         "data": [
          {
           "cliponaxis": false,
           "hoverinfo": "all",
           "hovertemplate": "<extra></extra>",
           "marker": {
            "color": [
             "rgb(162, 75, 189)",
             "rgb(44, 238, 203)",
             "rgb(59, 146, 123)",
             "rgb(37, 41, 207)",
             "rgb(175, 10, 197)",
             "rgb(170, 209, 149)",
             "rgb(66, 15, 109)",
             "rgb(4, 233, 148)",
             "rgb(251, 101, 90)",
             "rgb(66, 45, 73)"
            ]
           },
           "orientation": "h",
           "textangle": 0,
           "textposition": "outside",
           "texttemplate": "%{y}<br>%{x:.4s}",
           "type": "bar",
           "x": [
            2833,
            2977.9,
            3415.7,
            3505.3,
            3599.3,
            4352.1,
            4918.7,
            8742.5,
            10264.3,
            16494.8
           ],
           "y": [
            "AT&T Technologies",
            "Gulf Oil",
            "Texaco",
            "Chrysler",
            "U.S. Steel",
            "Mobil",
            "General Electric",
            "Ford Motor",
            "Exxon Mobil",
            "General Motors"
           ]
          }
         ],
         "layout": {
          "bargap": 0.15,
          "font": {
           "size": 14
          },
          "plot_bgcolor": "#FFFFFF",
          "title": {
           "text": "5 top Companies by Revenue for each Decade"
          },
          "xaxis": {
           "range": [
            0,
            288189
           ],
           "showline": true,
           "visible": true
          },
          "yaxis": {
           "showline": false,
           "visible": true
          }
         },
         "name": "1964"
        },
        {
         "data": [
          {
           "cliponaxis": false,
           "hoverinfo": "all",
           "hovertemplate": "<extra></extra>",
           "marker": {
            "color": [
             "rgb(44, 238, 203)",
             "rgb(202, 171, 175)",
             "rgb(59, 146, 123)",
             "rgb(175, 10, 197)",
             "rgb(37, 41, 207)",
             "rgb(170, 209, 149)",
             "rgb(66, 15, 109)",
             "rgb(4, 233, 148)",
             "rgb(251, 101, 90)",
             "rgb(66, 45, 73)"
            ]
           },
           "orientation": "h",
           "textangle": 0,
           "textposition": "outside",
           "texttemplate": "%{y}<br>%{x:.4s}",
           "type": "bar",
           "x": [
            3174.3,
            3239.4,
            3573.8,
            4077.5,
            4287.3,
            4499.4,
            4941.4,
            9670.8,
            10814.7,
            16997
           ],
           "y": [
            "Gulf Oil",
            "Intl. Business Machines",
            "Texaco",
            "U.S. Steel",
            "Chrysler",
            "Mobil",
            "General Electric",
            "Ford Motor",
            "Exxon Mobil",
            "General Motors"
           ]
          }
         ],
         "layout": {
          "bargap": 0.15,
          "font": {
           "size": 14
          },
          "plot_bgcolor": "#FFFFFF",
          "title": {
           "text": "5 top Companies by Revenue for each Decade"
          },
          "xaxis": {
           "range": [
            0,
            288189
           ],
           "showline": true,
           "visible": true
          },
          "yaxis": {
           "showline": false,
           "visible": true
          }
         },
         "name": "1965"
        },
        {
         "data": [
          {
           "cliponaxis": false,
           "hoverinfo": "all",
           "hovertemplate": "<extra></extra>",
           "marker": {
            "color": [
             "rgb(44, 238, 203)",
             "rgb(202, 171, 175)",
             "rgb(59, 146, 123)",
             "rgb(175, 10, 197)",
             "rgb(170, 209, 149)",
             "rgb(37, 41, 207)",
             "rgb(66, 15, 109)",
             "rgb(251, 101, 90)",
             "rgb(4, 233, 148)",
             "rgb(66, 45, 73)"
            ]
           },
           "orientation": "h",
           "textangle": 0,
           "textposition": "outside",
           "texttemplate": "%{y}<br>%{x:.4s}",
           "type": "bar",
           "x": [
            3384.7,
            3572.8,
            3779.4,
            4399.6,
            4907.5,
            5299.9,
            6213.6,
            11471.5,
            11536.8,
            20734
           ],
           "y": [
            "Gulf Oil",
            "Intl. Business Machines",
            "Texaco",
            "U.S. Steel",
            "Mobil",
            "Chrysler",
            "General Electric",
            "Exxon Mobil",
            "Ford Motor",
            "General Motors"
           ]
          }
         ],
         "layout": {
          "bargap": 0.15,
          "font": {
           "size": 14
          },
          "plot_bgcolor": "#FFFFFF",
          "title": {
           "text": "5 top Companies by Revenue for each Decade"
          },
          "xaxis": {
           "range": [
            0,
            288189
           ],
           "showline": true,
           "visible": true
          },
          "yaxis": {
           "showline": false,
           "visible": true
          }
         },
         "name": "1966"
        },
        {
         "data": [
          {
           "cliponaxis": false,
           "hoverinfo": "all",
           "hovertemplate": "<extra></extra>",
           "marker": {
            "color": [
             "rgb(44, 238, 203)",
             "rgb(202, 171, 175)",
             "rgb(175, 10, 197)",
             "rgb(59, 146, 123)",
             "rgb(170, 209, 149)",
             "rgb(37, 41, 207)",
             "rgb(66, 15, 109)",
             "rgb(251, 101, 90)",
             "rgb(4, 233, 148)",
             "rgb(66, 45, 73)"
            ]
           },
           "orientation": "h",
           "textangle": 0,
           "textposition": "outside",
           "texttemplate": "%{y}<br>%{x:.4s}",
           "type": "bar",
           "x": [
            3781.8,
            4247.7,
            4355.4,
            4427.3,
            5253.9,
            5649.5,
            7177.3,
            12191.4,
            12240,
            20208.5
           ],
           "y": [
            "Gulf Oil",
            "Intl. Business Machines",
            "U.S. Steel",
            "Texaco",
            "Mobil",
            "Chrysler",
            "General Electric",
            "Exxon Mobil",
            "Ford Motor",
            "General Motors"
           ]
          }
         ],
         "layout": {
          "bargap": 0.15,
          "font": {
           "size": 14
          },
          "plot_bgcolor": "#FFFFFF",
          "title": {
           "text": "5 top Companies by Revenue for each Decade"
          },
          "xaxis": {
           "range": [
            0,
            288189
           ],
           "showline": true,
           "visible": true
          },
          "yaxis": {
           "showline": false,
           "visible": true
          }
         },
         "name": "1967"
        },
        {
         "data": [
          {
           "cliponaxis": false,
           "hoverinfo": "all",
           "hovertemplate": "<extra></extra>",
           "marker": {
            "color": [
             "rgb(175, 10, 197)",
             "rgb(44, 238, 203)",
             "rgb(59, 146, 123)",
             "rgb(202, 171, 175)",
             "rgb(170, 209, 149)",
             "rgb(37, 41, 207)",
             "rgb(66, 15, 109)",
             "rgb(4, 233, 148)",
             "rgb(251, 101, 90)",
             "rgb(66, 45, 73)"
            ]
           },
           "orientation": "h",
           "textangle": 0,
           "textposition": "outside",
           "texttemplate": "%{y}<br>%{x:.4s}",
           "type": "bar",
           "x": [
            4005.5,
            4202.1,
            5121.4,
            5345.3,
            5771.8,
            6213.4,
            7741.2,
            10515.7,
            13266,
            20026.3
           ],
           "y": [
            "U.S. Steel",
            "Gulf Oil",
            "Texaco",
            "Intl. Business Machines",
            "Mobil",
            "Chrysler",
            "General Electric",
            "Ford Motor",
            "Exxon Mobil",
            "General Motors"
           ]
          }
         ],
         "layout": {
          "bargap": 0.15,
          "font": {
           "size": 14
          },
          "plot_bgcolor": "#FFFFFF",
          "title": {
           "text": "5 top Companies by Revenue for each Decade"
          },
          "xaxis": {
           "range": [
            0,
            288189
           ],
           "showline": true,
           "visible": true
          },
          "yaxis": {
           "showline": false,
           "visible": true
          }
         },
         "name": "1968"
        },
        {
         "data": [
          {
           "cliponaxis": false,
           "hoverinfo": "all",
           "hovertemplate": "<extra></extra>",
           "marker": {
            "color": [
             "rgb(175, 10, 197)",
             "rgb(44, 238, 203)",
             "rgb(59, 146, 123)",
             "rgb(170, 209, 149)",
             "rgb(202, 171, 175)",
             "rgb(37, 41, 207)",
             "rgb(66, 15, 109)",
             "rgb(4, 233, 148)",
             "rgb(251, 101, 90)",
             "rgb(66, 45, 73)"
            ]
           },
           "orientation": "h",
           "textangle": 0,
           "textposition": "outside",
           "texttemplate": "%{y}<br>%{x:.4s}",
           "type": "bar",
           "x": [
            4536.7,
            4558.5,
            5459.8,
            6221,
            6888.5,
            7445.3,
            8381.6,
            14075.1,
            14091.3,
            22755.4
           ],
           "y": [
            "U.S. Steel",
            "Gulf Oil",
            "Texaco",
            "Mobil",
            "Intl. Business Machines",
            "Chrysler",
            "General Electric",
            "Ford Motor",
            "Exxon Mobil",
            "General Motors"
           ]
          }
         ],
         "layout": {
          "bargap": 0.15,
          "font": {
           "size": 14
          },
          "plot_bgcolor": "#FFFFFF",
          "title": {
           "text": "5 top Companies by Revenue for each Decade"
          },
          "xaxis": {
           "range": [
            0,
            288189
           ],
           "showline": true,
           "visible": true
          },
          "yaxis": {
           "showline": false,
           "visible": true
          }
         },
         "name": "1969"
        },
        {
         "data": [
          {
           "cliponaxis": false,
           "hoverinfo": "all",
           "hovertemplate": "<extra></extra>",
           "marker": {
            "color": [
             "rgb(44, 238, 203)",
             "rgb(0, 241, 232)",
             "rgb(59, 146, 123)",
             "rgb(170, 209, 149)",
             "rgb(37, 41, 207)",
             "rgb(202, 171, 175)",
             "rgb(66, 15, 109)",
             "rgb(4, 233, 148)",
             "rgb(251, 101, 90)",
             "rgb(66, 45, 73)"
            ]
           },
           "orientation": "h",
           "textangle": 0,
           "textposition": "outside",
           "texttemplate": "%{y}<br>%{x:.4s}",
           "type": "bar",
           "x": [
            4953.3,
            5474.7,
            5867.9,
            6621.4,
            7052.2,
            7197.3,
            8448,
            14755.6,
            14929.8,
            24295.1
           ],
           "y": [
            "Gulf Oil",
            "ITT Industries",
            "Texaco",
            "Mobil",
            "Chrysler",
            "Intl. Business Machines",
            "General Electric",
            "Ford Motor",
            "Exxon Mobil",
            "General Motors"
           ]
          }
         ],
         "layout": {
          "bargap": 0.15,
          "font": {
           "size": 14
          },
          "plot_bgcolor": "#FFFFFF",
          "title": {
           "text": "5 top Companies by Revenue for each Decade"
          },
          "xaxis": {
           "range": [
            0,
            288189
           ],
           "showline": true,
           "visible": true
          },
          "yaxis": {
           "showline": false,
           "visible": true
          }
         },
         "name": "1970"
        },
        {
         "data": [
          {
           "cliponaxis": false,
           "hoverinfo": "all",
           "hovertemplate": "<extra></extra>",
           "marker": {
            "color": [
             "rgb(162, 75, 189)",
             "rgb(59, 146, 123)",
             "rgb(0, 241, 232)",
             "rgb(37, 41, 207)",
             "rgb(170, 209, 149)",
             "rgb(202, 171, 175)",
             "rgb(66, 15, 109)",
             "rgb(4, 233, 148)",
             "rgb(251, 101, 90)",
             "rgb(66, 45, 73)"
            ]
           },
           "orientation": "h",
           "textangle": 0,
           "textposition": "outside",
           "texttemplate": "%{y}<br>%{x:.4s}",
           "type": "bar",
           "x": [
            5856.2,
            6349.8,
            6364.5,
            6999.7,
            7260.5,
            7504,
            8726.7,
            14979.9,
            16554.2,
            18752.4
           ],
           "y": [
            "AT&T Technologies",
            "Texaco",
            "ITT Industries",
            "Chrysler",
            "Mobil",
            "Intl. Business Machines",
            "General Electric",
            "Ford Motor",
            "Exxon Mobil",
            "General Motors"
           ]
          }
         ],
         "layout": {
          "bargap": 0.15,
          "font": {
           "size": 14
          },
          "plot_bgcolor": "#FFFFFF",
          "title": {
           "text": "5 top Companies by Revenue for each Decade"
          },
          "xaxis": {
           "range": [
            0,
            288189
           ],
           "showline": true,
           "visible": true
          },
          "yaxis": {
           "showline": false,
           "visible": true
          }
         },
         "name": "1971"
        },
        {
         "data": [
          {
           "cliponaxis": false,
           "hoverinfo": "all",
           "hovertemplate": "<extra></extra>",
           "marker": {
            "color": [
             "rgb(162, 75, 189)",
             "rgb(0, 241, 232)",
             "rgb(59, 146, 123)",
             "rgb(37, 41, 207)",
             "rgb(170, 209, 149)",
             "rgb(202, 171, 175)",
             "rgb(66, 15, 109)",
             "rgb(4, 233, 148)",
             "rgb(251, 101, 90)",
             "rgb(66, 45, 73)"
            ]
           },
           "orientation": "h",
           "textangle": 0,
           "textposition": "outside",
           "texttemplate": "%{y}<br>%{x:.4s}",
           "type": "bar",
           "x": [
            6045.2,
            7345.8,
            7529.1,
            7999.3,
            8243,
            8273.6,
            9425.3,
            16433,
            18700.6,
            28263.9
           ],
           "y": [
            "AT&T Technologies",
            "ITT Industries",
            "Texaco",
            "Chrysler",
            "Mobil",
            "Intl. Business Machines",
            "General Electric",
            "Ford Motor",
            "Exxon Mobil",
            "General Motors"
           ]
          }
         ],
         "layout": {
          "bargap": 0.15,
          "font": {
           "size": 14
          },
          "plot_bgcolor": "#FFFFFF",
          "title": {
           "text": "5 top Companies by Revenue for each Decade"
          },
          "xaxis": {
           "range": [
            0,
            288189
           ],
           "showline": true,
           "visible": true
          },
          "yaxis": {
           "showline": false,
           "visible": true
          }
         },
         "name": "1972"
        },
        {
         "data": [
          {
           "cliponaxis": false,
           "hoverinfo": "all",
           "hovertemplate": "<extra></extra>",
           "marker": {
            "color": [
             "rgb(162, 75, 189)",
             "rgb(0, 241, 232)",
             "rgb(59, 146, 123)",
             "rgb(170, 209, 149)",
             "rgb(202, 171, 175)",
             "rgb(37, 41, 207)",
             "rgb(66, 15, 109)",
             "rgb(4, 233, 148)",
             "rgb(251, 101, 90)",
             "rgb(66, 45, 73)"
            ]
           },
           "orientation": "h",
           "textangle": 0,
           "textposition": "outside",
           "texttemplate": "%{y}<br>%{x:.4s}",
           "type": "bar",
           "x": [
            6551.2,
            8556.8,
            8693,
            9166.3,
            9532.6,
            9759.1,
            10239.5,
            20194.4,
            20309.8,
            30435.2
           ],
           "y": [
            "AT&T Technologies",
            "ITT Industries",
            "Texaco",
            "Mobil",
            "Intl. Business Machines",
            "Chrysler",
            "General Electric",
            "Ford Motor",
            "Exxon Mobil",
            "General Motors"
           ]
          }
         ],
         "layout": {
          "bargap": 0.15,
          "font": {
           "size": 14
          },
          "plot_bgcolor": "#FFFFFF",
          "title": {
           "text": "5 top Companies by Revenue for each Decade"
          },
          "xaxis": {
           "range": [
            0,
            288189
           ],
           "showline": true,
           "visible": true
          },
          "yaxis": {
           "showline": false,
           "visible": true
          }
         },
         "name": "1973"
        },
        {
         "data": [
          {
           "cliponaxis": false,
           "hoverinfo": "all",
           "hovertemplate": "<extra></extra>",
           "marker": {
            "color": [
             "rgb(44, 238, 203)",
             "rgb(0, 241, 232)",
             "rgb(202, 171, 175)",
             "rgb(170, 209, 149)",
             "rgb(59, 146, 123)",
             "rgb(66, 15, 109)",
             "rgb(37, 41, 207)",
             "rgb(4, 233, 148)",
             "rgb(251, 101, 90)",
             "rgb(66, 45, 73)"
            ]
           },
           "orientation": "h",
           "textangle": 0,
           "textposition": "outside",
           "texttemplate": "%{y}<br>%{x:.4s}",
           "type": "bar",
           "x": [
            8417,
            10183,
            10993.2,
            11390.1,
            11406.9,
            11575.3,
            11774.4,
            23015.1,
            25724.3,
            35798.3
           ],
           "y": [
            "Gulf Oil",
            "ITT Industries",
            "Intl. Business Machines",
            "Mobil",
            "Texaco",
            "General Electric",
            "Chrysler",
            "Ford Motor",
            "Exxon Mobil",
            "General Motors"
           ]
          }
         ],
         "layout": {
          "bargap": 0.15,
          "font": {
           "size": 14
          },
          "plot_bgcolor": "#FFFFFF",
          "title": {
           "text": "5 top Companies by Revenue for each Decade"
          },
          "xaxis": {
           "range": [
            0,
            288189
           ],
           "showline": true,
           "visible": true
          },
          "yaxis": {
           "showline": false,
           "visible": true
          }
         },
         "name": "1974"
        },
        {
         "data": [
          {
           "cliponaxis": false,
           "hoverinfo": "all",
           "hovertemplate": "<extra></extra>",
           "marker": {
            "color": [
             "rgb(0, 241, 232)",
             "rgb(202, 171, 175)",
             "rgb(66, 15, 109)",
             "rgb(44, 238, 203)",
             "rgb(55, 15, 189)",
             "rgb(170, 209, 149)",
             "rgb(59, 146, 123)",
             "rgb(4, 233, 148)",
             "rgb(66, 45, 73)",
             "rgb(251, 101, 90)"
            ]
           },
           "orientation": "h",
           "textangle": 0,
           "textposition": "outside",
           "texttemplate": "%{y}<br>%{x:.4s}",
           "type": "bar",
           "x": [
            11154.4,
            12675.3,
            13413.1,
            16458,
            17191.2,
            18929,
            23255.5,
            23620.6,
            31549.5,
            42061.3
           ],
           "y": [
            "ITT Industries",
            "Intl. Business Machines",
            "General Electric",
            "Gulf Oil",
            "ChevronTexaco",
            "Mobil",
            "Texaco",
            "Ford Motor",
            "General Motors",
            "Exxon Mobil"
           ]
          }
         ],
         "layout": {
          "bargap": 0.15,
          "font": {
           "size": 14
          },
          "plot_bgcolor": "#FFFFFF",
          "title": {
           "text": "5 top Companies by Revenue for each Decade"
          },
          "xaxis": {
           "range": [
            0,
            288189
           ],
           "showline": true,
           "visible": true
          },
          "yaxis": {
           "showline": false,
           "visible": true
          }
         },
         "name": "1975"
        },
        {
         "data": [
          {
           "cliponaxis": false,
           "hoverinfo": "all",
           "hovertemplate": "<extra></extra>",
           "marker": {
            "color": [
             "rgb(37, 41, 207)",
             "rgb(66, 15, 109)",
             "rgb(44, 238, 203)",
             "rgb(202, 171, 175)",
             "rgb(55, 15, 189)",
             "rgb(170, 209, 149)",
             "rgb(4, 233, 148)",
             "rgb(59, 146, 123)",
             "rgb(66, 45, 73)",
             "rgb(251, 101, 90)"
            ]
           },
           "orientation": "h",
           "textangle": 0,
           "textposition": "outside",
           "texttemplate": "%{y}<br>%{x:.4s}",
           "type": "bar",
           "x": [
            11699.3,
            13399.1,
            14268,
            14436.5,
            16822.1,
            20620.4,
            24009.1,
            24507.5,
            35724.9,
            44864.8
           ],
           "y": [
            "Chrysler",
            "General Electric",
            "Gulf Oil",
            "Intl. Business Machines",
            "ChevronTexaco",
            "Mobil",
            "Ford Motor",
            "Texaco",
            "General Motors",
            "Exxon Mobil"
           ]
          }
         ],
         "layout": {
          "bargap": 0.15,
          "font": {
           "size": 14
          },
          "plot_bgcolor": "#FFFFFF",
          "title": {
           "text": "5 top Companies by Revenue for each Decade"
          },
          "xaxis": {
           "range": [
            0,
            288189
           ],
           "showline": true,
           "visible": true
          },
          "yaxis": {
           "showline": false,
           "visible": true
          }
         },
         "name": "1976"
        },
        {
         "data": [
          {
           "cliponaxis": false,
           "hoverinfo": "all",
           "hovertemplate": "<extra></extra>",
           "marker": {
            "color": [
             "rgb(37, 41, 207)",
             "rgb(66, 15, 109)",
             "rgb(202, 171, 175)",
             "rgb(44, 238, 203)",
             "rgb(55, 15, 189)",
             "rgb(170, 209, 149)",
             "rgb(59, 146, 123)",
             "rgb(4, 233, 148)",
             "rgb(66, 45, 73)",
             "rgb(251, 101, 90)"
            ]
           },
           "orientation": "h",
           "textangle": 0,
           "textposition": "outside",
           "texttemplate": "%{y}<br>%{x:.4s}",
           "type": "bar",
           "x": [
            15537.8,
            15697.3,
            16304.3,
            16451,
            19434.1,
            26062.6,
            26451.9,
            28839.6,
            47181,
            48630.8
           ],
           "y": [
            "Chrysler",
            "General Electric",
            "Intl. Business Machines",
            "Gulf Oil",
            "ChevronTexaco",
            "Mobil",
            "Texaco",
            "Ford Motor",
            "General Motors",
            "Exxon Mobil"
           ]
          }
         ],
         "layout": {
          "bargap": 0.15,
          "font": {
           "size": 14
          },
          "plot_bgcolor": "#FFFFFF",
          "title": {
           "text": "5 top Companies by Revenue for each Decade"
          },
          "xaxis": {
           "range": [
            0,
            288189
           ],
           "showline": true,
           "visible": true
          },
          "yaxis": {
           "showline": false,
           "visible": true
          }
         },
         "name": "1977"
        },
        {
         "data": [
          {
           "cliponaxis": false,
           "hoverinfo": "all",
           "hovertemplate": "<extra></extra>",
           "marker": {
            "color": [
             "rgb(37, 41, 207)",
             "rgb(66, 15, 109)",
             "rgb(44, 238, 203)",
             "rgb(202, 171, 175)",
             "rgb(55, 15, 189)",
             "rgb(59, 146, 123)",
             "rgb(170, 209, 149)",
             "rgb(4, 233, 148)",
             "rgb(251, 101, 90)",
             "rgb(66, 45, 73)"
            ]
           },
           "orientation": "h",
           "textangle": 0,
           "textposition": "outside",
           "texttemplate": "%{y}<br>%{x:.4s}",
           "type": "bar",
           "x": [
            16708.3,
            17518.6,
            17840,
            18133.2,
            20917.3,
            27920.5,
            32125.8,
            37841.5,
            54126.2,
            54961.3
           ],
           "y": [
            "Chrysler",
            "General Electric",
            "Gulf Oil",
            "Intl. Business Machines",
            "ChevronTexaco",
            "Texaco",
            "Mobil",
            "Ford Motor",
            "Exxon Mobil",
            "General Motors"
           ]
          }
         ],
         "layout": {
          "bargap": 0.15,
          "font": {
           "size": 14
          },
          "plot_bgcolor": "#FFFFFF",
          "title": {
           "text": "5 top Companies by Revenue for each Decade"
          },
          "xaxis": {
           "range": [
            0,
            288189
           ],
           "showline": true,
           "visible": true
          },
          "yaxis": {
           "showline": false,
           "visible": true
          }
         },
         "name": "1978"
        },
        {
         "data": [
          {
           "cliponaxis": false,
           "hoverinfo": "all",
           "hovertemplate": "<extra></extra>",
           "marker": {
            "color": [
             "rgb(37, 41, 207)",
             "rgb(44, 238, 203)",
             "rgb(66, 15, 109)",
             "rgb(202, 171, 175)",
             "rgb(55, 15, 189)",
             "rgb(59, 146, 123)",
             "rgb(170, 209, 149)",
             "rgb(4, 233, 148)",
             "rgb(251, 101, 90)",
             "rgb(66, 45, 73)"
            ]
           },
           "orientation": "h",
           "textangle": 0,
           "textposition": "outside",
           "texttemplate": "%{y}<br>%{x:.4s}",
           "type": "bar",
           "x": [
            16340.7,
            18069,
            19653.8,
            21076.1,
            23232.4,
            28607.5,
            34736,
            42784.1,
            60334.5,
            63221.1
           ],
           "y": [
            "Chrysler",
            "Gulf Oil",
            "General Electric",
            "Intl. Business Machines",
            "ChevronTexaco",
            "Texaco",
            "Mobil",
            "Ford Motor",
            "Exxon Mobil",
            "General Motors"
           ]
          }
         ],
         "layout": {
          "bargap": 0.15,
          "font": {
           "size": 14
          },
          "plot_bgcolor": "#FFFFFF",
          "title": {
           "text": "5 top Companies by Revenue for each Decade"
          },
          "xaxis": {
           "range": [
            0,
            288189
           ],
           "showline": true,
           "visible": true
          },
          "yaxis": {
           "showline": false,
           "visible": true
          }
         },
         "name": "1979"
        },
        {
         "data": [
          {
           "cliponaxis": false,
           "hoverinfo": "all",
           "hovertemplate": "<extra></extra>",
           "marker": {
            "color": [
             "rgb(203, 5, 14)",
             "rgb(66, 15, 109)",
             "rgb(202, 171, 175)",
             "rgb(44, 238, 203)",
             "rgb(55, 15, 189)",
             "rgb(59, 146, 123)",
             "rgb(4, 233, 148)",
             "rgb(170, 209, 149)",
             "rgb(66, 45, 73)",
             "rgb(251, 101, 90)"
            ]
           },
           "orientation": "h",
           "textangle": 0,
           "textposition": "outside",
           "texttemplate": "%{y}<br>%{x:.4s}",
           "type": "bar",
           "x": [
            18610.3,
            22460.6,
            22862.8,
            23910,
            29947.6,
            38350.4,
            43513.7,
            44720.9,
            66311.2,
            79106.5
           ],
           "y": [
            "Amoco",
            "General Electric",
            "Intl. Business Machines",
            "Gulf Oil",
            "ChevronTexaco",
            "Texaco",
            "Ford Motor",
            "Mobil",
            "General Motors",
            "Exxon Mobil"
           ]
          }
         ],
         "layout": {
          "bargap": 0.15,
          "font": {
           "size": 14
          },
          "plot_bgcolor": "#FFFFFF",
          "title": {
           "text": "5 top Companies by Revenue for each Decade"
          },
          "xaxis": {
           "range": [
            0,
            288189
           ],
           "showline": true,
           "visible": true
          },
          "yaxis": {
           "showline": false,
           "visible": true
          }
         },
         "name": "1980"
        },
        {
         "data": [
          {
           "cliponaxis": false,
           "hoverinfo": "all",
           "hovertemplate": "<extra></extra>",
           "marker": {
            "color": [
             "rgb(66, 15, 109)",
             "rgb(203, 5, 14)",
             "rgb(202, 171, 175)",
             "rgb(44, 238, 203)",
             "rgb(4, 233, 148)",
             "rgb(55, 15, 189)",
             "rgb(59, 146, 123)",
             "rgb(66, 45, 73)",
             "rgb(170, 209, 149)",
             "rgb(251, 101, 90)"
            ]
           },
           "orientation": "h",
           "textangle": 0,
           "textposition": "outside",
           "texttemplate": "%{y}<br>%{x:.4s}",
           "type": "bar",
           "x": [
            24959,
            26133.1,
            26213,
            26483,
            37085.5,
            40479,
            51195.8,
            57728.5,
            59510,
            103142.8
           ],
           "y": [
            "General Electric",
            "Amoco",
            "Intl. Business Machines",
            "Gulf Oil",
            "Ford Motor",
            "ChevronTexaco",
            "Texaco",
            "General Motors",
            "Mobil",
            "Exxon Mobil"
           ]
          }
         ],
         "layout": {
          "bargap": 0.15,
          "font": {
           "size": 14
          },
          "plot_bgcolor": "#FFFFFF",
          "title": {
           "text": "5 top Companies by Revenue for each Decade"
          },
          "xaxis": {
           "range": [
            0,
            288189
           ],
           "showline": true,
           "visible": true
          },
          "yaxis": {
           "showline": false,
           "visible": true
          }
         },
         "name": "1981"
        },
        {
         "data": [
          {
           "cliponaxis": false,
           "hoverinfo": "all",
           "hovertemplate": "<extra></extra>",
           "marker": {
            "color": [
             "rgb(117, 127, 209)",
             "rgb(44, 238, 203)",
             "rgb(202, 171, 175)",
             "rgb(203, 5, 14)",
             "rgb(4, 233, 148)",
             "rgb(55, 15, 189)",
             "rgb(59, 146, 123)",
             "rgb(66, 45, 73)",
             "rgb(170, 209, 149)",
             "rgb(251, 101, 90)"
            ]
           },
           "orientation": "h",
           "textangle": 0,
           "textposition": "outside",
           "texttemplate": "%{y}<br>%{x:.4s}",
           "type": "bar",
           "x": [
            27797.4,
            28252,
            29070,
            29947,
            38247.1,
            44224,
            57628,
            62698.5,
            64488,
            108107.7
           ],
           "y": [
            "Atlantic Richfield",
            "Gulf Oil",
            "Intl. Business Machines",
            "Amoco",
            "Ford Motor",
            "ChevronTexaco",
            "Texaco",
            "General Motors",
            "Mobil",
            "Exxon Mobil"
           ]
          }
         ],
         "layout": {
          "bargap": 0.15,
          "font": {
           "size": 14
          },
          "plot_bgcolor": "#FFFFFF",
          "title": {
           "text": "5 top Companies by Revenue for each Decade"
          },
          "xaxis": {
           "range": [
            0,
            288189
           ],
           "showline": true,
           "visible": true
          },
          "yaxis": {
           "showline": false,
           "visible": true
          }
         },
         "name": "1982"
        },
        {
         "data": [
          {
           "cliponaxis": false,
           "hoverinfo": "all",
           "hovertemplate": "<extra></extra>",
           "marker": {
            "color": [
             "rgb(203, 5, 14)",
             "rgb(44, 238, 203)",
             "rgb(251, 111, 235)",
             "rgb(55, 15, 189)",
             "rgb(202, 171, 175)",
             "rgb(4, 233, 148)",
             "rgb(59, 146, 123)",
             "rgb(170, 209, 149)",
             "rgb(66, 45, 73)",
             "rgb(251, 101, 90)"
            ]
           },
           "orientation": "h",
           "textangle": 0,
           "textposition": "outside",
           "texttemplate": "%{y}<br>%{x:.4s}",
           "type": "bar",
           "x": [
            28073,
            28427,
            33331,
            34362,
            34364,
            37067.2,
            46986,
            59946,
            60025.6,
            97172.5
           ],
           "y": [
            "Amoco",
            "Gulf Oil",
            "DuPont",
            "ChevronTexaco",
            "Intl. Business Machines",
            "Ford Motor",
            "Texaco",
            "Mobil",
            "General Motors",
            "Exxon Mobil"
           ]
          }
         ],
         "layout": {
          "bargap": 0.15,
          "font": {
           "size": 14
          },
          "plot_bgcolor": "#FFFFFF",
          "title": {
           "text": "5 top Companies by Revenue for each Decade"
          },
          "xaxis": {
           "range": [
            0,
            288189
           ],
           "showline": true,
           "visible": true
          },
          "yaxis": {
           "showline": false,
           "visible": true
          }
         },
         "name": "1983"
        },
        {
         "data": [
          {
           "cliponaxis": false,
           "hoverinfo": "all",
           "hovertemplate": "<extra></extra>",
           "marker": {
            "color": [
             "rgb(66, 15, 109)",
             "rgb(55, 15, 189)",
             "rgb(203, 5, 14)",
             "rgb(251, 111, 235)",
             "rgb(59, 146, 123)",
             "rgb(202, 171, 175)",
             "rgb(4, 233, 148)",
             "rgb(170, 209, 149)",
             "rgb(66, 45, 73)",
             "rgb(251, 101, 90)"
            ]
           },
           "orientation": "h",
           "textangle": 0,
           "textposition": "outside",
           "texttemplate": "%{y}<br>%{x:.4s}",
           "type": "bar",
           "x": [
            26797,
            27342,
            27635,
            35378,
            40068,
            40180,
            44454.6,
            54607,
            74581.6,
            88561.1
           ],
           "y": [
            "General Electric",
            "ChevronTexaco",
            "Amoco",
            "DuPont",
            "Texaco",
            "Intl. Business Machines",
            "Ford Motor",
            "Mobil",
            "General Motors",
            "Exxon Mobil"
           ]
          }
         ],
         "layout": {
          "bargap": 0.15,
          "font": {
           "size": 14
          },
          "plot_bgcolor": "#FFFFFF",
          "title": {
           "text": "5 top Companies by Revenue for each Decade"
          },
          "xaxis": {
           "range": [
            0,
            288189
           ],
           "showline": true,
           "visible": true
          },
          "yaxis": {
           "showline": false,
           "visible": true
          }
         },
         "name": "1984"
        },
        {
         "data": [
          {
           "cliponaxis": false,
           "hoverinfo": "all",
           "hovertemplate": "<extra></extra>",
           "marker": {
            "color": [
             "rgb(203, 5, 14)",
             "rgb(66, 15, 109)",
             "rgb(185, 157, 136)",
             "rgb(251, 111, 235)",
             "rgb(202, 171, 175)",
             "rgb(59, 146, 123)",
             "rgb(4, 233, 148)",
             "rgb(170, 209, 149)",
             "rgb(66, 45, 73)",
             "rgb(251, 101, 90)"
            ]
           },
           "orientation": "h",
           "textangle": 0,
           "textposition": "outside",
           "texttemplate": "%{y}<br>%{x:.4s}",
           "type": "bar",
           "x": [
            26949,
            27947,
            33187.5,
            35915,
            45937,
            47334,
            52366.4,
            56047,
            83889.9,
            90854
           ],
           "y": [
            "Amoco",
            "General Electric",
            "AT&T",
            "DuPont",
            "Intl. Business Machines",
            "Texaco",
            "Ford Motor",
            "Mobil",
            "General Motors",
            "Exxon Mobil"
           ]
          }
         ],
         "layout": {
          "bargap": 0.15,
          "font": {
           "size": 14
          },
          "plot_bgcolor": "#FFFFFF",
          "title": {
           "text": "5 top Companies by Revenue for each Decade"
          },
          "xaxis": {
           "range": [
            0,
            288189
           ],
           "showline": true,
           "visible": true
          },
          "yaxis": {
           "showline": false,
           "visible": true
          }
         },
         "name": "1985"
        },
        {
         "data": [
          {
           "cliponaxis": false,
           "hoverinfo": "all",
           "hovertemplate": "<extra></extra>",
           "marker": {
            "color": [
             "rgb(66, 15, 109)",
             "rgb(251, 111, 235)",
             "rgb(185, 157, 136)",
             "rgb(55, 15, 189)",
             "rgb(59, 146, 123)",
             "rgb(202, 171, 175)",
             "rgb(4, 233, 148)",
             "rgb(170, 209, 149)",
             "rgb(251, 101, 90)",
             "rgb(66, 45, 73)"
            ]
           },
           "orientation": "h",
           "textangle": 0,
           "textposition": "outside",
           "texttemplate": "%{y}<br>%{x:.4s}",
           "type": "bar",
           "x": [
            28285,
            29483,
            34909.5,
            41741.9,
            46297,
            50056,
            52774.4,
            55960,
            86673,
            96371.7
           ],
           "y": [
            "General Electric",
            "DuPont",
            "AT&T",
            "ChevronTexaco",
            "Texaco",
            "Intl. Business Machines",
            "Ford Motor",
            "Mobil",
            "Exxon Mobil",
            "General Motors"
           ]
          }
         ],
         "layout": {
          "bargap": 0.15,
          "font": {
           "size": 14
          },
          "plot_bgcolor": "#FFFFFF",
          "title": {
           "text": "5 top Companies by Revenue for each Decade"
          },
          "xaxis": {
           "range": [
            0,
            288189
           ],
           "showline": true,
           "visible": true
          },
          "yaxis": {
           "showline": false,
           "visible": true
          }
         },
         "name": "1986"
        },
        {
         "data": [
          {
           "cliponaxis": false,
           "hoverinfo": "all",
           "hovertemplate": "<extra></extra>",
           "marker": {
            "color": [
             "rgb(55, 15, 189)",
             "rgb(251, 111, 235)",
             "rgb(59, 146, 123)",
             "rgb(185, 157, 136)",
             "rgb(66, 15, 109)",
             "rgb(170, 209, 149)",
             "rgb(202, 171, 175)",
             "rgb(4, 233, 148)",
             "rgb(251, 101, 90)",
             "rgb(66, 45, 73)"
            ]
           },
           "orientation": "h",
           "textangle": 0,
           "textposition": "outside",
           "texttemplate": "%{y}<br>%{x:.4s}",
           "type": "bar",
           "x": [
            24351,
            27148,
            31613,
            34087,
            35211,
            44866,
            51250,
            62715.8,
            69888,
            102813.7
           ],
           "y": [
            "ChevronTexaco",
            "DuPont",
            "Texaco",
            "AT&T",
            "General Electric",
            "Mobil",
            "Intl. Business Machines",
            "Ford Motor",
            "Exxon Mobil",
            "General Motors"
           ]
          }
         ],
         "layout": {
          "bargap": 0.15,
          "font": {
           "size": 14
          },
          "plot_bgcolor": "#FFFFFF",
          "title": {
           "text": "5 top Companies by Revenue for each Decade"
          },
          "xaxis": {
           "range": [
            0,
            288189
           ],
           "showline": true,
           "visible": true
          },
          "yaxis": {
           "showline": false,
           "visible": true
          }
         },
         "name": "1987"
        },
        {
         "data": [
          {
           "cliponaxis": false,
           "hoverinfo": "all",
           "hovertemplate": "<extra></extra>",
           "marker": {
            "color": [
             "rgb(37, 41, 207)",
             "rgb(251, 111, 235)",
             "rgb(185, 157, 136)",
             "rgb(59, 146, 123)",
             "rgb(66, 15, 109)",
             "rgb(170, 209, 149)",
             "rgb(202, 171, 175)",
             "rgb(4, 233, 148)",
             "rgb(251, 101, 90)",
             "rgb(66, 45, 73)"
            ]
           },
           "orientation": "h",
           "textangle": 0,
           "textposition": "outside",
           "texttemplate": "%{y}<br>%{x:.4s}",
           "type": "bar",
           "x": [
            26258,
            30468,
            33598,
            34372,
            39315,
            51223,
            54217,
            71643,
            76416,
            101782
           ],
           "y": [
            "Chrysler",
            "DuPont",
            "AT&T",
            "Texaco",
            "General Electric",
            "Mobil",
            "Intl. Business Machines",
            "Ford Motor",
            "Exxon Mobil",
            "General Motors"
           ]
          }
         ],
         "layout": {
          "bargap": 0.15,
          "font": {
           "size": 14
          },
          "plot_bgcolor": "#FFFFFF",
          "title": {
           "text": "5 top Companies by Revenue for each Decade"
          },
          "xaxis": {
           "range": [
            0,
            288189
           ],
           "showline": true,
           "visible": true
          },
          "yaxis": {
           "showline": false,
           "visible": true
          }
         },
         "name": "1988"
        },
        {
         "data": [
          {
           "cliponaxis": false,
           "hoverinfo": "all",
           "hovertemplate": "<extra></extra>",
           "marker": {
            "color": [
             "rgb(197, 117, 164)",
             "rgb(251, 111, 235)",
             "rgb(59, 146, 123)",
             "rgb(37, 41, 207)",
             "rgb(170, 209, 149)",
             "rgb(66, 15, 109)",
             "rgb(202, 171, 175)",
             "rgb(251, 101, 90)",
             "rgb(4, 233, 148)",
             "rgb(66, 45, 73)"
            ]
           },
           "orientation": "h",
           "textangle": 0,
           "textposition": "outside",
           "texttemplate": "%{y}<br>%{x:.4s}",
           "type": "bar",
           "x": [
            25860,
            32514,
            33544,
            35473,
            48198,
            49414,
            59681,
            79557,
            92446,
            121085
           ],
           "y": [
            "Altria Group",
            "DuPont",
            "Texaco",
            "Chrysler",
            "Mobil",
            "General Electric",
            "Intl. Business Machines",
            "Exxon Mobil",
            "Ford Motor",
            "General Motors"
           ]
          }
         ],
         "layout": {
          "bargap": 0.15,
          "font": {
           "size": 14
          },
          "plot_bgcolor": "#FFFFFF",
          "title": {
           "text": "5 top Companies by Revenue for each Decade"
          },
          "xaxis": {
           "range": [
            0,
            288189
           ],
           "showline": true,
           "visible": true
          },
          "yaxis": {
           "showline": false,
           "visible": true
          }
         },
         "name": "1989"
        },
        {
         "data": [
          {
           "cliponaxis": false,
           "hoverinfo": "all",
           "hovertemplate": "<extra></extra>",
           "marker": {
            "color": [
             "rgb(59, 146, 123)",
             "rgb(251, 111, 235)",
             "rgb(37, 41, 207)",
             "rgb(197, 117, 164)",
             "rgb(170, 209, 149)",
             "rgb(66, 15, 109)",
             "rgb(202, 171, 175)",
             "rgb(251, 101, 90)",
             "rgb(4, 233, 148)",
             "rgb(66, 45, 73)"
            ]
           },
           "orientation": "h",
           "textangle": 0,
           "textposition": "outside",
           "texttemplate": "%{y}<br>%{x:.4s}",
           "type": "bar",
           "x": [
            32416,
            35209,
            36156,
            39069,
            50976,
            55264,
            63438,
            86656,
            96932.6,
            126974.3
           ],
           "y": [
            "Texaco",
            "DuPont",
            "Chrysler",
            "Altria Group",
            "Mobil",
            "General Electric",
            "Intl. Business Machines",
            "Exxon Mobil",
            "Ford Motor",
            "General Motors"
           ]
          }
         ],
         "layout": {
          "bargap": 0.15,
          "font": {
           "size": 14
          },
          "plot_bgcolor": "#FFFFFF",
          "title": {
           "text": "5 top Companies by Revenue for each Decade"
          },
          "xaxis": {
           "range": [
            0,
            288189
           ],
           "showline": true,
           "visible": true
          },
          "yaxis": {
           "showline": false,
           "visible": true
          }
         },
         "name": "1990"
        },
        {
         "data": [
          {
           "cliponaxis": false,
           "hoverinfo": "all",
           "hovertemplate": "<extra></extra>",
           "marker": {
            "color": [
             "rgb(55, 15, 189)",
             "rgb(251, 111, 235)",
             "rgb(59, 146, 123)",
             "rgb(197, 117, 164)",
             "rgb(66, 15, 109)",
             "rgb(170, 209, 149)",
             "rgb(202, 171, 175)",
             "rgb(4, 233, 148)",
             "rgb(251, 101, 90)",
             "rgb(66, 45, 73)"
            ]
           },
           "orientation": "h",
           "textangle": 0,
           "textposition": "outside",
           "texttemplate": "%{y}<br>%{x:.4s}",
           "type": "bar",
           "x": [
            39262,
            39839,
            41235,
            44323,
            58414,
            58770,
            69018,
            98274.7,
            105885,
            125126
           ],
           "y": [
            "ChevronTexaco",
            "DuPont",
            "Texaco",
            "Altria Group",
            "General Electric",
            "Mobil",
            "Intl. Business Machines",
            "Ford Motor",
            "Exxon Mobil",
            "General Motors"
           ]
          }
         ],
         "layout": {
          "bargap": 0.15,
          "font": {
           "size": 14
          },
          "plot_bgcolor": "#FFFFFF",
          "title": {
           "text": "5 top Companies by Revenue for each Decade"
          },
          "xaxis": {
           "range": [
            0,
            288189
           ],
           "showline": true,
           "visible": true
          },
          "yaxis": {
           "showline": false,
           "visible": true
          }
         },
         "name": "1991"
        },
        {
         "data": [
          {
           "cliponaxis": false,
           "hoverinfo": "all",
           "hovertemplate": "<extra></extra>",
           "marker": {
            "color": [
             "rgb(55, 15, 189)",
             "rgb(59, 146, 123)",
             "rgb(251, 111, 235)",
             "rgb(197, 117, 164)",
             "rgb(170, 209, 149)",
             "rgb(66, 15, 109)",
             "rgb(202, 171, 175)",
             "rgb(4, 233, 148)",
             "rgb(251, 101, 90)",
             "rgb(66, 45, 73)"
            ]
           },
           "orientation": "h",
           "textangle": 0,
           "textposition": "outside",
           "texttemplate": "%{y}<br>%{x:.4s}",
           "type": "bar",
           "x": [
            36795,
            37551,
            38031,
            48109,
            56910,
            60236,
            65394,
            88962.8,
            103242,
            123780.1
           ],
           "y": [
            "ChevronTexaco",
            "Texaco",
            "DuPont",
            "Altria Group",
            "Mobil",
            "General Electric",
            "Intl. Business Machines",
            "Ford Motor",
            "Exxon Mobil",
            "General Motors"
           ]
          }
         ],
         "layout": {
          "bargap": 0.15,
          "font": {
           "size": 14
          },
          "plot_bgcolor": "#FFFFFF",
          "title": {
           "text": "5 top Companies by Revenue for each Decade"
          },
          "xaxis": {
           "range": [
            0,
            288189
           ],
           "showline": true,
           "visible": true
          },
          "yaxis": {
           "showline": false,
           "visible": true
          }
         },
         "name": "1992"
        },
        {
         "data": [
          {
           "cliponaxis": false,
           "hoverinfo": "all",
           "hovertemplate": "<extra></extra>",
           "marker": {
            "color": [
             "rgb(59, 146, 123)",
             "rgb(251, 111, 235)",
             "rgb(55, 15, 189)",
             "rgb(197, 117, 164)",
             "rgb(170, 209, 149)",
             "rgb(66, 15, 109)",
             "rgb(202, 171, 175)",
             "rgb(4, 233, 148)",
             "rgb(251, 101, 90)",
             "rgb(66, 45, 73)"
            ]
           },
           "orientation": "h",
           "textangle": 0,
           "textposition": "outside",
           "texttemplate": "%{y}<br>%{x:.4s}",
           "type": "bar",
           "x": [
            37130,
            37386,
            38523,
            50157,
            57389,
            62202,
            65096,
            100785.6,
            103547,
            132774.9
           ],
           "y": [
            "Texaco",
            "DuPont",
            "ChevronTexaco",
            "Altria Group",
            "Mobil",
            "General Electric",
            "Intl. Business Machines",
            "Ford Motor",
            "Exxon Mobil",
            "General Motors"
           ]
          }
         ],
         "layout": {
          "bargap": 0.15,
          "font": {
           "size": 14
          },
          "plot_bgcolor": "#FFFFFF",
          "title": {
           "text": "5 top Companies by Revenue for each Decade"
          },
          "xaxis": {
           "range": [
            0,
            288189
           ],
           "showline": true,
           "visible": true
          },
          "yaxis": {
           "showline": false,
           "visible": true
          }
         },
         "name": "1993"
        },
        {
         "data": [
          {
           "cliponaxis": false,
           "hoverinfo": "all",
           "hovertemplate": "<extra></extra>",
           "marker": {
            "color": [
             "rgb(251, 111, 235)",
             "rgb(59, 146, 123)",
             "rgb(37, 41, 207)",
             "rgb(197, 117, 164)",
             "rgb(170, 209, 149)",
             "rgb(66, 15, 109)",
             "rgb(202, 171, 175)",
             "rgb(251, 101, 90)",
             "rgb(4, 233, 148)",
             "rgb(66, 45, 73)"
            ]
           },
           "orientation": "h",
           "textangle": 0,
           "textposition": "outside",
           "texttemplate": "%{y}<br>%{x:.4s}",
           "type": "bar",
           "x": [
            32621,
            34359,
            43600,
            50621,
            56576,
            60823,
            62716,
            97825,
            108521,
            133621.9
           ],
           "y": [
            "DuPont",
            "Texaco",
            "Chrysler",
            "Altria Group",
            "Mobil",
            "General Electric",
            "Intl. Business Machines",
            "Exxon Mobil",
            "Ford Motor",
            "General Motors"
           ]
          }
         ],
         "layout": {
          "bargap": 0.15,
          "font": {
           "size": 14
          },
          "plot_bgcolor": "#FFFFFF",
          "title": {
           "text": "5 top Companies by Revenue for each Decade"
          },
          "xaxis": {
           "range": [
            0,
            288189
           ],
           "showline": true,
           "visible": true
          },
          "yaxis": {
           "showline": false,
           "visible": true
          }
         },
         "name": "1994"
        },
        {
         "data": [
          {
           "cliponaxis": false,
           "hoverinfo": "all",
           "hovertemplate": "<extra></extra>",
           "marker": {
            "color": [
             "rgb(197, 117, 164)",
             "rgb(229, 179, 85)",
             "rgb(170, 209, 149)",
             "rgb(202, 171, 175)",
             "rgb(66, 15, 109)",
             "rgb(185, 157, 136)",
             "rgb(160, 132, 229)",
             "rgb(251, 101, 90)",
             "rgb(4, 233, 148)",
             "rgb(66, 45, 73)"
            ]
           },
           "orientation": "h",
           "textangle": 0,
           "textposition": "outside",
           "texttemplate": "%{y}<br>%{x:.4s}",
           "type": "bar",
           "x": [
            53776,
            54559,
            59621,
            64052,
            64687,
            75094,
            83412.4,
            101459,
            128439,
            154951.2
           ],
           "y": [
            "Altria Group",
            "Sears Roebuck",
            "Mobil",
            "Intl. Business Machines",
            "General Electric",
            "AT&T",
            "Wal-Mart Stores",
            "Exxon Mobil",
            "Ford Motor",
            "General Motors"
           ]
          }
         ],
         "layout": {
          "bargap": 0.15,
          "font": {
           "size": 14
          },
          "plot_bgcolor": "#FFFFFF",
          "title": {
           "text": "5 top Companies by Revenue for each Decade"
          },
          "xaxis": {
           "range": [
            0,
            288189
           ],
           "showline": true,
           "visible": true
          },
          "yaxis": {
           "showline": false,
           "visible": true
          }
         },
         "name": "1995"
        },
        {
         "data": [
          {
           "cliponaxis": false,
           "hoverinfo": "all",
           "hovertemplate": "<extra></extra>",
           "marker": {
            "color": [
             "rgb(197, 117, 164)",
             "rgb(37, 41, 207)",
             "rgb(170, 209, 149)",
             "rgb(66, 15, 109)",
             "rgb(202, 171, 175)",
             "rgb(185, 157, 136)",
             "rgb(160, 132, 229)",
             "rgb(251, 101, 90)",
             "rgb(4, 233, 148)",
             "rgb(66, 45, 73)"
            ]
           },
           "orientation": "h",
           "textangle": 0,
           "textposition": "outside",
           "texttemplate": "%{y}<br>%{x:.4s}",
           "type": "bar",
           "x": [
            53139,
            53195,
            66724,
            70028,
            71940,
            79609,
            93627,
            110009,
            137137,
            168828.6
           ],
           "y": [
            "Altria Group",
            "Chrysler",
            "Mobil",
            "General Electric",
            "Intl. Business Machines",
            "AT&T",
            "Wal-Mart Stores",
            "Exxon Mobil",
            "Ford Motor",
            "General Motors"
           ]
          }
         ],
         "layout": {
          "bargap": 0.15,
          "font": {
           "size": 14
          },
          "plot_bgcolor": "#FFFFFF",
          "title": {
           "text": "5 top Companies by Revenue for each Decade"
          },
          "xaxis": {
           "range": [
            0,
            288189
           ],
           "showline": true,
           "visible": true
          },
          "yaxis": {
           "showline": false,
           "visible": true
          }
         },
         "name": "1996"
        },
        {
         "data": [
          {
           "cliponaxis": false,
           "hoverinfo": "all",
           "hovertemplate": "<extra></extra>",
           "marker": {
            "color": [
             "rgb(197, 117, 164)",
             "rgb(37, 41, 207)",
             "rgb(170, 209, 149)",
             "rgb(185, 157, 136)",
             "rgb(202, 171, 175)",
             "rgb(66, 15, 109)",
             "rgb(160, 132, 229)",
             "rgb(251, 101, 90)",
             "rgb(4, 233, 148)",
             "rgb(66, 45, 73)"
            ]
           },
           "orientation": "h",
           "textangle": 0,
           "textposition": "outside",
           "texttemplate": "%{y}<br>%{x:.4s}",
           "type": "bar",
           "x": [
            54553,
            61397,
            72267,
            74525,
            75947,
            79179,
            106147,
            119434,
            146991,
            168369
           ],
           "y": [
            "Altria Group",
            "Chrysler",
            "Mobil",
            "AT&T",
            "Intl. Business Machines",
            "General Electric",
            "Wal-Mart Stores",
            "Exxon Mobil",
            "Ford Motor",
            "General Motors"
           ]
          }
         ],
         "layout": {
          "bargap": 0.15,
          "font": {
           "size": 14
          },
          "plot_bgcolor": "#FFFFFF",
          "title": {
           "text": "5 top Companies by Revenue for each Decade"
          },
          "xaxis": {
           "range": [
            0,
            288189
           ],
           "showline": true,
           "visible": true
          },
          "yaxis": {
           "showline": false,
           "visible": true
          }
         },
         "name": "1997"
        },
        {
         "data": [
          {
           "cliponaxis": false,
           "hoverinfo": "all",
           "hovertemplate": "<extra></extra>",
           "marker": {
            "color": [
             "rgb(185, 157, 136)",
             "rgb(197, 117, 164)",
             "rgb(170, 209, 149)",
             "rgb(37, 41, 207)",
             "rgb(202, 171, 175)",
             "rgb(66, 15, 109)",
             "rgb(160, 132, 229)",
             "rgb(251, 101, 90)",
             "rgb(4, 233, 148)",
             "rgb(66, 45, 73)"
            ]
           },
           "orientation": "h",
           "textangle": 0,
           "textposition": "outside",
           "texttemplate": "%{y}<br>%{x:.4s}",
           "type": "bar",
           "x": [
            53261,
            56114,
            59978,
            61147,
            78508,
            90840,
            119299,
            122379,
            153627,
            178174
           ],
           "y": [
            "AT&T",
            "Altria Group",
            "Mobil",
            "Chrysler",
            "Intl. Business Machines",
            "General Electric",
            "Wal-Mart Stores",
            "Exxon Mobil",
            "Ford Motor",
            "General Motors"
           ]
          }
         ],
         "layout": {
          "bargap": 0.15,
          "font": {
           "size": 14
          },
          "plot_bgcolor": "#FFFFFF",
          "title": {
           "text": "5 top Companies by Revenue for each Decade"
          },
          "xaxis": {
           "range": [
            0,
            288189
           ],
           "showline": true,
           "visible": true
          },
          "yaxis": {
           "showline": false,
           "visible": true
          }
         },
         "name": "1998"
        },
        {
         "data": [
          {
           "cliponaxis": false,
           "hoverinfo": "all",
           "hovertemplate": "<extra></extra>",
           "marker": {
            "color": [
             "rgb(185, 157, 136)",
             "rgb(115, 206, 84)",
             "rgb(197, 117, 164)",
             "rgb(48, 235, 131)",
             "rgb(202, 171, 175)",
             "rgb(66, 15, 109)",
             "rgb(251, 101, 90)",
             "rgb(160, 132, 229)",
             "rgb(4, 233, 148)",
             "rgb(66, 45, 73)"
            ]
           },
           "orientation": "h",
           "textangle": 0,
           "textposition": "outside",
           "texttemplate": "%{y}<br>%{x:.4s}",
           "type": "bar",
           "x": [
            53588,
            56154,
            57813,
            76431,
            81667,
            100469,
            100697,
            139208,
            144416,
            161315
           ],
           "y": [
            "AT&T",
            "Boeing",
            "Altria Group",
            "Citigroup",
            "Intl. Business Machines",
            "General Electric",
            "Exxon Mobil",
            "Wal-Mart Stores",
            "Ford Motor",
            "General Motors"
           ]
          }
         ],
         "layout": {
          "bargap": 0.15,
          "font": {
           "size": 14
          },
          "plot_bgcolor": "#FFFFFF",
          "title": {
           "text": "5 top Companies by Revenue for each Decade"
          },
          "xaxis": {
           "range": [
            0,
            288189
           ],
           "showline": true,
           "visible": true
          },
          "yaxis": {
           "showline": false,
           "visible": true
          }
         },
         "name": "1999"
        },
        {
         "data": [
          {
           "cliponaxis": false,
           "hoverinfo": "all",
           "hovertemplate": "<extra></extra>",
           "marker": {
            "color": [
             "rgb(115, 206, 84)",
             "rgb(197, 117, 164)",
             "rgb(185, 157, 136)",
             "rgb(48, 235, 131)",
             "rgb(202, 171, 175)",
             "rgb(66, 15, 109)",
             "rgb(4, 233, 148)",
             "rgb(251, 101, 90)",
             "rgb(160, 132, 229)",
             "rgb(66, 45, 73)"
            ]
           },
           "orientation": "h",
           "textangle": 0,
           "textposition": "outside",
           "texttemplate": "%{y}<br>%{x:.4s}",
           "type": "bar",
           "x": [
            57993,
            61751,
            62391,
            82005,
            87548,
            111630,
            162558,
            163881,
            166809,
            189058
           ],
           "y": [
            "Boeing",
            "Altria Group",
            "AT&T",
            "Citigroup",
            "Intl. Business Machines",
            "General Electric",
            "Ford Motor",
            "Exxon Mobil",
            "Wal-Mart Stores",
            "General Motors"
           ]
          }
         ],
         "layout": {
          "bargap": 0.15,
          "font": {
           "size": 14
          },
          "plot_bgcolor": "#FFFFFF",
          "title": {
           "text": "5 top Companies by Revenue for each Decade"
          },
          "xaxis": {
           "range": [
            0,
            288189
           ],
           "showline": true,
           "visible": true
          },
          "yaxis": {
           "showline": false,
           "visible": true
          }
         },
         "name": "2000"
        },
        {
         "data": [
          {
           "cliponaxis": false,
           "hoverinfo": "all",
           "hovertemplate": "<extra></extra>",
           "marker": {
            "color": [
             "rgb(177, 210, 225)",
             "rgb(185, 157, 136)",
             "rgb(202, 171, 175)",
             "rgb(239, 168, 240)",
             "rgb(48, 235, 131)",
             "rgb(66, 15, 109)",
             "rgb(4, 233, 148)",
             "rgb(66, 45, 73)",
             "rgb(160, 132, 229)",
             "rgb(251, 101, 90)"
            ]
           },
           "orientation": "h",
           "textangle": 0,
           "textposition": "outside",
           "texttemplate": "%{y}<br>%{x:.4s}",
           "type": "bar",
           "x": [
            64707,
            65981,
            88396,
            100789,
            111826,
            129853,
            180598,
            184632,
            193295,
            210392
           ],
           "y": [
            "Verizon Communications",
            "AT&T",
            "Intl. Business Machines",
            "Enron",
            "Citigroup",
            "General Electric",
            "Ford Motor",
            "General Motors",
            "Wal-Mart Stores",
            "Exxon Mobil"
           ]
          }
         ],
         "layout": {
          "bargap": 0.15,
          "font": {
           "size": 14
          },
          "plot_bgcolor": "#FFFFFF",
          "title": {
           "text": "5 top Companies by Revenue for each Decade"
          },
          "xaxis": {
           "range": [
            0,
            288189
           ],
           "showline": true,
           "visible": true
          },
          "yaxis": {
           "showline": false,
           "visible": true
          }
         },
         "name": "2001"
        },
        {
         "data": [
          {
           "cliponaxis": false,
           "hoverinfo": "all",
           "hovertemplate": "<extra></extra>",
           "marker": {
            "color": [
             "rgb(197, 117, 164)",
             "rgb(202, 171, 175)",
             "rgb(55, 15, 189)",
             "rgb(48, 235, 131)",
             "rgb(66, 15, 109)",
             "rgb(239, 168, 240)",
             "rgb(4, 233, 148)",
             "rgb(66, 45, 73)",
             "rgb(251, 101, 90)",
             "rgb(160, 132, 229)"
            ]
           },
           "orientation": "h",
           "textangle": 0,
           "textposition": "outside",
           "texttemplate": "%{y}<br>%{x:.4s}",
           "type": "bar",
           "x": [
            72944,
            85866,
            99699,
            112022,
            125913,
            138718,
            162412,
            177260,
            191581,
            219812
           ],
           "y": [
            "Altria Group",
            "Intl. Business Machines",
            "ChevronTexaco",
            "Citigroup",
            "General Electric",
            "Enron",
            "Ford Motor",
            "General Motors",
            "Exxon Mobil",
            "Wal-Mart Stores"
           ]
          }
         ],
         "layout": {
          "bargap": 0.15,
          "font": {
           "size": 14
          },
          "plot_bgcolor": "#FFFFFF",
          "title": {
           "text": "5 top Companies by Revenue for each Decade"
          },
          "xaxis": {
           "range": [
            0,
            288189
           ],
           "showline": true,
           "visible": true
          },
          "yaxis": {
           "showline": false,
           "visible": true
          }
         },
         "name": "2002"
        },
        {
         "data": [
          {
           "cliponaxis": false,
           "hoverinfo": "all",
           "hovertemplate": "<extra></extra>",
           "marker": {
            "color": [
             "rgb(177, 210, 225)",
             "rgb(245, 244, 232)",
             "rgb(202, 171, 175)",
             "rgb(55, 15, 189)",
             "rgb(48, 235, 131)",
             "rgb(66, 15, 109)",
             "rgb(4, 233, 148)",
             "rgb(251, 101, 90)",
             "rgb(66, 45, 73)",
             "rgb(160, 132, 229)"
            ]
           },
           "orientation": "h",
           "textangle": 0,
           "textposition": "outside",
           "texttemplate": "%{y}<br>%{x:.4s}",
           "type": "bar",
           "x": [
            67625,
            67722.8,
            83132,
            92043,
            100789,
            131698,
            163630,
            182466,
            186763,
            246525
           ],
           "y": [
            "Verizon Communications",
            "American Intl. Group",
            "Intl. Business Machines",
            "ChevronTexaco",
            "Citigroup",
            "General Electric",
            "Ford Motor",
            "Exxon Mobil",
            "General Motors",
            "Wal-Mart Stores"
           ]
          }
         ],
         "layout": {
          "bargap": 0.15,
          "font": {
           "size": 14
          },
          "plot_bgcolor": "#FFFFFF",
          "title": {
           "text": "5 top Companies by Revenue for each Decade"
          },
          "xaxis": {
           "range": [
            0,
            288189
           ],
           "showline": true,
           "visible": true
          },
          "yaxis": {
           "showline": false,
           "visible": true
          }
         },
         "name": "2003"
        },
        {
         "data": [
          {
           "cliponaxis": false,
           "hoverinfo": "all",
           "hovertemplate": "<extra></extra>",
           "marker": {
            "color": [
             "rgb(245, 244, 232)",
             "rgb(202, 171, 175)",
             "rgb(48, 235, 131)",
             "rgb(104, 183, 165)",
             "rgb(55, 15, 189)",
             "rgb(66, 15, 109)",
             "rgb(4, 233, 148)",
             "rgb(66, 45, 73)",
             "rgb(251, 101, 90)",
             "rgb(160, 132, 229)"
            ]
           },
           "orientation": "h",
           "textangle": 0,
           "textposition": "outside",
           "texttemplate": "%{y}<br>%{x:.4s}",
           "type": "bar",
           "x": [
            81300,
            89131,
            94713,
            99468,
            112937,
            134187,
            164496,
            195645.2,
            213199,
            258681
           ],
           "y": [
            "American Intl. Group",
            "Intl. Business Machines",
            "Citigroup",
            "ConocoPhillips",
            "ChevronTexaco",
            "General Electric",
            "Ford Motor",
            "General Motors",
            "Exxon Mobil",
            "Wal-Mart Stores"
           ]
          }
         ],
         "layout": {
          "bargap": 0.15,
          "font": {
           "size": 14
          },
          "plot_bgcolor": "#FFFFFF",
          "title": {
           "text": "5 top Companies by Revenue for each Decade"
          },
          "xaxis": {
           "range": [
            0,
            288189
           ],
           "showline": true,
           "visible": true
          },
          "yaxis": {
           "showline": false,
           "visible": true
          }
         },
         "name": "2004"
        },
        {
         "data": [
          {
           "cliponaxis": false,
           "hoverinfo": "all",
           "hovertemplate": "<extra></extra>",
           "marker": {
            "color": [
             "rgb(202, 171, 175)",
             "rgb(245, 244, 232)",
             "rgb(48, 235, 131)",
             "rgb(104, 183, 165)",
             "rgb(55, 15, 189)",
             "rgb(66, 15, 109)",
             "rgb(4, 233, 148)",
             "rgb(66, 45, 73)",
             "rgb(251, 101, 90)",
             "rgb(160, 132, 229)"
            ]
           },
           "orientation": "h",
           "textangle": 0,
           "textposition": "outside",
           "texttemplate": "%{y}<br>%{x:.4s}",
           "type": "bar",
           "x": [
            96293,
            98610,
            108276,
            121663,
            147967,
            152363,
            172233,
            193517,
            270772,
            288189
           ],
           "y": [
            "Intl. Business Machines",
            "American Intl. Group",
            "Citigroup",
            "ConocoPhillips",
            "ChevronTexaco",
            "General Electric",
            "Ford Motor",
            "General Motors",
            "Exxon Mobil",
            "Wal-Mart Stores"
           ]
          }
         ],
         "layout": {
          "bargap": 0.15,
          "font": {
           "size": 14
          },
          "plot_bgcolor": "#FFFFFF",
          "title": {
           "text": "5 top Companies by Revenue for each Decade"
          },
          "xaxis": {
           "range": [
            0,
            288189
           ],
           "showline": true,
           "visible": true
          },
          "yaxis": {
           "showline": false,
           "visible": true
          }
         },
         "name": "2005"
        }
       ],
       "layout": {
        "bargap": 0.15,
        "font": {
         "size": 14
        },
        "plot_bgcolor": "#FFFFFF",
        "sliders": [
         {
          "active": 0,
          "currentvalue": {
           "font": {
            "size": 20
           },
           "prefix": "Date: ",
           "visible": true,
           "xanchor": "right"
          },
          "len": 0.9,
          "pad": {
           "b": 10,
           "t": 50
          },
          "steps": [
           {
            "args": [
             [
              "1955"
             ],
             {
              "frame": {
               "duration": 800,
               "redraw": false
              },
              "mode": "immediate",
              "transition": {
               "duration": 800
              }
             }
            ],
            "label": "1955",
            "method": "animate"
           },
           {
            "args": [
             [
              "1956"
             ],
             {
              "frame": {
               "duration": 800,
               "redraw": false
              },
              "mode": "immediate",
              "transition": {
               "duration": 800
              }
             }
            ],
            "label": "1956",
            "method": "animate"
           },
           {
            "args": [
             [
              "1957"
             ],
             {
              "frame": {
               "duration": 800,
               "redraw": false
              },
              "mode": "immediate",
              "transition": {
               "duration": 800
              }
             }
            ],
            "label": "1957",
            "method": "animate"
           },
           {
            "args": [
             [
              "1958"
             ],
             {
              "frame": {
               "duration": 800,
               "redraw": false
              },
              "mode": "immediate",
              "transition": {
               "duration": 800
              }
             }
            ],
            "label": "1958",
            "method": "animate"
           },
           {
            "args": [
             [
              "1959"
             ],
             {
              "frame": {
               "duration": 800,
               "redraw": false
              },
              "mode": "immediate",
              "transition": {
               "duration": 800
              }
             }
            ],
            "label": "1959",
            "method": "animate"
           },
           {
            "args": [
             [
              "1960"
             ],
             {
              "frame": {
               "duration": 800,
               "redraw": false
              },
              "mode": "immediate",
              "transition": {
               "duration": 800
              }
             }
            ],
            "label": "1960",
            "method": "animate"
           },
           {
            "args": [
             [
              "1961"
             ],
             {
              "frame": {
               "duration": 800,
               "redraw": false
              },
              "mode": "immediate",
              "transition": {
               "duration": 800
              }
             }
            ],
            "label": "1961",
            "method": "animate"
           },
           {
            "args": [
             [
              "1962"
             ],
             {
              "frame": {
               "duration": 800,
               "redraw": false
              },
              "mode": "immediate",
              "transition": {
               "duration": 800
              }
             }
            ],
            "label": "1962",
            "method": "animate"
           },
           {
            "args": [
             [
              "1963"
             ],
             {
              "frame": {
               "duration": 800,
               "redraw": false
              },
              "mode": "immediate",
              "transition": {
               "duration": 800
              }
             }
            ],
            "label": "1963",
            "method": "animate"
           },
           {
            "args": [
             [
              "1964"
             ],
             {
              "frame": {
               "duration": 800,
               "redraw": false
              },
              "mode": "immediate",
              "transition": {
               "duration": 800
              }
             }
            ],
            "label": "1964",
            "method": "animate"
           },
           {
            "args": [
             [
              "1965"
             ],
             {
              "frame": {
               "duration": 800,
               "redraw": false
              },
              "mode": "immediate",
              "transition": {
               "duration": 800
              }
             }
            ],
            "label": "1965",
            "method": "animate"
           },
           {
            "args": [
             [
              "1966"
             ],
             {
              "frame": {
               "duration": 800,
               "redraw": false
              },
              "mode": "immediate",
              "transition": {
               "duration": 800
              }
             }
            ],
            "label": "1966",
            "method": "animate"
           },
           {
            "args": [
             [
              "1967"
             ],
             {
              "frame": {
               "duration": 800,
               "redraw": false
              },
              "mode": "immediate",
              "transition": {
               "duration": 800
              }
             }
            ],
            "label": "1967",
            "method": "animate"
           },
           {
            "args": [
             [
              "1968"
             ],
             {
              "frame": {
               "duration": 800,
               "redraw": false
              },
              "mode": "immediate",
              "transition": {
               "duration": 800
              }
             }
            ],
            "label": "1968",
            "method": "animate"
           },
           {
            "args": [
             [
              "1969"
             ],
             {
              "frame": {
               "duration": 800,
               "redraw": false
              },
              "mode": "immediate",
              "transition": {
               "duration": 800
              }
             }
            ],
            "label": "1969",
            "method": "animate"
           },
           {
            "args": [
             [
              "1970"
             ],
             {
              "frame": {
               "duration": 800,
               "redraw": false
              },
              "mode": "immediate",
              "transition": {
               "duration": 800
              }
             }
            ],
            "label": "1970",
            "method": "animate"
           },
           {
            "args": [
             [
              "1971"
             ],
             {
              "frame": {
               "duration": 800,
               "redraw": false
              },
              "mode": "immediate",
              "transition": {
               "duration": 800
              }
             }
            ],
            "label": "1971",
            "method": "animate"
           },
           {
            "args": [
             [
              "1972"
             ],
             {
              "frame": {
               "duration": 800,
               "redraw": false
              },
              "mode": "immediate",
              "transition": {
               "duration": 800
              }
             }
            ],
            "label": "1972",
            "method": "animate"
           },
           {
            "args": [
             [
              "1973"
             ],
             {
              "frame": {
               "duration": 800,
               "redraw": false
              },
              "mode": "immediate",
              "transition": {
               "duration": 800
              }
             }
            ],
            "label": "1973",
            "method": "animate"
           },
           {
            "args": [
             [
              "1974"
             ],
             {
              "frame": {
               "duration": 800,
               "redraw": false
              },
              "mode": "immediate",
              "transition": {
               "duration": 800
              }
             }
            ],
            "label": "1974",
            "method": "animate"
           },
           {
            "args": [
             [
              "1975"
             ],
             {
              "frame": {
               "duration": 800,
               "redraw": false
              },
              "mode": "immediate",
              "transition": {
               "duration": 800
              }
             }
            ],
            "label": "1975",
            "method": "animate"
           },
           {
            "args": [
             [
              "1976"
             ],
             {
              "frame": {
               "duration": 800,
               "redraw": false
              },
              "mode": "immediate",
              "transition": {
               "duration": 800
              }
             }
            ],
            "label": "1976",
            "method": "animate"
           },
           {
            "args": [
             [
              "1977"
             ],
             {
              "frame": {
               "duration": 800,
               "redraw": false
              },
              "mode": "immediate",
              "transition": {
               "duration": 800
              }
             }
            ],
            "label": "1977",
            "method": "animate"
           },
           {
            "args": [
             [
              "1978"
             ],
             {
              "frame": {
               "duration": 800,
               "redraw": false
              },
              "mode": "immediate",
              "transition": {
               "duration": 800
              }
             }
            ],
            "label": "1978",
            "method": "animate"
           },
           {
            "args": [
             [
              "1979"
             ],
             {
              "frame": {
               "duration": 800,
               "redraw": false
              },
              "mode": "immediate",
              "transition": {
               "duration": 800
              }
             }
            ],
            "label": "1979",
            "method": "animate"
           },
           {
            "args": [
             [
              "1980"
             ],
             {
              "frame": {
               "duration": 800,
               "redraw": false
              },
              "mode": "immediate",
              "transition": {
               "duration": 800
              }
             }
            ],
            "label": "1980",
            "method": "animate"
           },
           {
            "args": [
             [
              "1981"
             ],
             {
              "frame": {
               "duration": 800,
               "redraw": false
              },
              "mode": "immediate",
              "transition": {
               "duration": 800
              }
             }
            ],
            "label": "1981",
            "method": "animate"
           },
           {
            "args": [
             [
              "1982"
             ],
             {
              "frame": {
               "duration": 800,
               "redraw": false
              },
              "mode": "immediate",
              "transition": {
               "duration": 800
              }
             }
            ],
            "label": "1982",
            "method": "animate"
           },
           {
            "args": [
             [
              "1983"
             ],
             {
              "frame": {
               "duration": 800,
               "redraw": false
              },
              "mode": "immediate",
              "transition": {
               "duration": 800
              }
             }
            ],
            "label": "1983",
            "method": "animate"
           },
           {
            "args": [
             [
              "1984"
             ],
             {
              "frame": {
               "duration": 800,
               "redraw": false
              },
              "mode": "immediate",
              "transition": {
               "duration": 800
              }
             }
            ],
            "label": "1984",
            "method": "animate"
           },
           {
            "args": [
             [
              "1985"
             ],
             {
              "frame": {
               "duration": 800,
               "redraw": false
              },
              "mode": "immediate",
              "transition": {
               "duration": 800
              }
             }
            ],
            "label": "1985",
            "method": "animate"
           },
           {
            "args": [
             [
              "1986"
             ],
             {
              "frame": {
               "duration": 800,
               "redraw": false
              },
              "mode": "immediate",
              "transition": {
               "duration": 800
              }
             }
            ],
            "label": "1986",
            "method": "animate"
           },
           {
            "args": [
             [
              "1987"
             ],
             {
              "frame": {
               "duration": 800,
               "redraw": false
              },
              "mode": "immediate",
              "transition": {
               "duration": 800
              }
             }
            ],
            "label": "1987",
            "method": "animate"
           },
           {
            "args": [
             [
              "1988"
             ],
             {
              "frame": {
               "duration": 800,
               "redraw": false
              },
              "mode": "immediate",
              "transition": {
               "duration": 800
              }
             }
            ],
            "label": "1988",
            "method": "animate"
           },
           {
            "args": [
             [
              "1989"
             ],
             {
              "frame": {
               "duration": 800,
               "redraw": false
              },
              "mode": "immediate",
              "transition": {
               "duration": 800
              }
             }
            ],
            "label": "1989",
            "method": "animate"
           },
           {
            "args": [
             [
              "1990"
             ],
             {
              "frame": {
               "duration": 800,
               "redraw": false
              },
              "mode": "immediate",
              "transition": {
               "duration": 800
              }
             }
            ],
            "label": "1990",
            "method": "animate"
           },
           {
            "args": [
             [
              "1991"
             ],
             {
              "frame": {
               "duration": 800,
               "redraw": false
              },
              "mode": "immediate",
              "transition": {
               "duration": 800
              }
             }
            ],
            "label": "1991",
            "method": "animate"
           },
           {
            "args": [
             [
              "1992"
             ],
             {
              "frame": {
               "duration": 800,
               "redraw": false
              },
              "mode": "immediate",
              "transition": {
               "duration": 800
              }
             }
            ],
            "label": "1992",
            "method": "animate"
           },
           {
            "args": [
             [
              "1993"
             ],
             {
              "frame": {
               "duration": 800,
               "redraw": false
              },
              "mode": "immediate",
              "transition": {
               "duration": 800
              }
             }
            ],
            "label": "1993",
            "method": "animate"
           },
           {
            "args": [
             [
              "1994"
             ],
             {
              "frame": {
               "duration": 800,
               "redraw": false
              },
              "mode": "immediate",
              "transition": {
               "duration": 800
              }
             }
            ],
            "label": "1994",
            "method": "animate"
           },
           {
            "args": [
             [
              "1995"
             ],
             {
              "frame": {
               "duration": 800,
               "redraw": false
              },
              "mode": "immediate",
              "transition": {
               "duration": 800
              }
             }
            ],
            "label": "1995",
            "method": "animate"
           },
           {
            "args": [
             [
              "1996"
             ],
             {
              "frame": {
               "duration": 800,
               "redraw": false
              },
              "mode": "immediate",
              "transition": {
               "duration": 800
              }
             }
            ],
            "label": "1996",
            "method": "animate"
           },
           {
            "args": [
             [
              "1997"
             ],
             {
              "frame": {
               "duration": 800,
               "redraw": false
              },
              "mode": "immediate",
              "transition": {
               "duration": 800
              }
             }
            ],
            "label": "1997",
            "method": "animate"
           },
           {
            "args": [
             [
              "1998"
             ],
             {
              "frame": {
               "duration": 800,
               "redraw": false
              },
              "mode": "immediate",
              "transition": {
               "duration": 800
              }
             }
            ],
            "label": "1998",
            "method": "animate"
           },
           {
            "args": [
             [
              "1999"
             ],
             {
              "frame": {
               "duration": 800,
               "redraw": false
              },
              "mode": "immediate",
              "transition": {
               "duration": 800
              }
             }
            ],
            "label": "1999",
            "method": "animate"
           },
           {
            "args": [
             [
              "2000"
             ],
             {
              "frame": {
               "duration": 800,
               "redraw": false
              },
              "mode": "immediate",
              "transition": {
               "duration": 800
              }
             }
            ],
            "label": "2000",
            "method": "animate"
           },
           {
            "args": [
             [
              "2001"
             ],
             {
              "frame": {
               "duration": 800,
               "redraw": false
              },
              "mode": "immediate",
              "transition": {
               "duration": 800
              }
             }
            ],
            "label": "2001",
            "method": "animate"
           },
           {
            "args": [
             [
              "2002"
             ],
             {
              "frame": {
               "duration": 800,
               "redraw": false
              },
              "mode": "immediate",
              "transition": {
               "duration": 800
              }
             }
            ],
            "label": "2002",
            "method": "animate"
           },
           {
            "args": [
             [
              "2003"
             ],
             {
              "frame": {
               "duration": 800,
               "redraw": false
              },
              "mode": "immediate",
              "transition": {
               "duration": 800
              }
             }
            ],
            "label": "2003",
            "method": "animate"
           },
           {
            "args": [
             [
              "2004"
             ],
             {
              "frame": {
               "duration": 800,
               "redraw": false
              },
              "mode": "immediate",
              "transition": {
               "duration": 800
              }
             }
            ],
            "label": "2004",
            "method": "animate"
           },
           {
            "args": [
             [
              "2005"
             ],
             {
              "frame": {
               "duration": 800,
               "redraw": false
              },
              "mode": "immediate",
              "transition": {
               "duration": 800
              }
             }
            ],
            "label": "2005",
            "method": "animate"
           }
          ],
          "transition": {
           "duration": 300,
           "easing": "cubic-in-out"
          },
          "x": 0.1,
          "xanchor": "left",
          "y": 0,
          "yanchor": "top"
         }
        ],
        "template": {
         "data": {
          "bar": [
           {
            "error_x": {
             "color": "#2a3f5f"
            },
            "error_y": {
             "color": "#2a3f5f"
            },
            "marker": {
             "line": {
              "color": "#E5ECF6",
              "width": 0.5
             },
             "pattern": {
              "fillmode": "overlay",
              "size": 10,
              "solidity": 0.2
             }
            },
            "type": "bar"
           }
          ],
          "barpolar": [
           {
            "marker": {
             "line": {
              "color": "#E5ECF6",
              "width": 0.5
             },
             "pattern": {
              "fillmode": "overlay",
              "size": 10,
              "solidity": 0.2
             }
            },
            "type": "barpolar"
           }
          ],
          "carpet": [
           {
            "aaxis": {
             "endlinecolor": "#2a3f5f",
             "gridcolor": "white",
             "linecolor": "white",
             "minorgridcolor": "white",
             "startlinecolor": "#2a3f5f"
            },
            "baxis": {
             "endlinecolor": "#2a3f5f",
             "gridcolor": "white",
             "linecolor": "white",
             "minorgridcolor": "white",
             "startlinecolor": "#2a3f5f"
            },
            "type": "carpet"
           }
          ],
          "choropleth": [
           {
            "colorbar": {
             "outlinewidth": 0,
             "ticks": ""
            },
            "type": "choropleth"
           }
          ],
          "contour": [
           {
            "colorbar": {
             "outlinewidth": 0,
             "ticks": ""
            },
            "colorscale": [
             [
              0,
              "#0d0887"
             ],
             [
              0.1111111111111111,
              "#46039f"
             ],
             [
              0.2222222222222222,
              "#7201a8"
             ],
             [
              0.3333333333333333,
              "#9c179e"
             ],
             [
              0.4444444444444444,
              "#bd3786"
             ],
             [
              0.5555555555555556,
              "#d8576b"
             ],
             [
              0.6666666666666666,
              "#ed7953"
             ],
             [
              0.7777777777777778,
              "#fb9f3a"
             ],
             [
              0.8888888888888888,
              "#fdca26"
             ],
             [
              1,
              "#f0f921"
             ]
            ],
            "type": "contour"
           }
          ],
          "contourcarpet": [
           {
            "colorbar": {
             "outlinewidth": 0,
             "ticks": ""
            },
            "type": "contourcarpet"
           }
          ],
          "heatmap": [
           {
            "colorbar": {
             "outlinewidth": 0,
             "ticks": ""
            },
            "colorscale": [
             [
              0,
              "#0d0887"
             ],
             [
              0.1111111111111111,
              "#46039f"
             ],
             [
              0.2222222222222222,
              "#7201a8"
             ],
             [
              0.3333333333333333,
              "#9c179e"
             ],
             [
              0.4444444444444444,
              "#bd3786"
             ],
             [
              0.5555555555555556,
              "#d8576b"
             ],
             [
              0.6666666666666666,
              "#ed7953"
             ],
             [
              0.7777777777777778,
              "#fb9f3a"
             ],
             [
              0.8888888888888888,
              "#fdca26"
             ],
             [
              1,
              "#f0f921"
             ]
            ],
            "type": "heatmap"
           }
          ],
          "heatmapgl": [
           {
            "colorbar": {
             "outlinewidth": 0,
             "ticks": ""
            },
            "colorscale": [
             [
              0,
              "#0d0887"
             ],
             [
              0.1111111111111111,
              "#46039f"
             ],
             [
              0.2222222222222222,
              "#7201a8"
             ],
             [
              0.3333333333333333,
              "#9c179e"
             ],
             [
              0.4444444444444444,
              "#bd3786"
             ],
             [
              0.5555555555555556,
              "#d8576b"
             ],
             [
              0.6666666666666666,
              "#ed7953"
             ],
             [
              0.7777777777777778,
              "#fb9f3a"
             ],
             [
              0.8888888888888888,
              "#fdca26"
             ],
             [
              1,
              "#f0f921"
             ]
            ],
            "type": "heatmapgl"
           }
          ],
          "histogram": [
           {
            "marker": {
             "pattern": {
              "fillmode": "overlay",
              "size": 10,
              "solidity": 0.2
             }
            },
            "type": "histogram"
           }
          ],
          "histogram2d": [
           {
            "colorbar": {
             "outlinewidth": 0,
             "ticks": ""
            },
            "colorscale": [
             [
              0,
              "#0d0887"
             ],
             [
              0.1111111111111111,
              "#46039f"
             ],
             [
              0.2222222222222222,
              "#7201a8"
             ],
             [
              0.3333333333333333,
              "#9c179e"
             ],
             [
              0.4444444444444444,
              "#bd3786"
             ],
             [
              0.5555555555555556,
              "#d8576b"
             ],
             [
              0.6666666666666666,
              "#ed7953"
             ],
             [
              0.7777777777777778,
              "#fb9f3a"
             ],
             [
              0.8888888888888888,
              "#fdca26"
             ],
             [
              1,
              "#f0f921"
             ]
            ],
            "type": "histogram2d"
           }
          ],
          "histogram2dcontour": [
           {
            "colorbar": {
             "outlinewidth": 0,
             "ticks": ""
            },
            "colorscale": [
             [
              0,
              "#0d0887"
             ],
             [
              0.1111111111111111,
              "#46039f"
             ],
             [
              0.2222222222222222,
              "#7201a8"
             ],
             [
              0.3333333333333333,
              "#9c179e"
             ],
             [
              0.4444444444444444,
              "#bd3786"
             ],
             [
              0.5555555555555556,
              "#d8576b"
             ],
             [
              0.6666666666666666,
              "#ed7953"
             ],
             [
              0.7777777777777778,
              "#fb9f3a"
             ],
             [
              0.8888888888888888,
              "#fdca26"
             ],
             [
              1,
              "#f0f921"
             ]
            ],
            "type": "histogram2dcontour"
           }
          ],
          "mesh3d": [
           {
            "colorbar": {
             "outlinewidth": 0,
             "ticks": ""
            },
            "type": "mesh3d"
           }
          ],
          "parcoords": [
           {
            "line": {
             "colorbar": {
              "outlinewidth": 0,
              "ticks": ""
             }
            },
            "type": "parcoords"
           }
          ],
          "pie": [
           {
            "automargin": true,
            "type": "pie"
           }
          ],
          "scatter": [
           {
            "marker": {
             "colorbar": {
              "outlinewidth": 0,
              "ticks": ""
             }
            },
            "type": "scatter"
           }
          ],
          "scatter3d": [
           {
            "line": {
             "colorbar": {
              "outlinewidth": 0,
              "ticks": ""
             }
            },
            "marker": {
             "colorbar": {
              "outlinewidth": 0,
              "ticks": ""
             }
            },
            "type": "scatter3d"
           }
          ],
          "scattercarpet": [
           {
            "marker": {
             "colorbar": {
              "outlinewidth": 0,
              "ticks": ""
             }
            },
            "type": "scattercarpet"
           }
          ],
          "scattergeo": [
           {
            "marker": {
             "colorbar": {
              "outlinewidth": 0,
              "ticks": ""
             }
            },
            "type": "scattergeo"
           }
          ],
          "scattergl": [
           {
            "marker": {
             "colorbar": {
              "outlinewidth": 0,
              "ticks": ""
             }
            },
            "type": "scattergl"
           }
          ],
          "scattermapbox": [
           {
            "marker": {
             "colorbar": {
              "outlinewidth": 0,
              "ticks": ""
             }
            },
            "type": "scattermapbox"
           }
          ],
          "scatterpolar": [
           {
            "marker": {
             "colorbar": {
              "outlinewidth": 0,
              "ticks": ""
             }
            },
            "type": "scatterpolar"
           }
          ],
          "scatterpolargl": [
           {
            "marker": {
             "colorbar": {
              "outlinewidth": 0,
              "ticks": ""
             }
            },
            "type": "scatterpolargl"
           }
          ],
          "scatterternary": [
           {
            "marker": {
             "colorbar": {
              "outlinewidth": 0,
              "ticks": ""
             }
            },
            "type": "scatterternary"
           }
          ],
          "surface": [
           {
            "colorbar": {
             "outlinewidth": 0,
             "ticks": ""
            },
            "colorscale": [
             [
              0,
              "#0d0887"
             ],
             [
              0.1111111111111111,
              "#46039f"
             ],
             [
              0.2222222222222222,
              "#7201a8"
             ],
             [
              0.3333333333333333,
              "#9c179e"
             ],
             [
              0.4444444444444444,
              "#bd3786"
             ],
             [
              0.5555555555555556,
              "#d8576b"
             ],
             [
              0.6666666666666666,
              "#ed7953"
             ],
             [
              0.7777777777777778,
              "#fb9f3a"
             ],
             [
              0.8888888888888888,
              "#fdca26"
             ],
             [
              1,
              "#f0f921"
             ]
            ],
            "type": "surface"
           }
          ],
          "table": [
           {
            "cells": {
             "fill": {
              "color": "#EBF0F8"
             },
             "line": {
              "color": "white"
             }
            },
            "header": {
             "fill": {
              "color": "#C8D4E3"
             },
             "line": {
              "color": "white"
             }
            },
            "type": "table"
           }
          ]
         },
         "layout": {
          "annotationdefaults": {
           "arrowcolor": "#2a3f5f",
           "arrowhead": 0,
           "arrowwidth": 1
          },
          "autotypenumbers": "strict",
          "coloraxis": {
           "colorbar": {
            "outlinewidth": 0,
            "ticks": ""
           }
          },
          "colorscale": {
           "diverging": [
            [
             0,
             "#8e0152"
            ],
            [
             0.1,
             "#c51b7d"
            ],
            [
             0.2,
             "#de77ae"
            ],
            [
             0.3,
             "#f1b6da"
            ],
            [
             0.4,
             "#fde0ef"
            ],
            [
             0.5,
             "#f7f7f7"
            ],
            [
             0.6,
             "#e6f5d0"
            ],
            [
             0.7,
             "#b8e186"
            ],
            [
             0.8,
             "#7fbc41"
            ],
            [
             0.9,
             "#4d9221"
            ],
            [
             1,
             "#276419"
            ]
           ],
           "sequential": [
            [
             0,
             "#0d0887"
            ],
            [
             0.1111111111111111,
             "#46039f"
            ],
            [
             0.2222222222222222,
             "#7201a8"
            ],
            [
             0.3333333333333333,
             "#9c179e"
            ],
            [
             0.4444444444444444,
             "#bd3786"
            ],
            [
             0.5555555555555556,
             "#d8576b"
            ],
            [
             0.6666666666666666,
             "#ed7953"
            ],
            [
             0.7777777777777778,
             "#fb9f3a"
            ],
            [
             0.8888888888888888,
             "#fdca26"
            ],
            [
             1,
             "#f0f921"
            ]
           ],
           "sequentialminus": [
            [
             0,
             "#0d0887"
            ],
            [
             0.1111111111111111,
             "#46039f"
            ],
            [
             0.2222222222222222,
             "#7201a8"
            ],
            [
             0.3333333333333333,
             "#9c179e"
            ],
            [
             0.4444444444444444,
             "#bd3786"
            ],
            [
             0.5555555555555556,
             "#d8576b"
            ],
            [
             0.6666666666666666,
             "#ed7953"
            ],
            [
             0.7777777777777778,
             "#fb9f3a"
            ],
            [
             0.8888888888888888,
             "#fdca26"
            ],
            [
             1,
             "#f0f921"
            ]
           ]
          },
          "colorway": [
           "#636efa",
           "#EF553B",
           "#00cc96",
           "#ab63fa",
           "#FFA15A",
           "#19d3f3",
           "#FF6692",
           "#B6E880",
           "#FF97FF",
           "#FECB52"
          ],
          "font": {
           "color": "#2a3f5f"
          },
          "geo": {
           "bgcolor": "white",
           "lakecolor": "white",
           "landcolor": "#E5ECF6",
           "showlakes": true,
           "showland": true,
           "subunitcolor": "white"
          },
          "hoverlabel": {
           "align": "left"
          },
          "hovermode": "closest",
          "mapbox": {
           "style": "light"
          },
          "paper_bgcolor": "white",
          "plot_bgcolor": "#E5ECF6",
          "polar": {
           "angularaxis": {
            "gridcolor": "white",
            "linecolor": "white",
            "ticks": ""
           },
           "bgcolor": "#E5ECF6",
           "radialaxis": {
            "gridcolor": "white",
            "linecolor": "white",
            "ticks": ""
           }
          },
          "scene": {
           "xaxis": {
            "backgroundcolor": "#E5ECF6",
            "gridcolor": "white",
            "gridwidth": 2,
            "linecolor": "white",
            "showbackground": true,
            "ticks": "",
            "zerolinecolor": "white"
           },
           "yaxis": {
            "backgroundcolor": "#E5ECF6",
            "gridcolor": "white",
            "gridwidth": 2,
            "linecolor": "white",
            "showbackground": true,
            "ticks": "",
            "zerolinecolor": "white"
           },
           "zaxis": {
            "backgroundcolor": "#E5ECF6",
            "gridcolor": "white",
            "gridwidth": 2,
            "linecolor": "white",
            "showbackground": true,
            "ticks": "",
            "zerolinecolor": "white"
           }
          },
          "shapedefaults": {
           "line": {
            "color": "#2a3f5f"
           }
          },
          "ternary": {
           "aaxis": {
            "gridcolor": "white",
            "linecolor": "white",
            "ticks": ""
           },
           "baxis": {
            "gridcolor": "white",
            "linecolor": "white",
            "ticks": ""
           },
           "bgcolor": "#E5ECF6",
           "caxis": {
            "gridcolor": "white",
            "linecolor": "white",
            "ticks": ""
           }
          },
          "title": {
           "x": 0.05
          },
          "xaxis": {
           "automargin": true,
           "gridcolor": "white",
           "linecolor": "white",
           "ticks": "",
           "title": {
            "standoff": 15
           },
           "zerolinecolor": "white",
           "zerolinewidth": 2
          },
          "yaxis": {
           "automargin": true,
           "gridcolor": "white",
           "linecolor": "white",
           "ticks": "",
           "title": {
            "standoff": 15
           },
           "zerolinecolor": "white",
           "zerolinewidth": 2
          }
         }
        },
        "title": {
         "text": "5 top Companies by Revenue for each Decade"
        },
        "updatemenus": [
         {
          "buttons": [
           {
            "args": [
             null,
             {
              "frame": {
               "duration": 800,
               "redraw": false
              },
              "fromcurrent": true,
              "transition": {
               "duration": 800,
               "easing": "quadratic-in-out"
              }
             }
            ],
            "label": "Play",
            "method": "animate"
           },
           {
            "args": [
             [
              null
             ],
             {
              "frame": {
               "duration": 0,
               "redraw": false
              },
              "mode": "immediate",
              "transition": {
               "duration": 0
              }
             }
            ],
            "label": "Pause",
            "method": "animate"
           }
          ],
          "direction": "left",
          "pad": {
           "r": 10,
           "t": 87
          },
          "showactive": true,
          "type": "buttons",
          "x": 0.1,
          "xanchor": "right",
          "y": 0,
          "yanchor": "top"
         }
        ],
        "xaxis": {
         "range": [
          0,
          288189
         ],
         "showline": true,
         "showticklabels": true,
         "title": {
          "text": "Revenue (in millions)"
         },
         "visible": true
        },
        "yaxis": {
         "showline": false,
         "showticklabels": false,
         "title": {
          "text": "Companies"
         },
         "visible": true
        }
       }
      },
      "text/html": [
       "<div>                            <div id=\"9c02b009-1291-4b72-815c-1fab57e67599\" class=\"plotly-graph-div\" style=\"height:525px; width:100%;\"></div>            <script type=\"text/javascript\">                require([\"plotly\"], function(Plotly) {                    window.PLOTLYENV=window.PLOTLYENV || {};                                    if (document.getElementById(\"9c02b009-1291-4b72-815c-1fab57e67599\")) {                    Plotly.newPlot(                        \"9c02b009-1291-4b72-815c-1fab57e67599\",                        [{\"cliponaxis\":false,\"hoverinfo\":\"all\",\"marker\":{\"color\":[\"rgb(251, 111, 235)\",\"rgb(170, 209, 149)\",\"rgb(44, 238, 203)\",\"rgb(74, 209, 120)\",\"rgb(37, 41, 207)\",\"rgb(227, 61, 136)\",\"rgb(66, 15, 109)\",\"rgb(175, 10, 197)\",\"rgb(251, 101, 90)\",\"rgb(66, 45, 73)\"]},\"orientation\":\"h\",\"textangle\":0,\"textposition\":\"outside\",\"texttemplate\":\"%{y}<br>%{x:.4s}\",\"x\":[1687.7,1703.6,1705.3,2056.1,2071.6,2510.8,2959.1,3250.4,5661.4,9823.5],\"y\":[\"DuPont\",\"Mobil\",\"Gulf Oil\",\"Armour\",\"Chrysler\",\"Esmark\",\"General Electric\",\"U.S. Steel\",\"Exxon Mobil\",\"General Motors\"],\"type\":\"bar\"}],                        {\"bargap\":0.15,\"font\":{\"size\":14},\"plot_bgcolor\":\"#FFFFFF\",\"title\":{\"text\":\"5 top Companies by Revenue for each Decade\"},\"xaxis\":{\"range\":[0,288189.0],\"showline\":true,\"visible\":true,\"title\":{\"text\":\"Revenue (in millions)\"},\"showticklabels\":true},\"yaxis\":{\"showline\":false,\"visible\":true,\"title\":{\"text\":\"Companies\"},\"showticklabels\":false},\"template\":{\"data\":{\"bar\":[{\"error_x\":{\"color\":\"#2a3f5f\"},\"error_y\":{\"color\":\"#2a3f5f\"},\"marker\":{\"line\":{\"color\":\"#E5ECF6\",\"width\":0.5},\"pattern\":{\"fillmode\":\"overlay\",\"size\":10,\"solidity\":0.2}},\"type\":\"bar\"}],\"barpolar\":[{\"marker\":{\"line\":{\"color\":\"#E5ECF6\",\"width\":0.5},\"pattern\":{\"fillmode\":\"overlay\",\"size\":10,\"solidity\":0.2}},\"type\":\"barpolar\"}],\"carpet\":[{\"aaxis\":{\"endlinecolor\":\"#2a3f5f\",\"gridcolor\":\"white\",\"linecolor\":\"white\",\"minorgridcolor\":\"white\",\"startlinecolor\":\"#2a3f5f\"},\"baxis\":{\"endlinecolor\":\"#2a3f5f\",\"gridcolor\":\"white\",\"linecolor\":\"white\",\"minorgridcolor\":\"white\",\"startlinecolor\":\"#2a3f5f\"},\"type\":\"carpet\"}],\"choropleth\":[{\"colorbar\":{\"outlinewidth\":0,\"ticks\":\"\"},\"type\":\"choropleth\"}],\"contour\":[{\"colorbar\":{\"outlinewidth\":0,\"ticks\":\"\"},\"colorscale\":[[0.0,\"#0d0887\"],[0.1111111111111111,\"#46039f\"],[0.2222222222222222,\"#7201a8\"],[0.3333333333333333,\"#9c179e\"],[0.4444444444444444,\"#bd3786\"],[0.5555555555555556,\"#d8576b\"],[0.6666666666666666,\"#ed7953\"],[0.7777777777777778,\"#fb9f3a\"],[0.8888888888888888,\"#fdca26\"],[1.0,\"#f0f921\"]],\"type\":\"contour\"}],\"contourcarpet\":[{\"colorbar\":{\"outlinewidth\":0,\"ticks\":\"\"},\"type\":\"contourcarpet\"}],\"heatmap\":[{\"colorbar\":{\"outlinewidth\":0,\"ticks\":\"\"},\"colorscale\":[[0.0,\"#0d0887\"],[0.1111111111111111,\"#46039f\"],[0.2222222222222222,\"#7201a8\"],[0.3333333333333333,\"#9c179e\"],[0.4444444444444444,\"#bd3786\"],[0.5555555555555556,\"#d8576b\"],[0.6666666666666666,\"#ed7953\"],[0.7777777777777778,\"#fb9f3a\"],[0.8888888888888888,\"#fdca26\"],[1.0,\"#f0f921\"]],\"type\":\"heatmap\"}],\"heatmapgl\":[{\"colorbar\":{\"outlinewidth\":0,\"ticks\":\"\"},\"colorscale\":[[0.0,\"#0d0887\"],[0.1111111111111111,\"#46039f\"],[0.2222222222222222,\"#7201a8\"],[0.3333333333333333,\"#9c179e\"],[0.4444444444444444,\"#bd3786\"],[0.5555555555555556,\"#d8576b\"],[0.6666666666666666,\"#ed7953\"],[0.7777777777777778,\"#fb9f3a\"],[0.8888888888888888,\"#fdca26\"],[1.0,\"#f0f921\"]],\"type\":\"heatmapgl\"}],\"histogram\":[{\"marker\":{\"pattern\":{\"fillmode\":\"overlay\",\"size\":10,\"solidity\":0.2}},\"type\":\"histogram\"}],\"histogram2d\":[{\"colorbar\":{\"outlinewidth\":0,\"ticks\":\"\"},\"colorscale\":[[0.0,\"#0d0887\"],[0.1111111111111111,\"#46039f\"],[0.2222222222222222,\"#7201a8\"],[0.3333333333333333,\"#9c179e\"],[0.4444444444444444,\"#bd3786\"],[0.5555555555555556,\"#d8576b\"],[0.6666666666666666,\"#ed7953\"],[0.7777777777777778,\"#fb9f3a\"],[0.8888888888888888,\"#fdca26\"],[1.0,\"#f0f921\"]],\"type\":\"histogram2d\"}],\"histogram2dcontour\":[{\"colorbar\":{\"outlinewidth\":0,\"ticks\":\"\"},\"colorscale\":[[0.0,\"#0d0887\"],[0.1111111111111111,\"#46039f\"],[0.2222222222222222,\"#7201a8\"],[0.3333333333333333,\"#9c179e\"],[0.4444444444444444,\"#bd3786\"],[0.5555555555555556,\"#d8576b\"],[0.6666666666666666,\"#ed7953\"],[0.7777777777777778,\"#fb9f3a\"],[0.8888888888888888,\"#fdca26\"],[1.0,\"#f0f921\"]],\"type\":\"histogram2dcontour\"}],\"mesh3d\":[{\"colorbar\":{\"outlinewidth\":0,\"ticks\":\"\"},\"type\":\"mesh3d\"}],\"parcoords\":[{\"line\":{\"colorbar\":{\"outlinewidth\":0,\"ticks\":\"\"}},\"type\":\"parcoords\"}],\"pie\":[{\"automargin\":true,\"type\":\"pie\"}],\"scatter\":[{\"marker\":{\"colorbar\":{\"outlinewidth\":0,\"ticks\":\"\"}},\"type\":\"scatter\"}],\"scatter3d\":[{\"line\":{\"colorbar\":{\"outlinewidth\":0,\"ticks\":\"\"}},\"marker\":{\"colorbar\":{\"outlinewidth\":0,\"ticks\":\"\"}},\"type\":\"scatter3d\"}],\"scattercarpet\":[{\"marker\":{\"colorbar\":{\"outlinewidth\":0,\"ticks\":\"\"}},\"type\":\"scattercarpet\"}],\"scattergeo\":[{\"marker\":{\"colorbar\":{\"outlinewidth\":0,\"ticks\":\"\"}},\"type\":\"scattergeo\"}],\"scattergl\":[{\"marker\":{\"colorbar\":{\"outlinewidth\":0,\"ticks\":\"\"}},\"type\":\"scattergl\"}],\"scattermapbox\":[{\"marker\":{\"colorbar\":{\"outlinewidth\":0,\"ticks\":\"\"}},\"type\":\"scattermapbox\"}],\"scatterpolar\":[{\"marker\":{\"colorbar\":{\"outlinewidth\":0,\"ticks\":\"\"}},\"type\":\"scatterpolar\"}],\"scatterpolargl\":[{\"marker\":{\"colorbar\":{\"outlinewidth\":0,\"ticks\":\"\"}},\"type\":\"scatterpolargl\"}],\"scatterternary\":[{\"marker\":{\"colorbar\":{\"outlinewidth\":0,\"ticks\":\"\"}},\"type\":\"scatterternary\"}],\"surface\":[{\"colorbar\":{\"outlinewidth\":0,\"ticks\":\"\"},\"colorscale\":[[0.0,\"#0d0887\"],[0.1111111111111111,\"#46039f\"],[0.2222222222222222,\"#7201a8\"],[0.3333333333333333,\"#9c179e\"],[0.4444444444444444,\"#bd3786\"],[0.5555555555555556,\"#d8576b\"],[0.6666666666666666,\"#ed7953\"],[0.7777777777777778,\"#fb9f3a\"],[0.8888888888888888,\"#fdca26\"],[1.0,\"#f0f921\"]],\"type\":\"surface\"}],\"table\":[{\"cells\":{\"fill\":{\"color\":\"#EBF0F8\"},\"line\":{\"color\":\"white\"}},\"header\":{\"fill\":{\"color\":\"#C8D4E3\"},\"line\":{\"color\":\"white\"}},\"type\":\"table\"}]},\"layout\":{\"annotationdefaults\":{\"arrowcolor\":\"#2a3f5f\",\"arrowhead\":0,\"arrowwidth\":1},\"autotypenumbers\":\"strict\",\"coloraxis\":{\"colorbar\":{\"outlinewidth\":0,\"ticks\":\"\"}},\"colorscale\":{\"diverging\":[[0,\"#8e0152\"],[0.1,\"#c51b7d\"],[0.2,\"#de77ae\"],[0.3,\"#f1b6da\"],[0.4,\"#fde0ef\"],[0.5,\"#f7f7f7\"],[0.6,\"#e6f5d0\"],[0.7,\"#b8e186\"],[0.8,\"#7fbc41\"],[0.9,\"#4d9221\"],[1,\"#276419\"]],\"sequential\":[[0.0,\"#0d0887\"],[0.1111111111111111,\"#46039f\"],[0.2222222222222222,\"#7201a8\"],[0.3333333333333333,\"#9c179e\"],[0.4444444444444444,\"#bd3786\"],[0.5555555555555556,\"#d8576b\"],[0.6666666666666666,\"#ed7953\"],[0.7777777777777778,\"#fb9f3a\"],[0.8888888888888888,\"#fdca26\"],[1.0,\"#f0f921\"]],\"sequentialminus\":[[0.0,\"#0d0887\"],[0.1111111111111111,\"#46039f\"],[0.2222222222222222,\"#7201a8\"],[0.3333333333333333,\"#9c179e\"],[0.4444444444444444,\"#bd3786\"],[0.5555555555555556,\"#d8576b\"],[0.6666666666666666,\"#ed7953\"],[0.7777777777777778,\"#fb9f3a\"],[0.8888888888888888,\"#fdca26\"],[1.0,\"#f0f921\"]]},\"colorway\":[\"#636efa\",\"#EF553B\",\"#00cc96\",\"#ab63fa\",\"#FFA15A\",\"#19d3f3\",\"#FF6692\",\"#B6E880\",\"#FF97FF\",\"#FECB52\"],\"font\":{\"color\":\"#2a3f5f\"},\"geo\":{\"bgcolor\":\"white\",\"lakecolor\":\"white\",\"landcolor\":\"#E5ECF6\",\"showlakes\":true,\"showland\":true,\"subunitcolor\":\"white\"},\"hoverlabel\":{\"align\":\"left\"},\"hovermode\":\"closest\",\"mapbox\":{\"style\":\"light\"},\"paper_bgcolor\":\"white\",\"plot_bgcolor\":\"#E5ECF6\",\"polar\":{\"angularaxis\":{\"gridcolor\":\"white\",\"linecolor\":\"white\",\"ticks\":\"\"},\"bgcolor\":\"#E5ECF6\",\"radialaxis\":{\"gridcolor\":\"white\",\"linecolor\":\"white\",\"ticks\":\"\"}},\"scene\":{\"xaxis\":{\"backgroundcolor\":\"#E5ECF6\",\"gridcolor\":\"white\",\"gridwidth\":2,\"linecolor\":\"white\",\"showbackground\":true,\"ticks\":\"\",\"zerolinecolor\":\"white\"},\"yaxis\":{\"backgroundcolor\":\"#E5ECF6\",\"gridcolor\":\"white\",\"gridwidth\":2,\"linecolor\":\"white\",\"showbackground\":true,\"ticks\":\"\",\"zerolinecolor\":\"white\"},\"zaxis\":{\"backgroundcolor\":\"#E5ECF6\",\"gridcolor\":\"white\",\"gridwidth\":2,\"linecolor\":\"white\",\"showbackground\":true,\"ticks\":\"\",\"zerolinecolor\":\"white\"}},\"shapedefaults\":{\"line\":{\"color\":\"#2a3f5f\"}},\"ternary\":{\"aaxis\":{\"gridcolor\":\"white\",\"linecolor\":\"white\",\"ticks\":\"\"},\"baxis\":{\"gridcolor\":\"white\",\"linecolor\":\"white\",\"ticks\":\"\"},\"bgcolor\":\"#E5ECF6\",\"caxis\":{\"gridcolor\":\"white\",\"linecolor\":\"white\",\"ticks\":\"\"}},\"title\":{\"x\":0.05},\"xaxis\":{\"automargin\":true,\"gridcolor\":\"white\",\"linecolor\":\"white\",\"ticks\":\"\",\"title\":{\"standoff\":15},\"zerolinecolor\":\"white\",\"zerolinewidth\":2},\"yaxis\":{\"automargin\":true,\"gridcolor\":\"white\",\"linecolor\":\"white\",\"ticks\":\"\",\"title\":{\"standoff\":15},\"zerolinecolor\":\"white\",\"zerolinewidth\":2}}},\"updatemenus\":[{\"buttons\":[{\"args\":[null,{\"frame\":{\"duration\":800,\"redraw\":false},\"fromcurrent\":true,\"transition\":{\"duration\":800,\"easing\":\"quadratic-in-out\"}}],\"label\":\"Play\",\"method\":\"animate\"},{\"args\":[[null],{\"frame\":{\"duration\":0,\"redraw\":false},\"mode\":\"immediate\",\"transition\":{\"duration\":0}}],\"label\":\"Pause\",\"method\":\"animate\"}],\"direction\":\"left\",\"pad\":{\"r\":10,\"t\":87},\"showactive\":true,\"type\":\"buttons\",\"x\":0.1,\"xanchor\":\"right\",\"y\":0,\"yanchor\":\"top\"}],\"sliders\":[{\"active\":0,\"currentvalue\":{\"font\":{\"size\":20},\"prefix\":\"Date: \",\"visible\":true,\"xanchor\":\"right\"},\"len\":0.9,\"pad\":{\"b\":10,\"t\":50},\"steps\":[{\"args\":[[\"1955\"],{\"frame\":{\"duration\":800,\"redraw\":false},\"mode\":\"immediate\",\"transition\":{\"duration\":800}}],\"label\":\"1955\",\"method\":\"animate\"},{\"args\":[[\"1956\"],{\"frame\":{\"duration\":800,\"redraw\":false},\"mode\":\"immediate\",\"transition\":{\"duration\":800}}],\"label\":\"1956\",\"method\":\"animate\"},{\"args\":[[\"1957\"],{\"frame\":{\"duration\":800,\"redraw\":false},\"mode\":\"immediate\",\"transition\":{\"duration\":800}}],\"label\":\"1957\",\"method\":\"animate\"},{\"args\":[[\"1958\"],{\"frame\":{\"duration\":800,\"redraw\":false},\"mode\":\"immediate\",\"transition\":{\"duration\":800}}],\"label\":\"1958\",\"method\":\"animate\"},{\"args\":[[\"1959\"],{\"frame\":{\"duration\":800,\"redraw\":false},\"mode\":\"immediate\",\"transition\":{\"duration\":800}}],\"label\":\"1959\",\"method\":\"animate\"},{\"args\":[[\"1960\"],{\"frame\":{\"duration\":800,\"redraw\":false},\"mode\":\"immediate\",\"transition\":{\"duration\":800}}],\"label\":\"1960\",\"method\":\"animate\"},{\"args\":[[\"1961\"],{\"frame\":{\"duration\":800,\"redraw\":false},\"mode\":\"immediate\",\"transition\":{\"duration\":800}}],\"label\":\"1961\",\"method\":\"animate\"},{\"args\":[[\"1962\"],{\"frame\":{\"duration\":800,\"redraw\":false},\"mode\":\"immediate\",\"transition\":{\"duration\":800}}],\"label\":\"1962\",\"method\":\"animate\"},{\"args\":[[\"1963\"],{\"frame\":{\"duration\":800,\"redraw\":false},\"mode\":\"immediate\",\"transition\":{\"duration\":800}}],\"label\":\"1963\",\"method\":\"animate\"},{\"args\":[[\"1964\"],{\"frame\":{\"duration\":800,\"redraw\":false},\"mode\":\"immediate\",\"transition\":{\"duration\":800}}],\"label\":\"1964\",\"method\":\"animate\"},{\"args\":[[\"1965\"],{\"frame\":{\"duration\":800,\"redraw\":false},\"mode\":\"immediate\",\"transition\":{\"duration\":800}}],\"label\":\"1965\",\"method\":\"animate\"},{\"args\":[[\"1966\"],{\"frame\":{\"duration\":800,\"redraw\":false},\"mode\":\"immediate\",\"transition\":{\"duration\":800}}],\"label\":\"1966\",\"method\":\"animate\"},{\"args\":[[\"1967\"],{\"frame\":{\"duration\":800,\"redraw\":false},\"mode\":\"immediate\",\"transition\":{\"duration\":800}}],\"label\":\"1967\",\"method\":\"animate\"},{\"args\":[[\"1968\"],{\"frame\":{\"duration\":800,\"redraw\":false},\"mode\":\"immediate\",\"transition\":{\"duration\":800}}],\"label\":\"1968\",\"method\":\"animate\"},{\"args\":[[\"1969\"],{\"frame\":{\"duration\":800,\"redraw\":false},\"mode\":\"immediate\",\"transition\":{\"duration\":800}}],\"label\":\"1969\",\"method\":\"animate\"},{\"args\":[[\"1970\"],{\"frame\":{\"duration\":800,\"redraw\":false},\"mode\":\"immediate\",\"transition\":{\"duration\":800}}],\"label\":\"1970\",\"method\":\"animate\"},{\"args\":[[\"1971\"],{\"frame\":{\"duration\":800,\"redraw\":false},\"mode\":\"immediate\",\"transition\":{\"duration\":800}}],\"label\":\"1971\",\"method\":\"animate\"},{\"args\":[[\"1972\"],{\"frame\":{\"duration\":800,\"redraw\":false},\"mode\":\"immediate\",\"transition\":{\"duration\":800}}],\"label\":\"1972\",\"method\":\"animate\"},{\"args\":[[\"1973\"],{\"frame\":{\"duration\":800,\"redraw\":false},\"mode\":\"immediate\",\"transition\":{\"duration\":800}}],\"label\":\"1973\",\"method\":\"animate\"},{\"args\":[[\"1974\"],{\"frame\":{\"duration\":800,\"redraw\":false},\"mode\":\"immediate\",\"transition\":{\"duration\":800}}],\"label\":\"1974\",\"method\":\"animate\"},{\"args\":[[\"1975\"],{\"frame\":{\"duration\":800,\"redraw\":false},\"mode\":\"immediate\",\"transition\":{\"duration\":800}}],\"label\":\"1975\",\"method\":\"animate\"},{\"args\":[[\"1976\"],{\"frame\":{\"duration\":800,\"redraw\":false},\"mode\":\"immediate\",\"transition\":{\"duration\":800}}],\"label\":\"1976\",\"method\":\"animate\"},{\"args\":[[\"1977\"],{\"frame\":{\"duration\":800,\"redraw\":false},\"mode\":\"immediate\",\"transition\":{\"duration\":800}}],\"label\":\"1977\",\"method\":\"animate\"},{\"args\":[[\"1978\"],{\"frame\":{\"duration\":800,\"redraw\":false},\"mode\":\"immediate\",\"transition\":{\"duration\":800}}],\"label\":\"1978\",\"method\":\"animate\"},{\"args\":[[\"1979\"],{\"frame\":{\"duration\":800,\"redraw\":false},\"mode\":\"immediate\",\"transition\":{\"duration\":800}}],\"label\":\"1979\",\"method\":\"animate\"},{\"args\":[[\"1980\"],{\"frame\":{\"duration\":800,\"redraw\":false},\"mode\":\"immediate\",\"transition\":{\"duration\":800}}],\"label\":\"1980\",\"method\":\"animate\"},{\"args\":[[\"1981\"],{\"frame\":{\"duration\":800,\"redraw\":false},\"mode\":\"immediate\",\"transition\":{\"duration\":800}}],\"label\":\"1981\",\"method\":\"animate\"},{\"args\":[[\"1982\"],{\"frame\":{\"duration\":800,\"redraw\":false},\"mode\":\"immediate\",\"transition\":{\"duration\":800}}],\"label\":\"1982\",\"method\":\"animate\"},{\"args\":[[\"1983\"],{\"frame\":{\"duration\":800,\"redraw\":false},\"mode\":\"immediate\",\"transition\":{\"duration\":800}}],\"label\":\"1983\",\"method\":\"animate\"},{\"args\":[[\"1984\"],{\"frame\":{\"duration\":800,\"redraw\":false},\"mode\":\"immediate\",\"transition\":{\"duration\":800}}],\"label\":\"1984\",\"method\":\"animate\"},{\"args\":[[\"1985\"],{\"frame\":{\"duration\":800,\"redraw\":false},\"mode\":\"immediate\",\"transition\":{\"duration\":800}}],\"label\":\"1985\",\"method\":\"animate\"},{\"args\":[[\"1986\"],{\"frame\":{\"duration\":800,\"redraw\":false},\"mode\":\"immediate\",\"transition\":{\"duration\":800}}],\"label\":\"1986\",\"method\":\"animate\"},{\"args\":[[\"1987\"],{\"frame\":{\"duration\":800,\"redraw\":false},\"mode\":\"immediate\",\"transition\":{\"duration\":800}}],\"label\":\"1987\",\"method\":\"animate\"},{\"args\":[[\"1988\"],{\"frame\":{\"duration\":800,\"redraw\":false},\"mode\":\"immediate\",\"transition\":{\"duration\":800}}],\"label\":\"1988\",\"method\":\"animate\"},{\"args\":[[\"1989\"],{\"frame\":{\"duration\":800,\"redraw\":false},\"mode\":\"immediate\",\"transition\":{\"duration\":800}}],\"label\":\"1989\",\"method\":\"animate\"},{\"args\":[[\"1990\"],{\"frame\":{\"duration\":800,\"redraw\":false},\"mode\":\"immediate\",\"transition\":{\"duration\":800}}],\"label\":\"1990\",\"method\":\"animate\"},{\"args\":[[\"1991\"],{\"frame\":{\"duration\":800,\"redraw\":false},\"mode\":\"immediate\",\"transition\":{\"duration\":800}}],\"label\":\"1991\",\"method\":\"animate\"},{\"args\":[[\"1992\"],{\"frame\":{\"duration\":800,\"redraw\":false},\"mode\":\"immediate\",\"transition\":{\"duration\":800}}],\"label\":\"1992\",\"method\":\"animate\"},{\"args\":[[\"1993\"],{\"frame\":{\"duration\":800,\"redraw\":false},\"mode\":\"immediate\",\"transition\":{\"duration\":800}}],\"label\":\"1993\",\"method\":\"animate\"},{\"args\":[[\"1994\"],{\"frame\":{\"duration\":800,\"redraw\":false},\"mode\":\"immediate\",\"transition\":{\"duration\":800}}],\"label\":\"1994\",\"method\":\"animate\"},{\"args\":[[\"1995\"],{\"frame\":{\"duration\":800,\"redraw\":false},\"mode\":\"immediate\",\"transition\":{\"duration\":800}}],\"label\":\"1995\",\"method\":\"animate\"},{\"args\":[[\"1996\"],{\"frame\":{\"duration\":800,\"redraw\":false},\"mode\":\"immediate\",\"transition\":{\"duration\":800}}],\"label\":\"1996\",\"method\":\"animate\"},{\"args\":[[\"1997\"],{\"frame\":{\"duration\":800,\"redraw\":false},\"mode\":\"immediate\",\"transition\":{\"duration\":800}}],\"label\":\"1997\",\"method\":\"animate\"},{\"args\":[[\"1998\"],{\"frame\":{\"duration\":800,\"redraw\":false},\"mode\":\"immediate\",\"transition\":{\"duration\":800}}],\"label\":\"1998\",\"method\":\"animate\"},{\"args\":[[\"1999\"],{\"frame\":{\"duration\":800,\"redraw\":false},\"mode\":\"immediate\",\"transition\":{\"duration\":800}}],\"label\":\"1999\",\"method\":\"animate\"},{\"args\":[[\"2000\"],{\"frame\":{\"duration\":800,\"redraw\":false},\"mode\":\"immediate\",\"transition\":{\"duration\":800}}],\"label\":\"2000\",\"method\":\"animate\"},{\"args\":[[\"2001\"],{\"frame\":{\"duration\":800,\"redraw\":false},\"mode\":\"immediate\",\"transition\":{\"duration\":800}}],\"label\":\"2001\",\"method\":\"animate\"},{\"args\":[[\"2002\"],{\"frame\":{\"duration\":800,\"redraw\":false},\"mode\":\"immediate\",\"transition\":{\"duration\":800}}],\"label\":\"2002\",\"method\":\"animate\"},{\"args\":[[\"2003\"],{\"frame\":{\"duration\":800,\"redraw\":false},\"mode\":\"immediate\",\"transition\":{\"duration\":800}}],\"label\":\"2003\",\"method\":\"animate\"},{\"args\":[[\"2004\"],{\"frame\":{\"duration\":800,\"redraw\":false},\"mode\":\"immediate\",\"transition\":{\"duration\":800}}],\"label\":\"2004\",\"method\":\"animate\"},{\"args\":[[\"2005\"],{\"frame\":{\"duration\":800,\"redraw\":false},\"mode\":\"immediate\",\"transition\":{\"duration\":800}}],\"label\":\"2005\",\"method\":\"animate\"}],\"transition\":{\"duration\":300,\"easing\":\"cubic-in-out\"},\"x\":0.1,\"xanchor\":\"left\",\"y\":0,\"yanchor\":\"top\"}]},                        {\"responsive\": true}                    ).then(function(){\n",
       "                            Plotly.addFrames('9c02b009-1291-4b72-815c-1fab57e67599', [{\"data\":[{\"cliponaxis\":false,\"hoverinfo\":\"all\",\"hovertemplate\":\"<extra></extra>\",\"marker\":{\"color\":[\"rgb(251, 111, 235)\",\"rgb(170, 209, 149)\",\"rgb(44, 238, 203)\",\"rgb(74, 209, 120)\",\"rgb(37, 41, 207)\",\"rgb(227, 61, 136)\",\"rgb(66, 15, 109)\",\"rgb(175, 10, 197)\",\"rgb(251, 101, 90)\",\"rgb(66, 45, 73)\"]},\"orientation\":\"h\",\"textangle\":0,\"textposition\":\"outside\",\"texttemplate\":\"%{y}<br>%{x:.4s}\",\"x\":[1687.7,1703.6,1705.3,2056.1,2071.6,2510.8,2959.1,3250.4,5661.4,9823.5],\"y\":[\"DuPont\",\"Mobil\",\"Gulf Oil\",\"Armour\",\"Chrysler\",\"Esmark\",\"General Electric\",\"U.S. Steel\",\"Exxon Mobil\",\"General Motors\"],\"type\":\"bar\"}],\"layout\":{\"bargap\":0.15,\"font\":{\"size\":14},\"plot_bgcolor\":\"#FFFFFF\",\"title\":{\"text\":\"5 top Companies by Revenue for each Decade\"},\"xaxis\":{\"range\":[0,288189.0],\"showline\":true,\"visible\":true},\"yaxis\":{\"showline\":false,\"visible\":true}},\"name\":\"1955\"},{\"data\":[{\"cliponaxis\":false,\"hoverinfo\":\"all\",\"hovertemplate\":\"<extra></extra>\",\"marker\":{\"color\":[\"rgb(251, 111, 235)\",\"rgb(74, 209, 120)\",\"rgb(247, 123, 66)\",\"rgb(227, 61, 136)\",\"rgb(66, 15, 109)\",\"rgb(37, 41, 207)\",\"rgb(175, 10, 197)\",\"rgb(4, 233, 148)\",\"rgb(251, 101, 90)\",\"rgb(66, 45, 73)\"]},\"orientation\":\"h\",\"textangle\":0,\"textposition\":\"outside\",\"texttemplate\":\"%{y}<br>%{x:.4s}\",\"x\":[1909.2,1967.7,2096.6,2404.1,3095.4,3466.2,4097.7,5594.0,6272.4,12443.3],\"y\":[\"DuPont\",\"Armour\",\"Bethlehem Steel\",\"Esmark\",\"General Electric\",\"Chrysler\",\"U.S. Steel\",\"Ford Motor\",\"Exxon Mobil\",\"General Motors\"],\"type\":\"bar\"}],\"layout\":{\"bargap\":0.15,\"font\":{\"size\":14},\"plot_bgcolor\":\"#FFFFFF\",\"title\":{\"text\":\"5 top Companies by Revenue for each Decade\"},\"xaxis\":{\"range\":[0,288189.0],\"showline\":true,\"visible\":true},\"yaxis\":{\"showline\":false,\"visible\":true}},\"name\":\"1956\"},{\"data\":[{\"cliponaxis\":false,\"hoverinfo\":\"all\",\"hovertemplate\":\"<extra></extra>\",\"marker\":{\"color\":[\"rgb(44, 238, 203)\",\"rgb(162, 75, 189)\",\"rgb(227, 61, 136)\",\"rgb(37, 41, 207)\",\"rgb(170, 209, 149)\",\"rgb(66, 15, 109)\",\"rgb(175, 10, 197)\",\"rgb(4, 233, 148)\",\"rgb(251, 101, 90)\",\"rgb(66, 45, 73)\"]},\"orientation\":\"h\",\"textangle\":0,\"textposition\":\"outside\",\"texttemplate\":\"%{y}<br>%{x:.4s}\",\"x\":[2339.7,2372.7,2429.3,2676.3,2750.3,4090.0,4228.9,4647.0,7126.9,10796.4],\"y\":[\"Gulf Oil\",\"AT&T Technologies\",\"Esmark\",\"Chrysler\",\"Mobil\",\"General Electric\",\"U.S. Steel\",\"Ford Motor\",\"Exxon Mobil\",\"General Motors\"],\"type\":\"bar\"}],\"layout\":{\"bargap\":0.15,\"font\":{\"size\":14},\"plot_bgcolor\":\"#FFFFFF\",\"title\":{\"text\":\"5 top Companies by Revenue for each Decade\"},\"xaxis\":{\"range\":[0,288189.0],\"showline\":true,\"visible\":true},\"yaxis\":{\"showline\":false,\"visible\":true}},\"name\":\"1957\"},{\"data\":[{\"cliponaxis\":false,\"hoverinfo\":\"all\",\"hovertemplate\":\"<extra></extra>\",\"marker\":{\"color\":[\"rgb(227, 61, 136)\",\"rgb(247, 123, 66)\",\"rgb(44, 238, 203)\",\"rgb(170, 209, 149)\",\"rgb(37, 41, 207)\",\"rgb(66, 15, 109)\",\"rgb(175, 10, 197)\",\"rgb(4, 233, 148)\",\"rgb(251, 101, 90)\",\"rgb(66, 45, 73)\"]},\"orientation\":\"h\",\"textangle\":0,\"textposition\":\"outside\",\"texttemplate\":\"%{y}<br>%{x:.4s}\",\"x\":[2542.2,2603.7,2730.1,2976.1,3565.0,4335.7,4413.8,5771.3,7830.2,10989.8],\"y\":[\"Esmark\",\"Bethlehem Steel\",\"Gulf Oil\",\"Mobil\",\"Chrysler\",\"General Electric\",\"U.S. Steel\",\"Ford Motor\",\"Exxon Mobil\",\"General Motors\"],\"type\":\"bar\"}],\"layout\":{\"bargap\":0.15,\"font\":{\"size\":14},\"plot_bgcolor\":\"#FFFFFF\",\"title\":{\"text\":\"5 top Companies by Revenue for each Decade\"},\"xaxis\":{\"range\":[0,288189.0],\"showline\":true,\"visible\":true},\"yaxis\":{\"showline\":false,\"visible\":true}},\"name\":\"1958\"},{\"data\":[{\"cliponaxis\":false,\"hoverinfo\":\"all\",\"hovertemplate\":\"<extra></extra>\",\"marker\":{\"color\":[\"rgb(162, 75, 189)\",\"rgb(59, 146, 123)\",\"rgb(227, 61, 136)\",\"rgb(44, 238, 203)\",\"rgb(170, 209, 149)\",\"rgb(175, 10, 197)\",\"rgb(66, 15, 109)\",\"rgb(4, 233, 148)\",\"rgb(251, 101, 90)\",\"rgb(66, 45, 73)\"]},\"orientation\":\"h\",\"textangle\":0,\"textposition\":\"outside\",\"texttemplate\":\"%{y}<br>%{x:.4s}\",\"x\":[2173.4,2327.9,2645.4,2769.4,2885.7,3472.2,4120.8,4130.3,7543.6,9522.0],\"y\":[\"AT&T Technologies\",\"Texaco\",\"Esmark\",\"Gulf Oil\",\"Mobil\",\"U.S. Steel\",\"General Electric\",\"Ford Motor\",\"Exxon Mobil\",\"General Motors\"],\"type\":\"bar\"}],\"layout\":{\"bargap\":0.15,\"font\":{\"size\":14},\"plot_bgcolor\":\"#FFFFFF\",\"title\":{\"text\":\"5 top Companies by Revenue for each Decade\"},\"xaxis\":{\"range\":[0,288189.0],\"showline\":true,\"visible\":true},\"yaxis\":{\"showline\":false,\"visible\":true}},\"name\":\"1959\"},{\"data\":[{\"cliponaxis\":false,\"hoverinfo\":\"all\",\"hovertemplate\":\"<extra></extra>\",\"marker\":{\"color\":[\"rgb(227, 61, 136)\",\"rgb(37, 41, 207)\",\"rgb(59, 146, 123)\",\"rgb(44, 238, 203)\",\"rgb(170, 209, 149)\",\"rgb(175, 10, 197)\",\"rgb(66, 15, 109)\",\"rgb(4, 233, 148)\",\"rgb(251, 101, 90)\",\"rgb(66, 45, 73)\"]},\"orientation\":\"h\",\"textangle\":0,\"textposition\":\"outside\",\"texttemplate\":\"%{y}<br>%{x:.4s}\",\"x\":[2475.5,2643.0,2678.0,2713.0,3092.9,3643.0,4349.5,5356.9,7910.7,11233.1],\"y\":[\"Esmark\",\"Chrysler\",\"Texaco\",\"Gulf Oil\",\"Mobil\",\"U.S. Steel\",\"General Electric\",\"Ford Motor\",\"Exxon Mobil\",\"General Motors\"],\"type\":\"bar\"}],\"layout\":{\"bargap\":0.15,\"font\":{\"size\":14},\"plot_bgcolor\":\"#FFFFFF\",\"title\":{\"text\":\"5 top Companies by Revenue for each Decade\"},\"xaxis\":{\"range\":[0,288189.0],\"showline\":true,\"visible\":true},\"yaxis\":{\"showline\":false,\"visible\":true}},\"name\":\"1960\"},{\"data\":[{\"cliponaxis\":false,\"hoverinfo\":\"all\",\"hovertemplate\":\"<extra></extra>\",\"marker\":{\"color\":[\"rgb(162, 75, 189)\",\"rgb(44, 238, 203)\",\"rgb(59, 146, 123)\",\"rgb(37, 41, 207)\",\"rgb(170, 209, 149)\",\"rgb(175, 10, 197)\",\"rgb(66, 15, 109)\",\"rgb(4, 233, 148)\",\"rgb(251, 101, 90)\",\"rgb(66, 45, 73)\"]},\"orientation\":\"h\",\"textangle\":0,\"textposition\":\"outside\",\"texttemplate\":\"%{y}<br>%{x:.4s}\",\"x\":[2640.4,2720.8,2980.3,3007.0,3178.1,3698.5,4197.5,5237.9,8034.7,12736.0],\"y\":[\"AT&T Technologies\",\"Gulf Oil\",\"Texaco\",\"Chrysler\",\"Mobil\",\"U.S. Steel\",\"General Electric\",\"Ford Motor\",\"Exxon Mobil\",\"General Motors\"],\"type\":\"bar\"}],\"layout\":{\"bargap\":0.15,\"font\":{\"size\":14},\"plot_bgcolor\":\"#FFFFFF\",\"title\":{\"text\":\"5 top Companies by Revenue for each Decade\"},\"xaxis\":{\"range\":[0,288189.0],\"showline\":true,\"visible\":true},\"yaxis\":{\"showline\":false,\"visible\":true}},\"name\":\"1961\"},{\"data\":[{\"cliponaxis\":false,\"hoverinfo\":\"all\",\"hovertemplate\":\"<extra></extra>\",\"marker\":{\"color\":[\"rgb(227, 61, 136)\",\"rgb(162, 75, 189)\",\"rgb(44, 238, 203)\",\"rgb(59, 146, 123)\",\"rgb(175, 10, 197)\",\"rgb(170, 209, 149)\",\"rgb(66, 15, 109)\",\"rgb(4, 233, 148)\",\"rgb(251, 101, 90)\",\"rgb(66, 45, 73)\"]},\"orientation\":\"h\",\"textangle\":0,\"textposition\":\"outside\",\"texttemplate\":\"%{y}<br>%{x:.4s}\",\"x\":[2489.0,2607.3,2744.8,3042.3,3301.7,3321.2,4456.8,6709.4,8437.7,11395.9],\"y\":[\"Esmark\",\"AT&T Technologies\",\"Gulf Oil\",\"Texaco\",\"U.S. Steel\",\"Mobil\",\"General Electric\",\"Ford Motor\",\"Exxon Mobil\",\"General Motors\"],\"type\":\"bar\"}],\"layout\":{\"bargap\":0.15,\"font\":{\"size\":14},\"plot_bgcolor\":\"#FFFFFF\",\"title\":{\"text\":\"5 top Companies by Revenue for each Decade\"},\"xaxis\":{\"range\":[0,288189.0],\"showline\":true,\"visible\":true},\"yaxis\":{\"showline\":false,\"visible\":true}},\"name\":\"1962\"},{\"data\":[{\"cliponaxis\":false,\"hoverinfo\":\"all\",\"hovertemplate\":\"<extra></extra>\",\"marker\":{\"color\":[\"rgb(227, 61, 136)\",\"rgb(162, 75, 189)\",\"rgb(44, 238, 203)\",\"rgb(59, 146, 123)\",\"rgb(175, 10, 197)\",\"rgb(170, 209, 149)\",\"rgb(66, 15, 109)\",\"rgb(4, 233, 148)\",\"rgb(251, 101, 90)\",\"rgb(66, 45, 73)\"]},\"orientation\":\"h\",\"textangle\":0,\"textposition\":\"outside\",\"texttemplate\":\"%{y}<br>%{x:.4s}\",\"x\":[2494.6,2761.6,2836.3,3272.1,3468.8,3933.3,4792.7,8089.6,9536.9,14640.2],\"y\":[\"Esmark\",\"AT&T Technologies\",\"Gulf Oil\",\"Texaco\",\"U.S. Steel\",\"Mobil\",\"General Electric\",\"Ford Motor\",\"Exxon Mobil\",\"General Motors\"],\"type\":\"bar\"}],\"layout\":{\"bargap\":0.15,\"font\":{\"size\":14},\"plot_bgcolor\":\"#FFFFFF\",\"title\":{\"text\":\"5 top Companies by Revenue for each Decade\"},\"xaxis\":{\"range\":[0,288189.0],\"showline\":true,\"visible\":true},\"yaxis\":{\"showline\":false,\"visible\":true}},\"name\":\"1963\"},{\"data\":[{\"cliponaxis\":false,\"hoverinfo\":\"all\",\"hovertemplate\":\"<extra></extra>\",\"marker\":{\"color\":[\"rgb(162, 75, 189)\",\"rgb(44, 238, 203)\",\"rgb(59, 146, 123)\",\"rgb(37, 41, 207)\",\"rgb(175, 10, 197)\",\"rgb(170, 209, 149)\",\"rgb(66, 15, 109)\",\"rgb(4, 233, 148)\",\"rgb(251, 101, 90)\",\"rgb(66, 45, 73)\"]},\"orientation\":\"h\",\"textangle\":0,\"textposition\":\"outside\",\"texttemplate\":\"%{y}<br>%{x:.4s}\",\"x\":[2833.0,2977.9,3415.7,3505.3,3599.3,4352.1,4918.7,8742.5,10264.3,16494.8],\"y\":[\"AT&T Technologies\",\"Gulf Oil\",\"Texaco\",\"Chrysler\",\"U.S. Steel\",\"Mobil\",\"General Electric\",\"Ford Motor\",\"Exxon Mobil\",\"General Motors\"],\"type\":\"bar\"}],\"layout\":{\"bargap\":0.15,\"font\":{\"size\":14},\"plot_bgcolor\":\"#FFFFFF\",\"title\":{\"text\":\"5 top Companies by Revenue for each Decade\"},\"xaxis\":{\"range\":[0,288189.0],\"showline\":true,\"visible\":true},\"yaxis\":{\"showline\":false,\"visible\":true}},\"name\":\"1964\"},{\"data\":[{\"cliponaxis\":false,\"hoverinfo\":\"all\",\"hovertemplate\":\"<extra></extra>\",\"marker\":{\"color\":[\"rgb(44, 238, 203)\",\"rgb(202, 171, 175)\",\"rgb(59, 146, 123)\",\"rgb(175, 10, 197)\",\"rgb(37, 41, 207)\",\"rgb(170, 209, 149)\",\"rgb(66, 15, 109)\",\"rgb(4, 233, 148)\",\"rgb(251, 101, 90)\",\"rgb(66, 45, 73)\"]},\"orientation\":\"h\",\"textangle\":0,\"textposition\":\"outside\",\"texttemplate\":\"%{y}<br>%{x:.4s}\",\"x\":[3174.3,3239.4,3573.8,4077.5,4287.3,4499.4,4941.4,9670.8,10814.7,16997.0],\"y\":[\"Gulf Oil\",\"Intl. Business Machines\",\"Texaco\",\"U.S. Steel\",\"Chrysler\",\"Mobil\",\"General Electric\",\"Ford Motor\",\"Exxon Mobil\",\"General Motors\"],\"type\":\"bar\"}],\"layout\":{\"bargap\":0.15,\"font\":{\"size\":14},\"plot_bgcolor\":\"#FFFFFF\",\"title\":{\"text\":\"5 top Companies by Revenue for each Decade\"},\"xaxis\":{\"range\":[0,288189.0],\"showline\":true,\"visible\":true},\"yaxis\":{\"showline\":false,\"visible\":true}},\"name\":\"1965\"},{\"data\":[{\"cliponaxis\":false,\"hoverinfo\":\"all\",\"hovertemplate\":\"<extra></extra>\",\"marker\":{\"color\":[\"rgb(44, 238, 203)\",\"rgb(202, 171, 175)\",\"rgb(59, 146, 123)\",\"rgb(175, 10, 197)\",\"rgb(170, 209, 149)\",\"rgb(37, 41, 207)\",\"rgb(66, 15, 109)\",\"rgb(251, 101, 90)\",\"rgb(4, 233, 148)\",\"rgb(66, 45, 73)\"]},\"orientation\":\"h\",\"textangle\":0,\"textposition\":\"outside\",\"texttemplate\":\"%{y}<br>%{x:.4s}\",\"x\":[3384.7,3572.8,3779.4,4399.6,4907.5,5299.9,6213.6,11471.5,11536.8,20734.0],\"y\":[\"Gulf Oil\",\"Intl. Business Machines\",\"Texaco\",\"U.S. Steel\",\"Mobil\",\"Chrysler\",\"General Electric\",\"Exxon Mobil\",\"Ford Motor\",\"General Motors\"],\"type\":\"bar\"}],\"layout\":{\"bargap\":0.15,\"font\":{\"size\":14},\"plot_bgcolor\":\"#FFFFFF\",\"title\":{\"text\":\"5 top Companies by Revenue for each Decade\"},\"xaxis\":{\"range\":[0,288189.0],\"showline\":true,\"visible\":true},\"yaxis\":{\"showline\":false,\"visible\":true}},\"name\":\"1966\"},{\"data\":[{\"cliponaxis\":false,\"hoverinfo\":\"all\",\"hovertemplate\":\"<extra></extra>\",\"marker\":{\"color\":[\"rgb(44, 238, 203)\",\"rgb(202, 171, 175)\",\"rgb(175, 10, 197)\",\"rgb(59, 146, 123)\",\"rgb(170, 209, 149)\",\"rgb(37, 41, 207)\",\"rgb(66, 15, 109)\",\"rgb(251, 101, 90)\",\"rgb(4, 233, 148)\",\"rgb(66, 45, 73)\"]},\"orientation\":\"h\",\"textangle\":0,\"textposition\":\"outside\",\"texttemplate\":\"%{y}<br>%{x:.4s}\",\"x\":[3781.8,4247.7,4355.4,4427.3,5253.9,5649.5,7177.3,12191.4,12240.0,20208.5],\"y\":[\"Gulf Oil\",\"Intl. Business Machines\",\"U.S. Steel\",\"Texaco\",\"Mobil\",\"Chrysler\",\"General Electric\",\"Exxon Mobil\",\"Ford Motor\",\"General Motors\"],\"type\":\"bar\"}],\"layout\":{\"bargap\":0.15,\"font\":{\"size\":14},\"plot_bgcolor\":\"#FFFFFF\",\"title\":{\"text\":\"5 top Companies by Revenue for each Decade\"},\"xaxis\":{\"range\":[0,288189.0],\"showline\":true,\"visible\":true},\"yaxis\":{\"showline\":false,\"visible\":true}},\"name\":\"1967\"},{\"data\":[{\"cliponaxis\":false,\"hoverinfo\":\"all\",\"hovertemplate\":\"<extra></extra>\",\"marker\":{\"color\":[\"rgb(175, 10, 197)\",\"rgb(44, 238, 203)\",\"rgb(59, 146, 123)\",\"rgb(202, 171, 175)\",\"rgb(170, 209, 149)\",\"rgb(37, 41, 207)\",\"rgb(66, 15, 109)\",\"rgb(4, 233, 148)\",\"rgb(251, 101, 90)\",\"rgb(66, 45, 73)\"]},\"orientation\":\"h\",\"textangle\":0,\"textposition\":\"outside\",\"texttemplate\":\"%{y}<br>%{x:.4s}\",\"x\":[4005.5,4202.1,5121.4,5345.3,5771.8,6213.4,7741.2,10515.7,13266.0,20026.3],\"y\":[\"U.S. Steel\",\"Gulf Oil\",\"Texaco\",\"Intl. Business Machines\",\"Mobil\",\"Chrysler\",\"General Electric\",\"Ford Motor\",\"Exxon Mobil\",\"General Motors\"],\"type\":\"bar\"}],\"layout\":{\"bargap\":0.15,\"font\":{\"size\":14},\"plot_bgcolor\":\"#FFFFFF\",\"title\":{\"text\":\"5 top Companies by Revenue for each Decade\"},\"xaxis\":{\"range\":[0,288189.0],\"showline\":true,\"visible\":true},\"yaxis\":{\"showline\":false,\"visible\":true}},\"name\":\"1968\"},{\"data\":[{\"cliponaxis\":false,\"hoverinfo\":\"all\",\"hovertemplate\":\"<extra></extra>\",\"marker\":{\"color\":[\"rgb(175, 10, 197)\",\"rgb(44, 238, 203)\",\"rgb(59, 146, 123)\",\"rgb(170, 209, 149)\",\"rgb(202, 171, 175)\",\"rgb(37, 41, 207)\",\"rgb(66, 15, 109)\",\"rgb(4, 233, 148)\",\"rgb(251, 101, 90)\",\"rgb(66, 45, 73)\"]},\"orientation\":\"h\",\"textangle\":0,\"textposition\":\"outside\",\"texttemplate\":\"%{y}<br>%{x:.4s}\",\"x\":[4536.7,4558.5,5459.8,6221.0,6888.5,7445.3,8381.6,14075.1,14091.3,22755.4],\"y\":[\"U.S. Steel\",\"Gulf Oil\",\"Texaco\",\"Mobil\",\"Intl. Business Machines\",\"Chrysler\",\"General Electric\",\"Ford Motor\",\"Exxon Mobil\",\"General Motors\"],\"type\":\"bar\"}],\"layout\":{\"bargap\":0.15,\"font\":{\"size\":14},\"plot_bgcolor\":\"#FFFFFF\",\"title\":{\"text\":\"5 top Companies by Revenue for each Decade\"},\"xaxis\":{\"range\":[0,288189.0],\"showline\":true,\"visible\":true},\"yaxis\":{\"showline\":false,\"visible\":true}},\"name\":\"1969\"},{\"data\":[{\"cliponaxis\":false,\"hoverinfo\":\"all\",\"hovertemplate\":\"<extra></extra>\",\"marker\":{\"color\":[\"rgb(44, 238, 203)\",\"rgb(0, 241, 232)\",\"rgb(59, 146, 123)\",\"rgb(170, 209, 149)\",\"rgb(37, 41, 207)\",\"rgb(202, 171, 175)\",\"rgb(66, 15, 109)\",\"rgb(4, 233, 148)\",\"rgb(251, 101, 90)\",\"rgb(66, 45, 73)\"]},\"orientation\":\"h\",\"textangle\":0,\"textposition\":\"outside\",\"texttemplate\":\"%{y}<br>%{x:.4s}\",\"x\":[4953.3,5474.7,5867.9,6621.4,7052.2,7197.3,8448.0,14755.6,14929.8,24295.1],\"y\":[\"Gulf Oil\",\"ITT Industries\",\"Texaco\",\"Mobil\",\"Chrysler\",\"Intl. Business Machines\",\"General Electric\",\"Ford Motor\",\"Exxon Mobil\",\"General Motors\"],\"type\":\"bar\"}],\"layout\":{\"bargap\":0.15,\"font\":{\"size\":14},\"plot_bgcolor\":\"#FFFFFF\",\"title\":{\"text\":\"5 top Companies by Revenue for each Decade\"},\"xaxis\":{\"range\":[0,288189.0],\"showline\":true,\"visible\":true},\"yaxis\":{\"showline\":false,\"visible\":true}},\"name\":\"1970\"},{\"data\":[{\"cliponaxis\":false,\"hoverinfo\":\"all\",\"hovertemplate\":\"<extra></extra>\",\"marker\":{\"color\":[\"rgb(162, 75, 189)\",\"rgb(59, 146, 123)\",\"rgb(0, 241, 232)\",\"rgb(37, 41, 207)\",\"rgb(170, 209, 149)\",\"rgb(202, 171, 175)\",\"rgb(66, 15, 109)\",\"rgb(4, 233, 148)\",\"rgb(251, 101, 90)\",\"rgb(66, 45, 73)\"]},\"orientation\":\"h\",\"textangle\":0,\"textposition\":\"outside\",\"texttemplate\":\"%{y}<br>%{x:.4s}\",\"x\":[5856.2,6349.8,6364.5,6999.7,7260.5,7504.0,8726.7,14979.9,16554.2,18752.4],\"y\":[\"AT&T Technologies\",\"Texaco\",\"ITT Industries\",\"Chrysler\",\"Mobil\",\"Intl. Business Machines\",\"General Electric\",\"Ford Motor\",\"Exxon Mobil\",\"General Motors\"],\"type\":\"bar\"}],\"layout\":{\"bargap\":0.15,\"font\":{\"size\":14},\"plot_bgcolor\":\"#FFFFFF\",\"title\":{\"text\":\"5 top Companies by Revenue for each Decade\"},\"xaxis\":{\"range\":[0,288189.0],\"showline\":true,\"visible\":true},\"yaxis\":{\"showline\":false,\"visible\":true}},\"name\":\"1971\"},{\"data\":[{\"cliponaxis\":false,\"hoverinfo\":\"all\",\"hovertemplate\":\"<extra></extra>\",\"marker\":{\"color\":[\"rgb(162, 75, 189)\",\"rgb(0, 241, 232)\",\"rgb(59, 146, 123)\",\"rgb(37, 41, 207)\",\"rgb(170, 209, 149)\",\"rgb(202, 171, 175)\",\"rgb(66, 15, 109)\",\"rgb(4, 233, 148)\",\"rgb(251, 101, 90)\",\"rgb(66, 45, 73)\"]},\"orientation\":\"h\",\"textangle\":0,\"textposition\":\"outside\",\"texttemplate\":\"%{y}<br>%{x:.4s}\",\"x\":[6045.2,7345.8,7529.1,7999.3,8243.0,8273.6,9425.3,16433.0,18700.6,28263.9],\"y\":[\"AT&T Technologies\",\"ITT Industries\",\"Texaco\",\"Chrysler\",\"Mobil\",\"Intl. Business Machines\",\"General Electric\",\"Ford Motor\",\"Exxon Mobil\",\"General Motors\"],\"type\":\"bar\"}],\"layout\":{\"bargap\":0.15,\"font\":{\"size\":14},\"plot_bgcolor\":\"#FFFFFF\",\"title\":{\"text\":\"5 top Companies by Revenue for each Decade\"},\"xaxis\":{\"range\":[0,288189.0],\"showline\":true,\"visible\":true},\"yaxis\":{\"showline\":false,\"visible\":true}},\"name\":\"1972\"},{\"data\":[{\"cliponaxis\":false,\"hoverinfo\":\"all\",\"hovertemplate\":\"<extra></extra>\",\"marker\":{\"color\":[\"rgb(162, 75, 189)\",\"rgb(0, 241, 232)\",\"rgb(59, 146, 123)\",\"rgb(170, 209, 149)\",\"rgb(202, 171, 175)\",\"rgb(37, 41, 207)\",\"rgb(66, 15, 109)\",\"rgb(4, 233, 148)\",\"rgb(251, 101, 90)\",\"rgb(66, 45, 73)\"]},\"orientation\":\"h\",\"textangle\":0,\"textposition\":\"outside\",\"texttemplate\":\"%{y}<br>%{x:.4s}\",\"x\":[6551.2,8556.8,8693.0,9166.3,9532.6,9759.1,10239.5,20194.4,20309.8,30435.2],\"y\":[\"AT&T Technologies\",\"ITT Industries\",\"Texaco\",\"Mobil\",\"Intl. Business Machines\",\"Chrysler\",\"General Electric\",\"Ford Motor\",\"Exxon Mobil\",\"General Motors\"],\"type\":\"bar\"}],\"layout\":{\"bargap\":0.15,\"font\":{\"size\":14},\"plot_bgcolor\":\"#FFFFFF\",\"title\":{\"text\":\"5 top Companies by Revenue for each Decade\"},\"xaxis\":{\"range\":[0,288189.0],\"showline\":true,\"visible\":true},\"yaxis\":{\"showline\":false,\"visible\":true}},\"name\":\"1973\"},{\"data\":[{\"cliponaxis\":false,\"hoverinfo\":\"all\",\"hovertemplate\":\"<extra></extra>\",\"marker\":{\"color\":[\"rgb(44, 238, 203)\",\"rgb(0, 241, 232)\",\"rgb(202, 171, 175)\",\"rgb(170, 209, 149)\",\"rgb(59, 146, 123)\",\"rgb(66, 15, 109)\",\"rgb(37, 41, 207)\",\"rgb(4, 233, 148)\",\"rgb(251, 101, 90)\",\"rgb(66, 45, 73)\"]},\"orientation\":\"h\",\"textangle\":0,\"textposition\":\"outside\",\"texttemplate\":\"%{y}<br>%{x:.4s}\",\"x\":[8417.0,10183.0,10993.2,11390.1,11406.9,11575.3,11774.4,23015.1,25724.3,35798.3],\"y\":[\"Gulf Oil\",\"ITT Industries\",\"Intl. Business Machines\",\"Mobil\",\"Texaco\",\"General Electric\",\"Chrysler\",\"Ford Motor\",\"Exxon Mobil\",\"General Motors\"],\"type\":\"bar\"}],\"layout\":{\"bargap\":0.15,\"font\":{\"size\":14},\"plot_bgcolor\":\"#FFFFFF\",\"title\":{\"text\":\"5 top Companies by Revenue for each Decade\"},\"xaxis\":{\"range\":[0,288189.0],\"showline\":true,\"visible\":true},\"yaxis\":{\"showline\":false,\"visible\":true}},\"name\":\"1974\"},{\"data\":[{\"cliponaxis\":false,\"hoverinfo\":\"all\",\"hovertemplate\":\"<extra></extra>\",\"marker\":{\"color\":[\"rgb(0, 241, 232)\",\"rgb(202, 171, 175)\",\"rgb(66, 15, 109)\",\"rgb(44, 238, 203)\",\"rgb(55, 15, 189)\",\"rgb(170, 209, 149)\",\"rgb(59, 146, 123)\",\"rgb(4, 233, 148)\",\"rgb(66, 45, 73)\",\"rgb(251, 101, 90)\"]},\"orientation\":\"h\",\"textangle\":0,\"textposition\":\"outside\",\"texttemplate\":\"%{y}<br>%{x:.4s}\",\"x\":[11154.4,12675.3,13413.1,16458.0,17191.2,18929.0,23255.5,23620.6,31549.5,42061.3],\"y\":[\"ITT Industries\",\"Intl. Business Machines\",\"General Electric\",\"Gulf Oil\",\"ChevronTexaco\",\"Mobil\",\"Texaco\",\"Ford Motor\",\"General Motors\",\"Exxon Mobil\"],\"type\":\"bar\"}],\"layout\":{\"bargap\":0.15,\"font\":{\"size\":14},\"plot_bgcolor\":\"#FFFFFF\",\"title\":{\"text\":\"5 top Companies by Revenue for each Decade\"},\"xaxis\":{\"range\":[0,288189.0],\"showline\":true,\"visible\":true},\"yaxis\":{\"showline\":false,\"visible\":true}},\"name\":\"1975\"},{\"data\":[{\"cliponaxis\":false,\"hoverinfo\":\"all\",\"hovertemplate\":\"<extra></extra>\",\"marker\":{\"color\":[\"rgb(37, 41, 207)\",\"rgb(66, 15, 109)\",\"rgb(44, 238, 203)\",\"rgb(202, 171, 175)\",\"rgb(55, 15, 189)\",\"rgb(170, 209, 149)\",\"rgb(4, 233, 148)\",\"rgb(59, 146, 123)\",\"rgb(66, 45, 73)\",\"rgb(251, 101, 90)\"]},\"orientation\":\"h\",\"textangle\":0,\"textposition\":\"outside\",\"texttemplate\":\"%{y}<br>%{x:.4s}\",\"x\":[11699.3,13399.1,14268.0,14436.5,16822.1,20620.4,24009.1,24507.5,35724.9,44864.8],\"y\":[\"Chrysler\",\"General Electric\",\"Gulf Oil\",\"Intl. Business Machines\",\"ChevronTexaco\",\"Mobil\",\"Ford Motor\",\"Texaco\",\"General Motors\",\"Exxon Mobil\"],\"type\":\"bar\"}],\"layout\":{\"bargap\":0.15,\"font\":{\"size\":14},\"plot_bgcolor\":\"#FFFFFF\",\"title\":{\"text\":\"5 top Companies by Revenue for each Decade\"},\"xaxis\":{\"range\":[0,288189.0],\"showline\":true,\"visible\":true},\"yaxis\":{\"showline\":false,\"visible\":true}},\"name\":\"1976\"},{\"data\":[{\"cliponaxis\":false,\"hoverinfo\":\"all\",\"hovertemplate\":\"<extra></extra>\",\"marker\":{\"color\":[\"rgb(37, 41, 207)\",\"rgb(66, 15, 109)\",\"rgb(202, 171, 175)\",\"rgb(44, 238, 203)\",\"rgb(55, 15, 189)\",\"rgb(170, 209, 149)\",\"rgb(59, 146, 123)\",\"rgb(4, 233, 148)\",\"rgb(66, 45, 73)\",\"rgb(251, 101, 90)\"]},\"orientation\":\"h\",\"textangle\":0,\"textposition\":\"outside\",\"texttemplate\":\"%{y}<br>%{x:.4s}\",\"x\":[15537.8,15697.3,16304.3,16451.0,19434.1,26062.6,26451.9,28839.6,47181.0,48630.8],\"y\":[\"Chrysler\",\"General Electric\",\"Intl. Business Machines\",\"Gulf Oil\",\"ChevronTexaco\",\"Mobil\",\"Texaco\",\"Ford Motor\",\"General Motors\",\"Exxon Mobil\"],\"type\":\"bar\"}],\"layout\":{\"bargap\":0.15,\"font\":{\"size\":14},\"plot_bgcolor\":\"#FFFFFF\",\"title\":{\"text\":\"5 top Companies by Revenue for each Decade\"},\"xaxis\":{\"range\":[0,288189.0],\"showline\":true,\"visible\":true},\"yaxis\":{\"showline\":false,\"visible\":true}},\"name\":\"1977\"},{\"data\":[{\"cliponaxis\":false,\"hoverinfo\":\"all\",\"hovertemplate\":\"<extra></extra>\",\"marker\":{\"color\":[\"rgb(37, 41, 207)\",\"rgb(66, 15, 109)\",\"rgb(44, 238, 203)\",\"rgb(202, 171, 175)\",\"rgb(55, 15, 189)\",\"rgb(59, 146, 123)\",\"rgb(170, 209, 149)\",\"rgb(4, 233, 148)\",\"rgb(251, 101, 90)\",\"rgb(66, 45, 73)\"]},\"orientation\":\"h\",\"textangle\":0,\"textposition\":\"outside\",\"texttemplate\":\"%{y}<br>%{x:.4s}\",\"x\":[16708.3,17518.6,17840.0,18133.2,20917.3,27920.5,32125.8,37841.5,54126.2,54961.3],\"y\":[\"Chrysler\",\"General Electric\",\"Gulf Oil\",\"Intl. Business Machines\",\"ChevronTexaco\",\"Texaco\",\"Mobil\",\"Ford Motor\",\"Exxon Mobil\",\"General Motors\"],\"type\":\"bar\"}],\"layout\":{\"bargap\":0.15,\"font\":{\"size\":14},\"plot_bgcolor\":\"#FFFFFF\",\"title\":{\"text\":\"5 top Companies by Revenue for each Decade\"},\"xaxis\":{\"range\":[0,288189.0],\"showline\":true,\"visible\":true},\"yaxis\":{\"showline\":false,\"visible\":true}},\"name\":\"1978\"},{\"data\":[{\"cliponaxis\":false,\"hoverinfo\":\"all\",\"hovertemplate\":\"<extra></extra>\",\"marker\":{\"color\":[\"rgb(37, 41, 207)\",\"rgb(44, 238, 203)\",\"rgb(66, 15, 109)\",\"rgb(202, 171, 175)\",\"rgb(55, 15, 189)\",\"rgb(59, 146, 123)\",\"rgb(170, 209, 149)\",\"rgb(4, 233, 148)\",\"rgb(251, 101, 90)\",\"rgb(66, 45, 73)\"]},\"orientation\":\"h\",\"textangle\":0,\"textposition\":\"outside\",\"texttemplate\":\"%{y}<br>%{x:.4s}\",\"x\":[16340.7,18069.0,19653.8,21076.1,23232.4,28607.5,34736.0,42784.1,60334.5,63221.1],\"y\":[\"Chrysler\",\"Gulf Oil\",\"General Electric\",\"Intl. Business Machines\",\"ChevronTexaco\",\"Texaco\",\"Mobil\",\"Ford Motor\",\"Exxon Mobil\",\"General Motors\"],\"type\":\"bar\"}],\"layout\":{\"bargap\":0.15,\"font\":{\"size\":14},\"plot_bgcolor\":\"#FFFFFF\",\"title\":{\"text\":\"5 top Companies by Revenue for each Decade\"},\"xaxis\":{\"range\":[0,288189.0],\"showline\":true,\"visible\":true},\"yaxis\":{\"showline\":false,\"visible\":true}},\"name\":\"1979\"},{\"data\":[{\"cliponaxis\":false,\"hoverinfo\":\"all\",\"hovertemplate\":\"<extra></extra>\",\"marker\":{\"color\":[\"rgb(203, 5, 14)\",\"rgb(66, 15, 109)\",\"rgb(202, 171, 175)\",\"rgb(44, 238, 203)\",\"rgb(55, 15, 189)\",\"rgb(59, 146, 123)\",\"rgb(4, 233, 148)\",\"rgb(170, 209, 149)\",\"rgb(66, 45, 73)\",\"rgb(251, 101, 90)\"]},\"orientation\":\"h\",\"textangle\":0,\"textposition\":\"outside\",\"texttemplate\":\"%{y}<br>%{x:.4s}\",\"x\":[18610.3,22460.6,22862.8,23910.0,29947.6,38350.4,43513.7,44720.9,66311.2,79106.5],\"y\":[\"Amoco\",\"General Electric\",\"Intl. Business Machines\",\"Gulf Oil\",\"ChevronTexaco\",\"Texaco\",\"Ford Motor\",\"Mobil\",\"General Motors\",\"Exxon Mobil\"],\"type\":\"bar\"}],\"layout\":{\"bargap\":0.15,\"font\":{\"size\":14},\"plot_bgcolor\":\"#FFFFFF\",\"title\":{\"text\":\"5 top Companies by Revenue for each Decade\"},\"xaxis\":{\"range\":[0,288189.0],\"showline\":true,\"visible\":true},\"yaxis\":{\"showline\":false,\"visible\":true}},\"name\":\"1980\"},{\"data\":[{\"cliponaxis\":false,\"hoverinfo\":\"all\",\"hovertemplate\":\"<extra></extra>\",\"marker\":{\"color\":[\"rgb(66, 15, 109)\",\"rgb(203, 5, 14)\",\"rgb(202, 171, 175)\",\"rgb(44, 238, 203)\",\"rgb(4, 233, 148)\",\"rgb(55, 15, 189)\",\"rgb(59, 146, 123)\",\"rgb(66, 45, 73)\",\"rgb(170, 209, 149)\",\"rgb(251, 101, 90)\"]},\"orientation\":\"h\",\"textangle\":0,\"textposition\":\"outside\",\"texttemplate\":\"%{y}<br>%{x:.4s}\",\"x\":[24959.0,26133.1,26213.0,26483.0,37085.5,40479.0,51195.8,57728.5,59510.0,103142.8],\"y\":[\"General Electric\",\"Amoco\",\"Intl. Business Machines\",\"Gulf Oil\",\"Ford Motor\",\"ChevronTexaco\",\"Texaco\",\"General Motors\",\"Mobil\",\"Exxon Mobil\"],\"type\":\"bar\"}],\"layout\":{\"bargap\":0.15,\"font\":{\"size\":14},\"plot_bgcolor\":\"#FFFFFF\",\"title\":{\"text\":\"5 top Companies by Revenue for each Decade\"},\"xaxis\":{\"range\":[0,288189.0],\"showline\":true,\"visible\":true},\"yaxis\":{\"showline\":false,\"visible\":true}},\"name\":\"1981\"},{\"data\":[{\"cliponaxis\":false,\"hoverinfo\":\"all\",\"hovertemplate\":\"<extra></extra>\",\"marker\":{\"color\":[\"rgb(117, 127, 209)\",\"rgb(44, 238, 203)\",\"rgb(202, 171, 175)\",\"rgb(203, 5, 14)\",\"rgb(4, 233, 148)\",\"rgb(55, 15, 189)\",\"rgb(59, 146, 123)\",\"rgb(66, 45, 73)\",\"rgb(170, 209, 149)\",\"rgb(251, 101, 90)\"]},\"orientation\":\"h\",\"textangle\":0,\"textposition\":\"outside\",\"texttemplate\":\"%{y}<br>%{x:.4s}\",\"x\":[27797.4,28252.0,29070.0,29947.0,38247.1,44224.0,57628.0,62698.5,64488.0,108107.7],\"y\":[\"Atlantic Richfield\",\"Gulf Oil\",\"Intl. Business Machines\",\"Amoco\",\"Ford Motor\",\"ChevronTexaco\",\"Texaco\",\"General Motors\",\"Mobil\",\"Exxon Mobil\"],\"type\":\"bar\"}],\"layout\":{\"bargap\":0.15,\"font\":{\"size\":14},\"plot_bgcolor\":\"#FFFFFF\",\"title\":{\"text\":\"5 top Companies by Revenue for each Decade\"},\"xaxis\":{\"range\":[0,288189.0],\"showline\":true,\"visible\":true},\"yaxis\":{\"showline\":false,\"visible\":true}},\"name\":\"1982\"},{\"data\":[{\"cliponaxis\":false,\"hoverinfo\":\"all\",\"hovertemplate\":\"<extra></extra>\",\"marker\":{\"color\":[\"rgb(203, 5, 14)\",\"rgb(44, 238, 203)\",\"rgb(251, 111, 235)\",\"rgb(55, 15, 189)\",\"rgb(202, 171, 175)\",\"rgb(4, 233, 148)\",\"rgb(59, 146, 123)\",\"rgb(170, 209, 149)\",\"rgb(66, 45, 73)\",\"rgb(251, 101, 90)\"]},\"orientation\":\"h\",\"textangle\":0,\"textposition\":\"outside\",\"texttemplate\":\"%{y}<br>%{x:.4s}\",\"x\":[28073.0,28427.0,33331.0,34362.0,34364.0,37067.2,46986.0,59946.0,60025.6,97172.5],\"y\":[\"Amoco\",\"Gulf Oil\",\"DuPont\",\"ChevronTexaco\",\"Intl. Business Machines\",\"Ford Motor\",\"Texaco\",\"Mobil\",\"General Motors\",\"Exxon Mobil\"],\"type\":\"bar\"}],\"layout\":{\"bargap\":0.15,\"font\":{\"size\":14},\"plot_bgcolor\":\"#FFFFFF\",\"title\":{\"text\":\"5 top Companies by Revenue for each Decade\"},\"xaxis\":{\"range\":[0,288189.0],\"showline\":true,\"visible\":true},\"yaxis\":{\"showline\":false,\"visible\":true}},\"name\":\"1983\"},{\"data\":[{\"cliponaxis\":false,\"hoverinfo\":\"all\",\"hovertemplate\":\"<extra></extra>\",\"marker\":{\"color\":[\"rgb(66, 15, 109)\",\"rgb(55, 15, 189)\",\"rgb(203, 5, 14)\",\"rgb(251, 111, 235)\",\"rgb(59, 146, 123)\",\"rgb(202, 171, 175)\",\"rgb(4, 233, 148)\",\"rgb(170, 209, 149)\",\"rgb(66, 45, 73)\",\"rgb(251, 101, 90)\"]},\"orientation\":\"h\",\"textangle\":0,\"textposition\":\"outside\",\"texttemplate\":\"%{y}<br>%{x:.4s}\",\"x\":[26797.0,27342.0,27635.0,35378.0,40068.0,40180.0,44454.6,54607.0,74581.6,88561.1],\"y\":[\"General Electric\",\"ChevronTexaco\",\"Amoco\",\"DuPont\",\"Texaco\",\"Intl. Business Machines\",\"Ford Motor\",\"Mobil\",\"General Motors\",\"Exxon Mobil\"],\"type\":\"bar\"}],\"layout\":{\"bargap\":0.15,\"font\":{\"size\":14},\"plot_bgcolor\":\"#FFFFFF\",\"title\":{\"text\":\"5 top Companies by Revenue for each Decade\"},\"xaxis\":{\"range\":[0,288189.0],\"showline\":true,\"visible\":true},\"yaxis\":{\"showline\":false,\"visible\":true}},\"name\":\"1984\"},{\"data\":[{\"cliponaxis\":false,\"hoverinfo\":\"all\",\"hovertemplate\":\"<extra></extra>\",\"marker\":{\"color\":[\"rgb(203, 5, 14)\",\"rgb(66, 15, 109)\",\"rgb(185, 157, 136)\",\"rgb(251, 111, 235)\",\"rgb(202, 171, 175)\",\"rgb(59, 146, 123)\",\"rgb(4, 233, 148)\",\"rgb(170, 209, 149)\",\"rgb(66, 45, 73)\",\"rgb(251, 101, 90)\"]},\"orientation\":\"h\",\"textangle\":0,\"textposition\":\"outside\",\"texttemplate\":\"%{y}<br>%{x:.4s}\",\"x\":[26949.0,27947.0,33187.5,35915.0,45937.0,47334.0,52366.4,56047.0,83889.9,90854.0],\"y\":[\"Amoco\",\"General Electric\",\"AT&T\",\"DuPont\",\"Intl. Business Machines\",\"Texaco\",\"Ford Motor\",\"Mobil\",\"General Motors\",\"Exxon Mobil\"],\"type\":\"bar\"}],\"layout\":{\"bargap\":0.15,\"font\":{\"size\":14},\"plot_bgcolor\":\"#FFFFFF\",\"title\":{\"text\":\"5 top Companies by Revenue for each Decade\"},\"xaxis\":{\"range\":[0,288189.0],\"showline\":true,\"visible\":true},\"yaxis\":{\"showline\":false,\"visible\":true}},\"name\":\"1985\"},{\"data\":[{\"cliponaxis\":false,\"hoverinfo\":\"all\",\"hovertemplate\":\"<extra></extra>\",\"marker\":{\"color\":[\"rgb(66, 15, 109)\",\"rgb(251, 111, 235)\",\"rgb(185, 157, 136)\",\"rgb(55, 15, 189)\",\"rgb(59, 146, 123)\",\"rgb(202, 171, 175)\",\"rgb(4, 233, 148)\",\"rgb(170, 209, 149)\",\"rgb(251, 101, 90)\",\"rgb(66, 45, 73)\"]},\"orientation\":\"h\",\"textangle\":0,\"textposition\":\"outside\",\"texttemplate\":\"%{y}<br>%{x:.4s}\",\"x\":[28285.0,29483.0,34909.5,41741.9,46297.0,50056.0,52774.4,55960.0,86673.0,96371.7],\"y\":[\"General Electric\",\"DuPont\",\"AT&T\",\"ChevronTexaco\",\"Texaco\",\"Intl. Business Machines\",\"Ford Motor\",\"Mobil\",\"Exxon Mobil\",\"General Motors\"],\"type\":\"bar\"}],\"layout\":{\"bargap\":0.15,\"font\":{\"size\":14},\"plot_bgcolor\":\"#FFFFFF\",\"title\":{\"text\":\"5 top Companies by Revenue for each Decade\"},\"xaxis\":{\"range\":[0,288189.0],\"showline\":true,\"visible\":true},\"yaxis\":{\"showline\":false,\"visible\":true}},\"name\":\"1986\"},{\"data\":[{\"cliponaxis\":false,\"hoverinfo\":\"all\",\"hovertemplate\":\"<extra></extra>\",\"marker\":{\"color\":[\"rgb(55, 15, 189)\",\"rgb(251, 111, 235)\",\"rgb(59, 146, 123)\",\"rgb(185, 157, 136)\",\"rgb(66, 15, 109)\",\"rgb(170, 209, 149)\",\"rgb(202, 171, 175)\",\"rgb(4, 233, 148)\",\"rgb(251, 101, 90)\",\"rgb(66, 45, 73)\"]},\"orientation\":\"h\",\"textangle\":0,\"textposition\":\"outside\",\"texttemplate\":\"%{y}<br>%{x:.4s}\",\"x\":[24351.0,27148.0,31613.0,34087.0,35211.0,44866.0,51250.0,62715.8,69888.0,102813.7],\"y\":[\"ChevronTexaco\",\"DuPont\",\"Texaco\",\"AT&T\",\"General Electric\",\"Mobil\",\"Intl. Business Machines\",\"Ford Motor\",\"Exxon Mobil\",\"General Motors\"],\"type\":\"bar\"}],\"layout\":{\"bargap\":0.15,\"font\":{\"size\":14},\"plot_bgcolor\":\"#FFFFFF\",\"title\":{\"text\":\"5 top Companies by Revenue for each Decade\"},\"xaxis\":{\"range\":[0,288189.0],\"showline\":true,\"visible\":true},\"yaxis\":{\"showline\":false,\"visible\":true}},\"name\":\"1987\"},{\"data\":[{\"cliponaxis\":false,\"hoverinfo\":\"all\",\"hovertemplate\":\"<extra></extra>\",\"marker\":{\"color\":[\"rgb(37, 41, 207)\",\"rgb(251, 111, 235)\",\"rgb(185, 157, 136)\",\"rgb(59, 146, 123)\",\"rgb(66, 15, 109)\",\"rgb(170, 209, 149)\",\"rgb(202, 171, 175)\",\"rgb(4, 233, 148)\",\"rgb(251, 101, 90)\",\"rgb(66, 45, 73)\"]},\"orientation\":\"h\",\"textangle\":0,\"textposition\":\"outside\",\"texttemplate\":\"%{y}<br>%{x:.4s}\",\"x\":[26258.0,30468.0,33598.0,34372.0,39315.0,51223.0,54217.0,71643.0,76416.0,101782.0],\"y\":[\"Chrysler\",\"DuPont\",\"AT&T\",\"Texaco\",\"General Electric\",\"Mobil\",\"Intl. Business Machines\",\"Ford Motor\",\"Exxon Mobil\",\"General Motors\"],\"type\":\"bar\"}],\"layout\":{\"bargap\":0.15,\"font\":{\"size\":14},\"plot_bgcolor\":\"#FFFFFF\",\"title\":{\"text\":\"5 top Companies by Revenue for each Decade\"},\"xaxis\":{\"range\":[0,288189.0],\"showline\":true,\"visible\":true},\"yaxis\":{\"showline\":false,\"visible\":true}},\"name\":\"1988\"},{\"data\":[{\"cliponaxis\":false,\"hoverinfo\":\"all\",\"hovertemplate\":\"<extra></extra>\",\"marker\":{\"color\":[\"rgb(197, 117, 164)\",\"rgb(251, 111, 235)\",\"rgb(59, 146, 123)\",\"rgb(37, 41, 207)\",\"rgb(170, 209, 149)\",\"rgb(66, 15, 109)\",\"rgb(202, 171, 175)\",\"rgb(251, 101, 90)\",\"rgb(4, 233, 148)\",\"rgb(66, 45, 73)\"]},\"orientation\":\"h\",\"textangle\":0,\"textposition\":\"outside\",\"texttemplate\":\"%{y}<br>%{x:.4s}\",\"x\":[25860.0,32514.0,33544.0,35473.0,48198.0,49414.0,59681.0,79557.0,92446.0,121085.0],\"y\":[\"Altria Group\",\"DuPont\",\"Texaco\",\"Chrysler\",\"Mobil\",\"General Electric\",\"Intl. Business Machines\",\"Exxon Mobil\",\"Ford Motor\",\"General Motors\"],\"type\":\"bar\"}],\"layout\":{\"bargap\":0.15,\"font\":{\"size\":14},\"plot_bgcolor\":\"#FFFFFF\",\"title\":{\"text\":\"5 top Companies by Revenue for each Decade\"},\"xaxis\":{\"range\":[0,288189.0],\"showline\":true,\"visible\":true},\"yaxis\":{\"showline\":false,\"visible\":true}},\"name\":\"1989\"},{\"data\":[{\"cliponaxis\":false,\"hoverinfo\":\"all\",\"hovertemplate\":\"<extra></extra>\",\"marker\":{\"color\":[\"rgb(59, 146, 123)\",\"rgb(251, 111, 235)\",\"rgb(37, 41, 207)\",\"rgb(197, 117, 164)\",\"rgb(170, 209, 149)\",\"rgb(66, 15, 109)\",\"rgb(202, 171, 175)\",\"rgb(251, 101, 90)\",\"rgb(4, 233, 148)\",\"rgb(66, 45, 73)\"]},\"orientation\":\"h\",\"textangle\":0,\"textposition\":\"outside\",\"texttemplate\":\"%{y}<br>%{x:.4s}\",\"x\":[32416.0,35209.0,36156.0,39069.0,50976.0,55264.0,63438.0,86656.0,96932.6,126974.3],\"y\":[\"Texaco\",\"DuPont\",\"Chrysler\",\"Altria Group\",\"Mobil\",\"General Electric\",\"Intl. Business Machines\",\"Exxon Mobil\",\"Ford Motor\",\"General Motors\"],\"type\":\"bar\"}],\"layout\":{\"bargap\":0.15,\"font\":{\"size\":14},\"plot_bgcolor\":\"#FFFFFF\",\"title\":{\"text\":\"5 top Companies by Revenue for each Decade\"},\"xaxis\":{\"range\":[0,288189.0],\"showline\":true,\"visible\":true},\"yaxis\":{\"showline\":false,\"visible\":true}},\"name\":\"1990\"},{\"data\":[{\"cliponaxis\":false,\"hoverinfo\":\"all\",\"hovertemplate\":\"<extra></extra>\",\"marker\":{\"color\":[\"rgb(55, 15, 189)\",\"rgb(251, 111, 235)\",\"rgb(59, 146, 123)\",\"rgb(197, 117, 164)\",\"rgb(66, 15, 109)\",\"rgb(170, 209, 149)\",\"rgb(202, 171, 175)\",\"rgb(4, 233, 148)\",\"rgb(251, 101, 90)\",\"rgb(66, 45, 73)\"]},\"orientation\":\"h\",\"textangle\":0,\"textposition\":\"outside\",\"texttemplate\":\"%{y}<br>%{x:.4s}\",\"x\":[39262.0,39839.0,41235.0,44323.0,58414.0,58770.0,69018.0,98274.7,105885.0,125126.0],\"y\":[\"ChevronTexaco\",\"DuPont\",\"Texaco\",\"Altria Group\",\"General Electric\",\"Mobil\",\"Intl. Business Machines\",\"Ford Motor\",\"Exxon Mobil\",\"General Motors\"],\"type\":\"bar\"}],\"layout\":{\"bargap\":0.15,\"font\":{\"size\":14},\"plot_bgcolor\":\"#FFFFFF\",\"title\":{\"text\":\"5 top Companies by Revenue for each Decade\"},\"xaxis\":{\"range\":[0,288189.0],\"showline\":true,\"visible\":true},\"yaxis\":{\"showline\":false,\"visible\":true}},\"name\":\"1991\"},{\"data\":[{\"cliponaxis\":false,\"hoverinfo\":\"all\",\"hovertemplate\":\"<extra></extra>\",\"marker\":{\"color\":[\"rgb(55, 15, 189)\",\"rgb(59, 146, 123)\",\"rgb(251, 111, 235)\",\"rgb(197, 117, 164)\",\"rgb(170, 209, 149)\",\"rgb(66, 15, 109)\",\"rgb(202, 171, 175)\",\"rgb(4, 233, 148)\",\"rgb(251, 101, 90)\",\"rgb(66, 45, 73)\"]},\"orientation\":\"h\",\"textangle\":0,\"textposition\":\"outside\",\"texttemplate\":\"%{y}<br>%{x:.4s}\",\"x\":[36795.0,37551.0,38031.0,48109.0,56910.0,60236.0,65394.0,88962.8,103242.0,123780.1],\"y\":[\"ChevronTexaco\",\"Texaco\",\"DuPont\",\"Altria Group\",\"Mobil\",\"General Electric\",\"Intl. Business Machines\",\"Ford Motor\",\"Exxon Mobil\",\"General Motors\"],\"type\":\"bar\"}],\"layout\":{\"bargap\":0.15,\"font\":{\"size\":14},\"plot_bgcolor\":\"#FFFFFF\",\"title\":{\"text\":\"5 top Companies by Revenue for each Decade\"},\"xaxis\":{\"range\":[0,288189.0],\"showline\":true,\"visible\":true},\"yaxis\":{\"showline\":false,\"visible\":true}},\"name\":\"1992\"},{\"data\":[{\"cliponaxis\":false,\"hoverinfo\":\"all\",\"hovertemplate\":\"<extra></extra>\",\"marker\":{\"color\":[\"rgb(59, 146, 123)\",\"rgb(251, 111, 235)\",\"rgb(55, 15, 189)\",\"rgb(197, 117, 164)\",\"rgb(170, 209, 149)\",\"rgb(66, 15, 109)\",\"rgb(202, 171, 175)\",\"rgb(4, 233, 148)\",\"rgb(251, 101, 90)\",\"rgb(66, 45, 73)\"]},\"orientation\":\"h\",\"textangle\":0,\"textposition\":\"outside\",\"texttemplate\":\"%{y}<br>%{x:.4s}\",\"x\":[37130.0,37386.0,38523.0,50157.0,57389.0,62202.0,65096.0,100785.6,103547.0,132774.9],\"y\":[\"Texaco\",\"DuPont\",\"ChevronTexaco\",\"Altria Group\",\"Mobil\",\"General Electric\",\"Intl. Business Machines\",\"Ford Motor\",\"Exxon Mobil\",\"General Motors\"],\"type\":\"bar\"}],\"layout\":{\"bargap\":0.15,\"font\":{\"size\":14},\"plot_bgcolor\":\"#FFFFFF\",\"title\":{\"text\":\"5 top Companies by Revenue for each Decade\"},\"xaxis\":{\"range\":[0,288189.0],\"showline\":true,\"visible\":true},\"yaxis\":{\"showline\":false,\"visible\":true}},\"name\":\"1993\"},{\"data\":[{\"cliponaxis\":false,\"hoverinfo\":\"all\",\"hovertemplate\":\"<extra></extra>\",\"marker\":{\"color\":[\"rgb(251, 111, 235)\",\"rgb(59, 146, 123)\",\"rgb(37, 41, 207)\",\"rgb(197, 117, 164)\",\"rgb(170, 209, 149)\",\"rgb(66, 15, 109)\",\"rgb(202, 171, 175)\",\"rgb(251, 101, 90)\",\"rgb(4, 233, 148)\",\"rgb(66, 45, 73)\"]},\"orientation\":\"h\",\"textangle\":0,\"textposition\":\"outside\",\"texttemplate\":\"%{y}<br>%{x:.4s}\",\"x\":[32621.0,34359.0,43600.0,50621.0,56576.0,60823.0,62716.0,97825.0,108521.0,133621.9],\"y\":[\"DuPont\",\"Texaco\",\"Chrysler\",\"Altria Group\",\"Mobil\",\"General Electric\",\"Intl. Business Machines\",\"Exxon Mobil\",\"Ford Motor\",\"General Motors\"],\"type\":\"bar\"}],\"layout\":{\"bargap\":0.15,\"font\":{\"size\":14},\"plot_bgcolor\":\"#FFFFFF\",\"title\":{\"text\":\"5 top Companies by Revenue for each Decade\"},\"xaxis\":{\"range\":[0,288189.0],\"showline\":true,\"visible\":true},\"yaxis\":{\"showline\":false,\"visible\":true}},\"name\":\"1994\"},{\"data\":[{\"cliponaxis\":false,\"hoverinfo\":\"all\",\"hovertemplate\":\"<extra></extra>\",\"marker\":{\"color\":[\"rgb(197, 117, 164)\",\"rgb(229, 179, 85)\",\"rgb(170, 209, 149)\",\"rgb(202, 171, 175)\",\"rgb(66, 15, 109)\",\"rgb(185, 157, 136)\",\"rgb(160, 132, 229)\",\"rgb(251, 101, 90)\",\"rgb(4, 233, 148)\",\"rgb(66, 45, 73)\"]},\"orientation\":\"h\",\"textangle\":0,\"textposition\":\"outside\",\"texttemplate\":\"%{y}<br>%{x:.4s}\",\"x\":[53776.0,54559.0,59621.0,64052.0,64687.0,75094.0,83412.4,101459.0,128439.0,154951.2],\"y\":[\"Altria Group\",\"Sears Roebuck\",\"Mobil\",\"Intl. Business Machines\",\"General Electric\",\"AT&T\",\"Wal-Mart Stores\",\"Exxon Mobil\",\"Ford Motor\",\"General Motors\"],\"type\":\"bar\"}],\"layout\":{\"bargap\":0.15,\"font\":{\"size\":14},\"plot_bgcolor\":\"#FFFFFF\",\"title\":{\"text\":\"5 top Companies by Revenue for each Decade\"},\"xaxis\":{\"range\":[0,288189.0],\"showline\":true,\"visible\":true},\"yaxis\":{\"showline\":false,\"visible\":true}},\"name\":\"1995\"},{\"data\":[{\"cliponaxis\":false,\"hoverinfo\":\"all\",\"hovertemplate\":\"<extra></extra>\",\"marker\":{\"color\":[\"rgb(197, 117, 164)\",\"rgb(37, 41, 207)\",\"rgb(170, 209, 149)\",\"rgb(66, 15, 109)\",\"rgb(202, 171, 175)\",\"rgb(185, 157, 136)\",\"rgb(160, 132, 229)\",\"rgb(251, 101, 90)\",\"rgb(4, 233, 148)\",\"rgb(66, 45, 73)\"]},\"orientation\":\"h\",\"textangle\":0,\"textposition\":\"outside\",\"texttemplate\":\"%{y}<br>%{x:.4s}\",\"x\":[53139.0,53195.0,66724.0,70028.0,71940.0,79609.0,93627.0,110009.0,137137.0,168828.6],\"y\":[\"Altria Group\",\"Chrysler\",\"Mobil\",\"General Electric\",\"Intl. Business Machines\",\"AT&T\",\"Wal-Mart Stores\",\"Exxon Mobil\",\"Ford Motor\",\"General Motors\"],\"type\":\"bar\"}],\"layout\":{\"bargap\":0.15,\"font\":{\"size\":14},\"plot_bgcolor\":\"#FFFFFF\",\"title\":{\"text\":\"5 top Companies by Revenue for each Decade\"},\"xaxis\":{\"range\":[0,288189.0],\"showline\":true,\"visible\":true},\"yaxis\":{\"showline\":false,\"visible\":true}},\"name\":\"1996\"},{\"data\":[{\"cliponaxis\":false,\"hoverinfo\":\"all\",\"hovertemplate\":\"<extra></extra>\",\"marker\":{\"color\":[\"rgb(197, 117, 164)\",\"rgb(37, 41, 207)\",\"rgb(170, 209, 149)\",\"rgb(185, 157, 136)\",\"rgb(202, 171, 175)\",\"rgb(66, 15, 109)\",\"rgb(160, 132, 229)\",\"rgb(251, 101, 90)\",\"rgb(4, 233, 148)\",\"rgb(66, 45, 73)\"]},\"orientation\":\"h\",\"textangle\":0,\"textposition\":\"outside\",\"texttemplate\":\"%{y}<br>%{x:.4s}\",\"x\":[54553.0,61397.0,72267.0,74525.0,75947.0,79179.0,106147.0,119434.0,146991.0,168369.0],\"y\":[\"Altria Group\",\"Chrysler\",\"Mobil\",\"AT&T\",\"Intl. Business Machines\",\"General Electric\",\"Wal-Mart Stores\",\"Exxon Mobil\",\"Ford Motor\",\"General Motors\"],\"type\":\"bar\"}],\"layout\":{\"bargap\":0.15,\"font\":{\"size\":14},\"plot_bgcolor\":\"#FFFFFF\",\"title\":{\"text\":\"5 top Companies by Revenue for each Decade\"},\"xaxis\":{\"range\":[0,288189.0],\"showline\":true,\"visible\":true},\"yaxis\":{\"showline\":false,\"visible\":true}},\"name\":\"1997\"},{\"data\":[{\"cliponaxis\":false,\"hoverinfo\":\"all\",\"hovertemplate\":\"<extra></extra>\",\"marker\":{\"color\":[\"rgb(185, 157, 136)\",\"rgb(197, 117, 164)\",\"rgb(170, 209, 149)\",\"rgb(37, 41, 207)\",\"rgb(202, 171, 175)\",\"rgb(66, 15, 109)\",\"rgb(160, 132, 229)\",\"rgb(251, 101, 90)\",\"rgb(4, 233, 148)\",\"rgb(66, 45, 73)\"]},\"orientation\":\"h\",\"textangle\":0,\"textposition\":\"outside\",\"texttemplate\":\"%{y}<br>%{x:.4s}\",\"x\":[53261.0,56114.0,59978.0,61147.0,78508.0,90840.0,119299.0,122379.0,153627.0,178174.0],\"y\":[\"AT&T\",\"Altria Group\",\"Mobil\",\"Chrysler\",\"Intl. Business Machines\",\"General Electric\",\"Wal-Mart Stores\",\"Exxon Mobil\",\"Ford Motor\",\"General Motors\"],\"type\":\"bar\"}],\"layout\":{\"bargap\":0.15,\"font\":{\"size\":14},\"plot_bgcolor\":\"#FFFFFF\",\"title\":{\"text\":\"5 top Companies by Revenue for each Decade\"},\"xaxis\":{\"range\":[0,288189.0],\"showline\":true,\"visible\":true},\"yaxis\":{\"showline\":false,\"visible\":true}},\"name\":\"1998\"},{\"data\":[{\"cliponaxis\":false,\"hoverinfo\":\"all\",\"hovertemplate\":\"<extra></extra>\",\"marker\":{\"color\":[\"rgb(185, 157, 136)\",\"rgb(115, 206, 84)\",\"rgb(197, 117, 164)\",\"rgb(48, 235, 131)\",\"rgb(202, 171, 175)\",\"rgb(66, 15, 109)\",\"rgb(251, 101, 90)\",\"rgb(160, 132, 229)\",\"rgb(4, 233, 148)\",\"rgb(66, 45, 73)\"]},\"orientation\":\"h\",\"textangle\":0,\"textposition\":\"outside\",\"texttemplate\":\"%{y}<br>%{x:.4s}\",\"x\":[53588.0,56154.0,57813.0,76431.0,81667.0,100469.0,100697.0,139208.0,144416.0,161315.0],\"y\":[\"AT&T\",\"Boeing\",\"Altria Group\",\"Citigroup\",\"Intl. Business Machines\",\"General Electric\",\"Exxon Mobil\",\"Wal-Mart Stores\",\"Ford Motor\",\"General Motors\"],\"type\":\"bar\"}],\"layout\":{\"bargap\":0.15,\"font\":{\"size\":14},\"plot_bgcolor\":\"#FFFFFF\",\"title\":{\"text\":\"5 top Companies by Revenue for each Decade\"},\"xaxis\":{\"range\":[0,288189.0],\"showline\":true,\"visible\":true},\"yaxis\":{\"showline\":false,\"visible\":true}},\"name\":\"1999\"},{\"data\":[{\"cliponaxis\":false,\"hoverinfo\":\"all\",\"hovertemplate\":\"<extra></extra>\",\"marker\":{\"color\":[\"rgb(115, 206, 84)\",\"rgb(197, 117, 164)\",\"rgb(185, 157, 136)\",\"rgb(48, 235, 131)\",\"rgb(202, 171, 175)\",\"rgb(66, 15, 109)\",\"rgb(4, 233, 148)\",\"rgb(251, 101, 90)\",\"rgb(160, 132, 229)\",\"rgb(66, 45, 73)\"]},\"orientation\":\"h\",\"textangle\":0,\"textposition\":\"outside\",\"texttemplate\":\"%{y}<br>%{x:.4s}\",\"x\":[57993.0,61751.0,62391.0,82005.0,87548.0,111630.0,162558.0,163881.0,166809.0,189058.0],\"y\":[\"Boeing\",\"Altria Group\",\"AT&T\",\"Citigroup\",\"Intl. Business Machines\",\"General Electric\",\"Ford Motor\",\"Exxon Mobil\",\"Wal-Mart Stores\",\"General Motors\"],\"type\":\"bar\"}],\"layout\":{\"bargap\":0.15,\"font\":{\"size\":14},\"plot_bgcolor\":\"#FFFFFF\",\"title\":{\"text\":\"5 top Companies by Revenue for each Decade\"},\"xaxis\":{\"range\":[0,288189.0],\"showline\":true,\"visible\":true},\"yaxis\":{\"showline\":false,\"visible\":true}},\"name\":\"2000\"},{\"data\":[{\"cliponaxis\":false,\"hoverinfo\":\"all\",\"hovertemplate\":\"<extra></extra>\",\"marker\":{\"color\":[\"rgb(177, 210, 225)\",\"rgb(185, 157, 136)\",\"rgb(202, 171, 175)\",\"rgb(239, 168, 240)\",\"rgb(48, 235, 131)\",\"rgb(66, 15, 109)\",\"rgb(4, 233, 148)\",\"rgb(66, 45, 73)\",\"rgb(160, 132, 229)\",\"rgb(251, 101, 90)\"]},\"orientation\":\"h\",\"textangle\":0,\"textposition\":\"outside\",\"texttemplate\":\"%{y}<br>%{x:.4s}\",\"x\":[64707.0,65981.0,88396.0,100789.0,111826.0,129853.0,180598.0,184632.0,193295.0,210392.0],\"y\":[\"Verizon Communications\",\"AT&T\",\"Intl. Business Machines\",\"Enron\",\"Citigroup\",\"General Electric\",\"Ford Motor\",\"General Motors\",\"Wal-Mart Stores\",\"Exxon Mobil\"],\"type\":\"bar\"}],\"layout\":{\"bargap\":0.15,\"font\":{\"size\":14},\"plot_bgcolor\":\"#FFFFFF\",\"title\":{\"text\":\"5 top Companies by Revenue for each Decade\"},\"xaxis\":{\"range\":[0,288189.0],\"showline\":true,\"visible\":true},\"yaxis\":{\"showline\":false,\"visible\":true}},\"name\":\"2001\"},{\"data\":[{\"cliponaxis\":false,\"hoverinfo\":\"all\",\"hovertemplate\":\"<extra></extra>\",\"marker\":{\"color\":[\"rgb(197, 117, 164)\",\"rgb(202, 171, 175)\",\"rgb(55, 15, 189)\",\"rgb(48, 235, 131)\",\"rgb(66, 15, 109)\",\"rgb(239, 168, 240)\",\"rgb(4, 233, 148)\",\"rgb(66, 45, 73)\",\"rgb(251, 101, 90)\",\"rgb(160, 132, 229)\"]},\"orientation\":\"h\",\"textangle\":0,\"textposition\":\"outside\",\"texttemplate\":\"%{y}<br>%{x:.4s}\",\"x\":[72944.0,85866.0,99699.0,112022.0,125913.0,138718.0,162412.0,177260.0,191581.0,219812.0],\"y\":[\"Altria Group\",\"Intl. Business Machines\",\"ChevronTexaco\",\"Citigroup\",\"General Electric\",\"Enron\",\"Ford Motor\",\"General Motors\",\"Exxon Mobil\",\"Wal-Mart Stores\"],\"type\":\"bar\"}],\"layout\":{\"bargap\":0.15,\"font\":{\"size\":14},\"plot_bgcolor\":\"#FFFFFF\",\"title\":{\"text\":\"5 top Companies by Revenue for each Decade\"},\"xaxis\":{\"range\":[0,288189.0],\"showline\":true,\"visible\":true},\"yaxis\":{\"showline\":false,\"visible\":true}},\"name\":\"2002\"},{\"data\":[{\"cliponaxis\":false,\"hoverinfo\":\"all\",\"hovertemplate\":\"<extra></extra>\",\"marker\":{\"color\":[\"rgb(177, 210, 225)\",\"rgb(245, 244, 232)\",\"rgb(202, 171, 175)\",\"rgb(55, 15, 189)\",\"rgb(48, 235, 131)\",\"rgb(66, 15, 109)\",\"rgb(4, 233, 148)\",\"rgb(251, 101, 90)\",\"rgb(66, 45, 73)\",\"rgb(160, 132, 229)\"]},\"orientation\":\"h\",\"textangle\":0,\"textposition\":\"outside\",\"texttemplate\":\"%{y}<br>%{x:.4s}\",\"x\":[67625.0,67722.8,83132.0,92043.0,100789.0,131698.0,163630.0,182466.0,186763.0,246525.0],\"y\":[\"Verizon Communications\",\"American Intl. Group\",\"Intl. Business Machines\",\"ChevronTexaco\",\"Citigroup\",\"General Electric\",\"Ford Motor\",\"Exxon Mobil\",\"General Motors\",\"Wal-Mart Stores\"],\"type\":\"bar\"}],\"layout\":{\"bargap\":0.15,\"font\":{\"size\":14},\"plot_bgcolor\":\"#FFFFFF\",\"title\":{\"text\":\"5 top Companies by Revenue for each Decade\"},\"xaxis\":{\"range\":[0,288189.0],\"showline\":true,\"visible\":true},\"yaxis\":{\"showline\":false,\"visible\":true}},\"name\":\"2003\"},{\"data\":[{\"cliponaxis\":false,\"hoverinfo\":\"all\",\"hovertemplate\":\"<extra></extra>\",\"marker\":{\"color\":[\"rgb(245, 244, 232)\",\"rgb(202, 171, 175)\",\"rgb(48, 235, 131)\",\"rgb(104, 183, 165)\",\"rgb(55, 15, 189)\",\"rgb(66, 15, 109)\",\"rgb(4, 233, 148)\",\"rgb(66, 45, 73)\",\"rgb(251, 101, 90)\",\"rgb(160, 132, 229)\"]},\"orientation\":\"h\",\"textangle\":0,\"textposition\":\"outside\",\"texttemplate\":\"%{y}<br>%{x:.4s}\",\"x\":[81300.0,89131.0,94713.0,99468.0,112937.0,134187.0,164496.0,195645.2,213199.0,258681.0],\"y\":[\"American Intl. Group\",\"Intl. Business Machines\",\"Citigroup\",\"ConocoPhillips\",\"ChevronTexaco\",\"General Electric\",\"Ford Motor\",\"General Motors\",\"Exxon Mobil\",\"Wal-Mart Stores\"],\"type\":\"bar\"}],\"layout\":{\"bargap\":0.15,\"font\":{\"size\":14},\"plot_bgcolor\":\"#FFFFFF\",\"title\":{\"text\":\"5 top Companies by Revenue for each Decade\"},\"xaxis\":{\"range\":[0,288189.0],\"showline\":true,\"visible\":true},\"yaxis\":{\"showline\":false,\"visible\":true}},\"name\":\"2004\"},{\"data\":[{\"cliponaxis\":false,\"hoverinfo\":\"all\",\"hovertemplate\":\"<extra></extra>\",\"marker\":{\"color\":[\"rgb(202, 171, 175)\",\"rgb(245, 244, 232)\",\"rgb(48, 235, 131)\",\"rgb(104, 183, 165)\",\"rgb(55, 15, 189)\",\"rgb(66, 15, 109)\",\"rgb(4, 233, 148)\",\"rgb(66, 45, 73)\",\"rgb(251, 101, 90)\",\"rgb(160, 132, 229)\"]},\"orientation\":\"h\",\"textangle\":0,\"textposition\":\"outside\",\"texttemplate\":\"%{y}<br>%{x:.4s}\",\"x\":[96293.0,98610.0,108276.0,121663.0,147967.0,152363.0,172233.0,193517.0,270772.0,288189.0],\"y\":[\"Intl. Business Machines\",\"American Intl. Group\",\"Citigroup\",\"ConocoPhillips\",\"ChevronTexaco\",\"General Electric\",\"Ford Motor\",\"General Motors\",\"Exxon Mobil\",\"Wal-Mart Stores\"],\"type\":\"bar\"}],\"layout\":{\"bargap\":0.15,\"font\":{\"size\":14},\"plot_bgcolor\":\"#FFFFFF\",\"title\":{\"text\":\"5 top Companies by Revenue for each Decade\"},\"xaxis\":{\"range\":[0,288189.0],\"showline\":true,\"visible\":true},\"yaxis\":{\"showline\":false,\"visible\":true}},\"name\":\"2005\"}]);\n",
       "                        }).then(function(){\n",
       "                            \n",
       "var gd = document.getElementById('9c02b009-1291-4b72-815c-1fab57e67599');\n",
       "var x = new MutationObserver(function (mutations, observer) {{\n",
       "        var display = window.getComputedStyle(gd).display;\n",
       "        if (!display || display === 'none') {{\n",
       "            console.log([gd, 'removed!']);\n",
       "            Plotly.purge(gd);\n",
       "            observer.disconnect();\n",
       "        }}\n",
       "}});\n",
       "\n",
       "// Listen for the removal of the full notebook cells\n",
       "var notebookContainer = gd.closest('#notebook-container');\n",
       "if (notebookContainer) {{\n",
       "    x.observe(notebookContainer, {childList: true});\n",
       "}}\n",
       "\n",
       "// Listen for the clearing of the current output cell\n",
       "var outputEl = gd.closest('.output');\n",
       "if (outputEl) {{\n",
       "    x.observe(outputEl, {childList: true});\n",
       "}}\n",
       "\n",
       "                        })                };                });            </script>        </div>"
      ]
     },
     "metadata": {},
     "output_type": "display_data"
    }
   ],
   "source": [
    "my_raceplot = barplot(df,\n",
    "                      item_column='Company',\n",
    "                      value_column='Revenue (in millions)',\n",
    "                      time_column='Year')\n",
    "\n",
    "my_raceplot.plot(title = '5 top Companies by Revenue for each Decade',\n",
    "                 item_label = 'Companies',\n",
    "                 value_label = 'Revenue (in millions)',\n",
    "                 frame_duration = 800)"
   ]
  }
 ],
 "metadata": {
  "kernelspec": {
   "display_name": "Python 3 (ipykernel)",
   "language": "python",
   "name": "python3"
  },
  "language_info": {
   "codemirror_mode": {
    "name": "ipython",
    "version": 3
   },
   "file_extension": ".py",
   "mimetype": "text/x-python",
   "name": "python",
   "nbconvert_exporter": "python",
   "pygments_lexer": "ipython3",
   "version": "3.9.12"
  }
 },
 "nbformat": 4,
 "nbformat_minor": 5
}
